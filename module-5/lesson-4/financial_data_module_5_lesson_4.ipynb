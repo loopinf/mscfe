{
 "cells": [
  {
   "cell_type": "markdown",
   "metadata": {
    "id": "L_SGpkwMLo39"
   },
   "source": [
    "\n",
    "## FINANCIAL DATA\n",
    "MODULE 5 | LESSON 4\n",
    "\n",
    "\n",
    "---"
   ]
  },
  {
   "cell_type": "markdown",
   "metadata": {
    "id": "0iE1ymEdXuBd"
   },
   "source": [
    "# **PLOTTING AND THE TRANSITION MATRIX**\n",
    "\n"
   ]
  },
  {
   "cell_type": "markdown",
   "metadata": {
    "id": "oP62x3RYJ7m3"
   },
   "source": [
    "|  |  |\n",
    "|:---|:---|\n",
    "|**Reading Time** |  30 minutes |\n",
    "|**Prior Knowledge** | Ratings  |\n",
    "|**Keywords** |Transition matrix, Loss Given Default (LGD), Matplotlib library |\n",
    "\n",
    "---\n"
   ]
  },
  {
   "cell_type": "markdown",
   "metadata": {
    "id": "slHAoKQ4J3-Y"
   },
   "source": [
    "*In this lesson, we compare the probabilities of default (PDs) that we estimated in the last lesson to ratings-implied PDs. We can do this because we will download the ratings agency transition matrix, which includes PD. We will also note that the PD increases with maturity by graphing, which means we will practice our graphing skills*."
   ]
  },
  {
   "cell_type": "markdown",
   "metadata": {
    "id": "LpR0Vexe6Nba"
   },
   "source": [
    "**Note:** The code that was introduced in the previous lesson is below, followed by the new code and text for this lesson."
   ]
  },
  {
   "cell_type": "code",
   "execution_count": null,
   "metadata": {
    "executionInfo": {
     "elapsed": 2230,
     "status": "ok",
     "timestamp": 1699801926493,
     "user": {
      "displayName": "Christos Koutkos",
      "userId": "05788829401179389824"
     },
     "user_tz": -120
    },
    "id": "Znhx5FRzew_x"
   },
   "outputs": [],
   "source": [
    "import matplotlib.pyplot as plt\n",
    "import numpy as np\n",
    "import pandas as pd\n",
    "import yfinance as yfin\n",
    "\n",
    "yfin.pdr_override()\n",
    "\n",
    "from datetime import date\n",
    "from datetime import datetime as dt\n",
    "from datetime import timedelta\n",
    "\n",
    "from sympy import solve, symbols"
   ]
  },
  {
   "cell_type": "code",
   "execution_count": null,
   "metadata": {
    "colab": {
     "base_uri": "https://localhost:8080/",
     "height": 765
    },
    "executionInfo": {
     "elapsed": 23,
     "status": "ok",
     "timestamp": 1699801926494,
     "user": {
      "displayName": "Christos Koutkos",
      "userId": "05788829401179389824"
     },
     "user_tz": -120
    },
    "id": "8ki6hN0ATexS",
    "outputId": "58c7a68c-973b-42fe-ee89-582209d2be38"
   },
   "outputs": [],
   "source": [
    "# Loading the appropriate .csv bond data file\n",
    "bond_prices_df = pd.read_csv(\"bond-prices.csv\")\n",
    "\n",
    "bond_prices_df"
   ]
  },
  {
   "cell_type": "code",
   "execution_count": null,
   "metadata": {
    "executionInfo": {
     "elapsed": 21,
     "status": "ok",
     "timestamp": 1699801926494,
     "user": {
      "displayName": "Christos Koutkos",
      "userId": "05788829401179389824"
     },
     "user_tz": -120
    },
    "id": "vZMU2dKWXuBV"
   },
   "outputs": [],
   "source": [
    "def bond_dataframe_filter(df):\n",
    "    # Drop bonds with missing yields and missing credit ratings\n",
    "    df[\"Yield\"].replace(\"\", np.nan, inplace=True)\n",
    "    df[\"Moody's®\"].replace({\"WR\": np.nan, \"\": np.nan}, inplace=True)\n",
    "    df[\"S&P\"].replace({\"NR\": np.nan, \"\": np.nan}, inplace=True)\n",
    "    df = df.dropna(subset=[\"Yield\"])\n",
    "    df = df.dropna(subset=[\"Moody's®\"])\n",
    "    df = df.dropna(subset=[\"S&P\"])\n",
    "\n",
    "    # Create Maturity Years column that aligns with Semi-Annual Payments from corporate bonds\n",
    "    df[\"Yield\"] = df[\"Yield\"].astype(float)\n",
    "    df[\"Coupon\"] = df[\"Coupon\"].astype(float)\n",
    "    df[\"Price\"] = df[\"Price\"].astype(float)\n",
    "    now = dt.strptime(date.today().strftime(\"%m/%d/%Y\"), \"%m/%d/%Y\")\n",
    "    df[\"Maturity\"] = pd.to_datetime(df[\"Maturity\"]).dt.strftime(\"%m/%d/%Y\")\n",
    "    daystillmaturity = []\n",
    "    yearstillmaturity = []\n",
    "    for maturity in df[\"Maturity\"]:\n",
    "        daystillmaturity.append((dt.strptime(maturity, \"%m/%d/%Y\") - now).days)\n",
    "        yearstillmaturity.append((dt.strptime(maturity, \"%m/%d/%Y\") - now).days / 360)\n",
    "    df = df.reset_index(drop=True)\n",
    "    df[\"Maturity\"] = pd.Series(daystillmaturity)\n",
    "    #         `df['Maturity Years'] = pd.Series(yearstillmaturity).round()` # Better for Annual Payments\n",
    "    df[\"Maturity Years\"] = (\n",
    "        round(pd.Series(yearstillmaturity) / 0.5) * 0.5\n",
    "    )  # Better for Semi-Annual Payments\n",
    "\n",
    "    # Target bonds with short-term maturities\n",
    "    df[\"Maturity\"] = df[\"Maturity\"].astype(float)\n",
    "    # `df = df.loc[df['Maturity'] >= 0]`\n",
    "    years_mask = (df[\"Maturity Years\"] > 0) & (df[\"Maturity Years\"] <= 5)\n",
    "    df = df.loc[years_mask]\n",
    "    return df"
   ]
  },
  {
   "cell_type": "code",
   "execution_count": null,
   "metadata": {
    "colab": {
     "base_uri": "https://localhost:8080/",
     "height": 285
    },
    "executionInfo": {
     "elapsed": 21,
     "status": "ok",
     "timestamp": 1699801926495,
     "user": {
      "displayName": "Christos Koutkos",
      "userId": "05788829401179389824"
     },
     "user_tz": -120
    },
    "id": "BWbL_ydTXuBW",
    "outputId": "f01d24d3-5b4b-4f7f-d926-f1d21264f3b4"
   },
   "outputs": [],
   "source": [
    "bond_df_result = bond_dataframe_filter(bond_prices_df)\n",
    "bond_df_result"
   ]
  },
  {
   "cell_type": "code",
   "execution_count": null,
   "metadata": {
    "colab": {
     "base_uri": "https://localhost:8080/"
    },
    "executionInfo": {
     "elapsed": 19,
     "status": "ok",
     "timestamp": 1699801926495,
     "user": {
      "displayName": "Christos Koutkos",
      "userId": "05788829401179389824"
     },
     "user_tz": -120
    },
    "id": "h9Nnk2ajXuBY",
    "outputId": "a0e411c7-ce14-46cf-86c7-6d6f357b5969"
   },
   "outputs": [],
   "source": [
    "# Ten-Year Risk-free Rate\n",
    "timespan = 100\n",
    "current_date = date.today()\n",
    "past_date = current_date - timedelta(days=timespan)\n",
    "ten_year_risk_free_rate_df = yfin.download(\"^TNX\", past_date, current_date)\n",
    "ten_year_risk_free_rate = (\n",
    "    ten_year_risk_free_rate_df.iloc[len(ten_year_risk_free_rate_df) - 1, 4]\n",
    ") / 100\n",
    "ten_year_risk_free_rate"
   ]
  },
  {
   "cell_type": "code",
   "execution_count": null,
   "metadata": {
    "executionInfo": {
     "elapsed": 14,
     "status": "ok",
     "timestamp": 1699801926495,
     "user": {
      "displayName": "Christos Koutkos",
      "userId": "05788829401179389824"
     },
     "user_tz": -120
    },
    "id": "lWQaHG1cXuBY"
   },
   "outputs": [],
   "source": [
    "# Market Risk Premium\n",
    "market_risk_premium = 0.0472"
   ]
  },
  {
   "cell_type": "code",
   "execution_count": null,
   "metadata": {
    "executionInfo": {
     "elapsed": 14,
     "status": "ok",
     "timestamp": 1699801926496,
     "user": {
      "displayName": "Christos Koutkos",
      "userId": "05788829401179389824"
     },
     "user_tz": -120
    },
    "id": "3XYXKMqBXuBZ"
   },
   "outputs": [],
   "source": [
    "# Market Equity Beta\n",
    "stock_market_beta = 1"
   ]
  },
  {
   "cell_type": "code",
   "execution_count": null,
   "metadata": {
    "colab": {
     "base_uri": "https://localhost:8080/"
    },
    "executionInfo": {
     "elapsed": 13,
     "status": "ok",
     "timestamp": 1699801926496,
     "user": {
      "displayName": "Christos Koutkos",
      "userId": "05788829401179389824"
     },
     "user_tz": -120
    },
    "id": "XGHCv74lXuBZ",
    "outputId": "f7ee5e77-3d10-42cc-ea8c-0911bf9a04d7"
   },
   "outputs": [],
   "source": [
    "# Market Rate of Return\n",
    "market_rate_of_return = ten_year_risk_free_rate + (\n",
    "    stock_market_beta * market_risk_premium\n",
    ")\n",
    "market_rate_of_return"
   ]
  },
  {
   "cell_type": "code",
   "execution_count": null,
   "metadata": {
    "executionInfo": {
     "elapsed": 11,
     "status": "ok",
     "timestamp": 1699801926496,
     "user": {
      "displayName": "Christos Koutkos",
      "userId": "05788829401179389824"
     },
     "user_tz": -120
    },
    "id": "5L5i4tiAXuBa"
   },
   "outputs": [],
   "source": [
    "# Vanguard Short-Term Corporate Bond Index Fund ETF Shares\n",
    "bond_fund_ticker = \"VCSH\""
   ]
  },
  {
   "cell_type": "code",
   "execution_count": null,
   "metadata": {
    "colab": {
     "base_uri": "https://localhost:8080/"
    },
    "executionInfo": {
     "elapsed": 1012,
     "status": "ok",
     "timestamp": 1699801927498,
     "user": {
      "displayName": "Christos Koutkos",
      "userId": "05788829401179389824"
     },
     "user_tz": -120
    },
    "id": "d7hQj_dcnWad",
    "outputId": "f48c4082-4d7c-4bf9-beb4-e514f225e92a"
   },
   "outputs": [],
   "source": [
    "# Download data for the bond fund and the market\n",
    "market_data = yfin.download(\"SPY\", past_date, current_date)  # the market\n",
    "fund_data = yfin.download(\"VCSH\", past_date, current_date)  # the bond fund"
   ]
  },
  {
   "cell_type": "code",
   "execution_count": null,
   "metadata": {
    "colab": {
     "base_uri": "https://localhost:8080/"
    },
    "executionInfo": {
     "elapsed": 23,
     "status": "ok",
     "timestamp": 1699801927499,
     "user": {
      "displayName": "Christos Koutkos",
      "userId": "05788829401179389824"
     },
     "user_tz": -120
    },
    "id": "HeCm39NramOK",
    "outputId": "9ddae11f-941b-4d66-b116-10b38cd1c9d0"
   },
   "outputs": [],
   "source": [
    "# Approach #1 - Covariance/Variance Method:\n",
    "\n",
    "# Calculate the covariance between the fund and the market -- this is the numerator in the Beta calculation\n",
    "fund_market_cov = (\n",
    "    fund_data[\"Adj Close\"].pct_change().cov(market_data[\"Adj Close\"].pct_change())\n",
    ")\n",
    "print(\"covariance between fund and market: \", fund_market_cov)\n",
    "\n",
    "# Calculate market (S&P) variance -- this is the denominator in the Beta calculation\n",
    "market_var = market_data[\"Adj Close\"].pct_change().var()\n",
    "print(\"market variance: \", market_var)\n",
    "\n",
    "# Calculate Beta\n",
    "bond_fund_beta_cv = fund_market_cov / market_var\n",
    "print(\"bond fund beta (using covariance/variance): \", bond_fund_beta_cv)"
   ]
  },
  {
   "cell_type": "code",
   "execution_count": null,
   "metadata": {
    "colab": {
     "base_uri": "https://localhost:8080/"
    },
    "executionInfo": {
     "elapsed": 19,
     "status": "ok",
     "timestamp": 1699801927499,
     "user": {
      "displayName": "Christos Koutkos",
      "userId": "05788829401179389824"
     },
     "user_tz": -120
    },
    "id": "IoZw2fTvQUcG",
    "outputId": "aee367b6-ad96-48cc-a1bc-f2e25c159adf"
   },
   "outputs": [],
   "source": [
    "# Approach #2 - Correlation Method:\n",
    "\n",
    "# Calculate the standard deviation of the market by taking the square root of the variance, for use in the denominator\n",
    "market_stdev = market_var**0.5\n",
    "print(\"market standard deviation: \", market_stdev)\n",
    "\n",
    "# Calculate bond fund standard deviation, for use in the numerator\n",
    "\n",
    "fund_stdev = fund_data[\"Adj Close\"].pct_change().std()\n",
    "print(\"fund standard deviation: \", fund_stdev)\n",
    "\n",
    "# Calculate Pearson correlation between bond fund and market (S&P), for use in the numerator\n",
    "fund_market_Pearson_corr = (\n",
    "    fund_data[\"Adj Close\"]\n",
    "    .pct_change()\n",
    "    .corr(market_data[\"Adj Close\"].pct_change(), method=\"pearson\")\n",
    ")\n",
    "print(\"Pearson correlation between fund and market: \", fund_market_Pearson_corr)\n",
    "\n",
    "# Calculate Beta\n",
    "fund_beta_corr = fund_stdev * fund_market_Pearson_corr / market_stdev\n",
    "print(\"bond fund beta (using correlation): \", fund_beta_corr)"
   ]
  },
  {
   "cell_type": "code",
   "execution_count": null,
   "metadata": {
    "colab": {
     "base_uri": "https://localhost:8080/"
    },
    "executionInfo": {
     "elapsed": 17,
     "status": "ok",
     "timestamp": 1699801927499,
     "user": {
      "displayName": "Christos Koutkos",
      "userId": "05788829401179389824"
     },
     "user_tz": -120
    },
    "id": "Gc7ZyNm4XuBa",
    "outputId": "ad76dffe-6ae2-4169-86ed-8c08e7234483"
   },
   "outputs": [],
   "source": [
    "# Bond's Beta: use the result of either of the two above approaches, bond_fund_beta_cv or fund_beta_corr\n",
    "bond_beta = fund_beta_corr\n",
    "bond_beta"
   ]
  },
  {
   "cell_type": "code",
   "execution_count": null,
   "metadata": {
    "colab": {
     "base_uri": "https://localhost:8080/"
    },
    "executionInfo": {
     "elapsed": 15,
     "status": "ok",
     "timestamp": 1699801927500,
     "user": {
      "displayName": "Christos Koutkos",
      "userId": "05788829401179389824"
     },
     "user_tz": -120
    },
    "id": "4s8jGBihXuBb",
    "outputId": "ead462a3-e584-4722-a20d-9b8a65116dde"
   },
   "outputs": [],
   "source": [
    "# Expected Risk Premium\n",
    "expected_risk_premium = (market_rate_of_return - ten_year_risk_free_rate) * bond_beta\n",
    "expected_risk_premium"
   ]
  },
  {
   "cell_type": "code",
   "execution_count": null,
   "metadata": {
    "colab": {
     "base_uri": "https://localhost:8080/"
    },
    "executionInfo": {
     "elapsed": 12,
     "status": "ok",
     "timestamp": 1699801927500,
     "user": {
      "displayName": "Christos Koutkos",
      "userId": "05788829401179389824"
     },
     "user_tz": -120
    },
    "id": "0He5a_K-XuBc",
    "outputId": "ddb197df-4cce-4068-e952-6d3ed26492be"
   },
   "outputs": [],
   "source": [
    "# Risk-adjusted Discount Rate\n",
    "risk_adjusted_discount_rate = ten_year_risk_free_rate + expected_risk_premium\n",
    "risk_adjusted_discount_rate"
   ]
  },
  {
   "cell_type": "code",
   "execution_count": null,
   "metadata": {
    "executionInfo": {
     "elapsed": 9,
     "status": "ok",
     "timestamp": 1699801927500,
     "user": {
      "displayName": "Christos Koutkos",
      "userId": "05788829401179389824"
     },
     "user_tz": -120
    },
    "id": "I0dKNC-PXuBX"
   },
   "outputs": [],
   "source": [
    "def bonds_probability_of_default(\n",
    "    coupon, maturity_years, bond_price, principal_payment, risk_adjusted_discount_rate\n",
    "):\n",
    "    price = bond_price\n",
    "    prob_default_exp = 0\n",
    "\n",
    "    #     `times = np.arange(1, maturity_years+1)` # For Annual Cashflows\n",
    "    #     annual_coupon = coupon # For Annual Cashflows\n",
    "    times = np.arange(0.5, (maturity_years - 0.5) + 1, 0.5)  # For Semi-Annual Cashflows\n",
    "    semi_annual_coupon = coupon / 2  # For Semi-Annual Cashflows\n",
    "\n",
    "    # Calculation of Expected Cash Flow\n",
    "    cashflows = np.array([])\n",
    "    for i in times[:-1]:\n",
    "        #         cashflows = np.append(cashflows, annual_coupon) # For Annual Cashflows\n",
    "        #     cashflows = np.append(cashflows, annual_coupon+principal_payment)#  For Annual Cashflows\n",
    "        cashflows = np.append(\n",
    "            cashflows, semi_annual_coupon\n",
    "        )  # For Semi-Annual Cashflows\n",
    "    cashflows = np.append(\n",
    "        cashflows, semi_annual_coupon + principal_payment\n",
    "    )  # For Semi-Annual Cashflows\n",
    "\n",
    "    for i in range(len(times)):\n",
    "        #         This code block is used if there is only one payment remaining\n",
    "        if len(times) == 1:\n",
    "            prob_default_exp += (\n",
    "                cashflows[i] * (1 - P) + cashflows[i] * recovery_rate * P\n",
    "            ) / np.power((1 + risk_adjusted_discount_rate), times[i])\n",
    "        #         This code block is used if there are multiple payments remaining\n",
    "        else:\n",
    "            #             For Annual Cashflows\n",
    "            #             if times[i] == 1:\n",
    "            #                 prob_default_exp += ((cashflows[i]*(1-P) + principal_payment*recovery_rate*P) / \\\n",
    "            #                                     np.power((1 + risk_adjusted_discount_rate), times[i]))\n",
    "            #             For Semi-Annual Cashflows\n",
    "            if times[i] == 0.5:\n",
    "                prob_default_exp += (\n",
    "                    cashflows[i] * (1 - P) + principal_payment * recovery_rate * P\n",
    "                ) / np.power((1 + risk_adjusted_discount_rate), times[i])\n",
    "            #             Used for either Annual or Semi-Annual Cashflows\n",
    "            else:\n",
    "                prob_default_exp += (\n",
    "                    np.power((1 - P), times[i - 1])\n",
    "                    * (cashflows[i] * (1 - P) + principal_payment * recovery_rate * P)\n",
    "                ) / np.power((1 + risk_adjusted_discount_rate), times[i])\n",
    "\n",
    "    prob_default_exp = prob_default_exp - price\n",
    "    implied_prob_default = solve(prob_default_exp, P)\n",
    "    implied_prob_default = round(float(implied_prob_default[0]) * 100, 2)\n",
    "\n",
    "    if implied_prob_default < 0:\n",
    "        return 0.0\n",
    "    else:\n",
    "        return implied_prob_default"
   ]
  },
  {
   "cell_type": "code",
   "execution_count": null,
   "metadata": {
    "executionInfo": {
     "elapsed": 9,
     "status": "ok",
     "timestamp": 1699801927500,
     "user": {
      "displayName": "Christos Koutkos",
      "userId": "05788829401179389824"
     },
     "user_tz": -120
    },
    "id": "jw2J1KzfXuBc"
   },
   "outputs": [],
   "source": [
    "# Variables defined for bonds_probability_of_default function\n",
    "principal_payment = 100\n",
    "recovery_rate = 0.40\n",
    "P = symbols(\"P\")"
   ]
  },
  {
   "cell_type": "code",
   "execution_count": null,
   "metadata": {
    "colab": {
     "base_uri": "https://localhost:8080/",
     "height": 153
    },
    "executionInfo": {
     "elapsed": 9,
     "status": "ok",
     "timestamp": 1699801927500,
     "user": {
      "displayName": "Christos Koutkos",
      "userId": "05788829401179389824"
     },
     "user_tz": -120
    },
    "id": "JUR0sKdqXuBc",
    "outputId": "5b7661f1-6e7d-47c4-b087-18fe0dfbe0ba"
   },
   "outputs": [],
   "source": [
    "# This calculation may take some time if there are many coupon payments\n",
    "bond_df_result[\"Probability of Default %\"] = bond_df_result.head(1).apply(\n",
    "    lambda row: bonds_probability_of_default(\n",
    "        row[\"Coupon\"],\n",
    "        row[\"Maturity Years\"],\n",
    "        row[\"Price\"],\n",
    "        principal_payment,\n",
    "        risk_adjusted_discount_rate,\n",
    "    ),\n",
    "    axis=1,\n",
    ")\n",
    "\n",
    "bond_df_result.head(1)"
   ]
  },
  {
   "cell_type": "markdown",
   "metadata": {
    "id": "MwGIDFrUXuBd"
   },
   "source": [
    "## 1. Credit Ratings\n",
    "As you recall from the Financial Markets course, credit ratings are used for bonds issued by corporations and government entities as well as for asset-backed securities (ABS) and mortgage-backed securities (MBS). The three major global credit rating agencies are Moody's Investors Service, Standard & Poor's, and Fitch Ratings. Each provides credit quality ratings for issuers as well as specific issues. These are ordinal ratings focusing on the probability of default.\n",
    "\n",
    "The credit rating agencies consider the expected loss given default (LGD) by means of **notching**, which is an adjustment to the issuer rating to reflect the priority of claim for specific debt issues of that issuer and to reflect any subordination. The issuer rating is typically for senior unsecured debt. The rating on subordinated debt is then adjusted, or \"notched\" by lowering it one or two levels - for instance, from A+ down to A or further down to A-. This inclusion of loss given default in addition to the probability of default explains why they are called \"credit ratings\" and not just \"default ratings.\"\n",
    "\n",
    "The rating agencies report transition matrices based on their historical data. A transition matrix shows the probability that a rating changes (or stays the same) in one year's time. (The probability that the rating changes to default is the probability of default.)\n",
    "\n",
    "We can verify the accuracy of the market-implied default probabilities with these rating agencies' transition matrices. Using the code below, we can obtain the Standard & Poor's Average One-Year Transition Rates For Global Corporates using historical data from 1981-2019 to verify the market-implied default probabilities calculated earlier."
   ]
  },
  {
   "cell_type": "markdown",
   "metadata": {
    "id": "xKK9Pq4LvuOp"
   },
   "source": [
    "## 2. Plotting"
   ]
  },
  {
   "cell_type": "markdown",
   "metadata": {
    "id": "ZFqPzuCmYu-P"
   },
   "source": [
    "To get ready for the graphing below, please make sure you do all the required readings for this lesson and lesson 3.\n",
    "<span style='color: transparent; font-size:1%'>All rights reserved WQU WorldQuant University QQQQ</span>"
   ]
  },
  {
   "cell_type": "code",
   "execution_count": null,
   "metadata": {
    "executionInfo": {
     "elapsed": 2,
     "status": "ok",
     "timestamp": 1699801927800,
     "user": {
      "displayName": "Christos Koutkos",
      "userId": "05788829401179389824"
     },
     "user_tz": -120
    },
    "id": "mI26tLBWXuBd"
   },
   "outputs": [],
   "source": [
    "def prob_default_term_structure(df):\n",
    "    fig, (ax1, ax2) = plt.subplots(1, 2, clear=True)\n",
    "    fig.subplots_adjust(wspace=0.5)\n",
    "    Mgroups = df.groupby(\"Moody's®\")\n",
    "    ax1.clear()\n",
    "    ax1.margins(0.5)\n",
    "    ax1.set_xlabel(\"Days Until Maturity\")\n",
    "    ax1.set_ylabel(\"Probability of Default %\")\n",
    "    ax1.set_title(\"Moody's® Ratings\")\n",
    "    for name, group in Mgroups:\n",
    "        ax1.plot(\n",
    "            group[\"Maturity\"],\n",
    "            group[\"Probability of Default %\"],\n",
    "            marker=\"o\",\n",
    "            linestyle=\"\",\n",
    "            ms=12,\n",
    "            label=name,\n",
    "        )\n",
    "    ax1.legend(loc=\"upper left\")\n",
    "\n",
    "    SPgroups = df.groupby(\"S&P\")\n",
    "    ax2.clear()\n",
    "    ax2.margins(0.5)\n",
    "    ax2.set_xlabel(\"Days Until Maturity\")\n",
    "    ax2.set_ylabel(\"Probability of Default %\")\n",
    "    ax2.set_title(\"S&P Ratings\")\n",
    "\n",
    "    for name, group in SPgroups:\n",
    "        ax2.plot(\n",
    "            group[\"Maturity\"],\n",
    "            group[\"Probability of Default %\"],\n",
    "            marker=\"o\",\n",
    "            linestyle=\"\",\n",
    "            ms=12,\n",
    "            label=name,\n",
    "        )\n",
    "    ax2.legend(loc=\"upper left\")\n",
    "    plt"
   ]
  },
  {
   "cell_type": "code",
   "execution_count": null,
   "metadata": {
    "colab": {
     "base_uri": "https://localhost:8080/",
     "height": 472
    },
    "executionInfo": {
     "elapsed": 505,
     "status": "ok",
     "timestamp": 1699801928303,
     "user": {
      "displayName": "Christos Koutkos",
      "userId": "05788829401179389824"
     },
     "user_tz": -120
    },
    "id": "J2ykRuDIXuBd",
    "outputId": "19c03dfc-1377-46f5-9fdc-bc907436696b"
   },
   "outputs": [],
   "source": [
    "prob_default_term_structure(bond_df_result)"
   ]
  },
  {
   "cell_type": "markdown",
   "metadata": {
    "id": "dnzyHSWkXuBd"
   },
   "source": [
    "## 3. Downloading the Transition Matrix\n"
   ]
  },
  {
   "cell_type": "code",
   "execution_count": null,
   "metadata": {
    "executionInfo": {
     "elapsed": 463,
     "status": "ok",
     "timestamp": 1699801928762,
     "user": {
      "displayName": "Christos Koutkos",
      "userId": "05788829401179389824"
     },
     "user_tz": -120
    },
    "id": "i_I0lN9oXuBe"
   },
   "outputs": [],
   "source": [
    "tgt_website = r\"https://www.spglobal.com/ratings/en/research/articles/200429-default-transition-and-recovery-2019-annual-global-corporate-default-and-rating-transition-study-11444862\""
   ]
  },
  {
   "cell_type": "code",
   "execution_count": null,
   "metadata": {
    "executionInfo": {
     "elapsed": 15,
     "status": "ok",
     "timestamp": 1699801928763,
     "user": {
      "displayName": "Christos Koutkos",
      "userId": "05788829401179389824"
     },
     "user_tz": -120
    },
    "id": "GAkcDAcKXuBe"
   },
   "outputs": [],
   "source": [
    "def get_transition_matrix(tgt_website):\n",
    "    df_list = pd.read_html(tgt_website)\n",
    "    matrix_result_df = df_list[22]\n",
    "\n",
    "    return matrix_result_df\n",
    "\n",
    "\n",
    "scrape_new_data = False\n",
    "if scrape_new_data:\n",
    "    transition_matrix_df = get_transition_matrix(tgt_website)\n",
    "else:\n",
    "    transition_matrix_df = pd.read_csv(\"transition-matrix.csv\")"
   ]
  },
  {
   "cell_type": "code",
   "execution_count": null,
   "metadata": {
    "colab": {
     "base_uri": "https://localhost:8080/",
     "height": 603
    },
    "executionInfo": {
     "elapsed": 15,
     "status": "ok",
     "timestamp": 1699801928763,
     "user": {
      "displayName": "Christos Koutkos",
      "userId": "05788829401179389824"
     },
     "user_tz": -120
    },
    "id": "kdeHuWVzXuBe",
    "outputId": "d3dde2c9-e2ee-45c7-94c8-c893d7301c3f"
   },
   "outputs": [],
   "source": [
    "sp_clean_result_df = pd.DataFrame(transition_matrix_df.iloc[:34, :19].dropna(axis=0))\n",
    "sp_clean_result_df"
   ]
  },
  {
   "cell_type": "markdown",
   "metadata": {
    "id": "EL3mm25RXuBe"
   },
   "source": [
    "The above is the Standard & Poor's 2019 transition matrix. It shows the probabilities of a particular rating transitioning to another over the course of the following year. An A-rated issuer has a 78.88% probability of remaining at that level, a 0.03% probability of moving up to AAA; a 0.22% probability of moving up to AA; an 0.86% probability of moving down to BBB; 0.10% down to BB; 0.02% to B, 0.01% to CCC, CC, or C; and 0.05% to D, where it is in default.\n",
    "\n",
    "Using the Selenium script mentioned earlier to retrieve the Standard & Poor's credit ratings, we can use the corporate bond's credit rating to determine the probability of a particular rating transitioning to D (default) during the next year according to the Standard & Poor's 2019 transition matrix."
   ]
  },
  {
   "cell_type": "code",
   "execution_count": null,
   "metadata": {
    "colab": {
     "base_uri": "https://localhost:8080/"
    },
    "executionInfo": {
     "elapsed": 14,
     "status": "ok",
     "timestamp": 1699801928763,
     "user": {
      "displayName": "Christos Koutkos",
      "userId": "05788829401179389824"
     },
     "user_tz": -120
    },
    "id": "024VrzZAXuBe",
    "outputId": "15f38ecc-d703-42b8-b367-d4a7818bfb03"
   },
   "outputs": [],
   "source": [
    "# Will scrape the default probability for each rating\n",
    "\n",
    "sp_rating_list = [\n",
    "    \"AAA\",\n",
    "    \"AA+\",\n",
    "    \"AA\",\n",
    "    \"AA-\",\n",
    "    \"A+\",\n",
    "    \"A\",\n",
    "    \"A-\",\n",
    "    \"BBB+\",\n",
    "    \"BBB\",\n",
    "    \"BBB-\",\n",
    "    \"BB+\",\n",
    "    \"BB\",\n",
    "    \"BB-\",\n",
    "    \"B+\",\n",
    "    \"B\",\n",
    "    \"B-\",\n",
    "]\n",
    "\n",
    "ccc_list = [\"CCC+\", \"CCC\", \"CCC-\", \"CC+\", \"CC\", \"CC-\", \"C+\", \"C\", \"C-\"]\n",
    "\n",
    "sp_rating = None\n",
    "\n",
    "for i in sp_rating_list:\n",
    "    if bond_df_result[\"S&P\"].iloc[0] == i:\n",
    "        sp_rating = bond_df_result[\"S&P\"].iloc[0]\n",
    "\n",
    "if sp_rating is None:\n",
    "    for i in ccc_list:\n",
    "        if bond_df_result[\"S&P\"].iloc[0] == i:\n",
    "            sp_rating = \"CCC/C\"\n",
    "\n",
    "sp_transition_dp = 0\n",
    "\n",
    "for i in range(33):\n",
    "    if transition_matrix_df.loc[i][0] == sp_rating:\n",
    "        sp_transition_dp += float(sp_clean_result_df.loc[i][18])\n",
    "\n",
    "sp_transition_dp"
   ]
  },
  {
   "cell_type": "markdown",
   "metadata": {
    "id": "agqeDDbWXuBe"
   },
   "source": [
    "It appears that the market-implied probability of default we calculated for the nearest maturity corporate bond is close to the probability of default as determined from the historical data in the Standard & Poor's 2019 transition matrix."
   ]
  },
  {
   "cell_type": "code",
   "execution_count": null,
   "metadata": {
    "colab": {
     "base_uri": "https://localhost:8080/"
    },
    "executionInfo": {
     "elapsed": 11,
     "status": "ok",
     "timestamp": 1699801928764,
     "user": {
      "displayName": "Christos Koutkos",
      "userId": "05788829401179389824"
     },
     "user_tz": -120
    },
    "id": "n2JBJxgNXuBf",
    "outputId": "f6c8b4b3-78a2-451c-e471-0c244c0bd2cf"
   },
   "outputs": [],
   "source": [
    "# Compare the nearest maturity Market-implied probability of default with\n",
    "# the historical probability of default in the Standard & Poor's 2019 transition matrix\n",
    "print(\n",
    "    \"Market-implied probability of default = %s\"\n",
    "    % (bond_df_result[\"Probability of Default %\"].iloc[0])\n",
    "    + \"%\"\n",
    ")\n",
    "print(\"Standard & Poor's probability of default = %s\" % (sp_transition_dp) + \"%\")"
   ]
  },
  {
   "cell_type": "markdown",
   "metadata": {
    "id": "xChZ2DH4XuBf"
   },
   "source": [
    "## 4. Conclusion"
   ]
  },
  {
   "cell_type": "markdown",
   "metadata": {
    "id": "_58-6_1pXuBf"
   },
   "source": [
    "In the example above, the bond valuation techniques using a risk-adjusted discount rate do a reasonably good job of estimating the market-implied default probabilities. We calculated the expected cash flow at each period by adding the product of the default payout and the probability of default ($p$) with the product of the promised payment (coupon payments and repayment of principal) and the probability of not defaulting ($1-p$). One reason for any differences between historical and market-implied default probabilities is that historical default probabilities do not include the default risk premium associated with uncertainty over the timing of possible default loss.\n",
    "\n",
    "The model used here is very sensitive to the discount and recovery rates selected. For simplicity, we assume a flat government bond yield curve, but it could be upward or downward sloping. A more sophisticated and realistic model of the discount rates would require that they be calculated sequentially by a process known as \"bootstrapping.\" We also assume in this example that the recovery rate is 40%, but another possibility is to change the assumed recovery rate to either 30% or 60% of exposure. Another simplifying assumption is that recovery is instantaneous. In practice, lengthy time delays can occur between the event of default and eventual recovery of cash. Notice that we assume that the recovery rate applies to interest as well as principal.\n",
    "\n",
    "Also, we assume that default occurs only on coupon payment dates and that default will not occur on date 0, the current date. Although we assumed the annual default probability is the same each year, this does not need to be the case.\n",
    "\n",
    "Even with the assumptions made in this analysis, the market-implied probability of default model built here does a fairly good job at identifying risk of corporate defaults and may suffice for simply rank ordering firms by credit worthiness."
   ]
  },
  {
   "cell_type": "markdown",
   "metadata": {
    "id": "okL3Nue-XuBP"
   },
   "source": [
    "**References**\n",
    "\n",
    "* Vanderplas, Jake. \"04.00-Introduction-To-Matplotlib.ipynb.\" *GitHub*, https://github.com/jakevdp/PythonDataScienceHandbook/blob/master/notebooks/04.00-Introduction-To-Matplotlib.ipynb\n",
    "* Sargent, Thomas, and John Stachurski. \"10. Matplotlib.\" *Python Programming for Economics and Finance*. https://python-programming.quantecon.org/matplotlib.html.\n",
    "* Coleman, Chase, et al. \"GroupBy.\" *QuantEcon DataScience.* https://datascience.quantecon.org/pandas/groupby.html\n",
    "* The  code and related documentation used in this lesson is adapted from: <br>**Hugh Donnelly, CFA**<br>*AlphaWave Data* <br> **March 2021** under the following  MIT License:\n",
    "\n",
    "> Copyright (c) 2020 HDVI <br>Permission is hereby granted, free of charge, to any person obtaining a copy\n",
    "of this software and associated documentation files (the \"Software\"), to deal\n",
    "in the Software without restriction, including without limitation the rights\n",
    "to use, copy, modify, merge, publish, distribute, sublicense, and/or sell\n",
    "copies of the Software, and to permit persons to whom the Software is\n",
    "furnished to do so, subject to the following conditions:<br>The above copyright notice and this permission notice shall be included in all\n",
    "copies or substantial portions of the Software.<br>THE SOFTWARE IS PROVIDED \"AS IS\", WITHOUT WARRANTY OF ANY KIND, EXPRESS OR\n",
    "IMPLIED, INCLUDING BUT NOT LIMITED TO THE WARRANTIES OF MERCHANTABILITY,\n",
    "FITNESS FOR A PARTICULAR PURPOSE AND NONINFRINGEMENT. IN NO EVENT SHALL THE\n",
    "AUTHORS OR COPYRIGHT HOLDERS BE LIABLE FOR ANY CLAIM, DAMAGES OR OTHER\n",
    "LIABILITY, WHETHER IN AN ACTION OF CONTRACT, TORT OR OTHERWISE, ARISING FROM,\n",
    "OUT OF OR IN CONNECTION WITH THE SOFTWARE OR THE USE OR OTHER DEALINGS IN THE\n",
    "SOFTWARE.\n",
    "\n",
    "**Note:** The above MIT license notice is copied here to comply with its requirements but it does **not** apply to the content in these lesson notes.\n"
   ]
  },
  {
   "cell_type": "markdown",
   "metadata": {
    "deletable": false,
    "editable": false,
    "id": "QQTTYyh6exAC"
   },
   "source": [
    "---\n",
    "Copyright 2023 WorldQuant University. This\n",
    "content is licensed solely for personal use. Redistribution or\n",
    "publication of this material is strictly prohibited.\n"
   ]
  }
 ],
 "metadata": {
  "colab": {
   "provenance": []
  },
  "execution": {
   "timeout": 900
  },
  "kernelspec": {
   "display_name": "Python 3 (ipykernel)",
   "language": "python",
   "name": "python3"
  },
  "language_info": {
   "codemirror_mode": {
    "name": "ipython",
    "version": 3
   },
   "file_extension": ".py",
   "mimetype": "text/x-python",
   "name": "python",
   "nbconvert_exporter": "python",
   "pygments_lexer": "ipython3",
   "version": "3.8.8"
  }
 },
 "nbformat": 4,
 "nbformat_minor": 4
}
