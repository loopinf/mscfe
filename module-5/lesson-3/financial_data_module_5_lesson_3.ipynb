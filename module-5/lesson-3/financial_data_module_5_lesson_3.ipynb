{
 "cells": [
  {
   "cell_type": "markdown",
   "metadata": {
    "id": "NzegbyDwDd6V"
   },
   "source": [
    "\n",
    "## FINANCIAL DATA\n",
    "MODULE 5 | LESSON 3\n",
    "\n",
    "\n",
    "---\n",
    "\n"
   ]
  },
  {
   "cell_type": "markdown",
   "metadata": {
    "id": "zropEiyNJXLl"
   },
   "source": [
    "# **ESTIMATING THE MARKET-IMPLIED PROBABILITY OF DEFAULT** #"
   ]
  },
  {
   "cell_type": "markdown",
   "metadata": {
    "id": "RuU1yqPCJhVB"
   },
   "source": [
    "|  |  |\n",
    "|:---|:---|\n",
    "|**Reading Time** |  25 minutes |\n",
    "|**Prior Knowledge** | Probability of default, Basic Python, DataFrames  |\n",
    "|**Keywords** |`.apply()`, Lambda functions, `numpy.arange()`, Symbol library |\n",
    "\n",
    "---"
   ]
  },
  {
   "cell_type": "markdown",
   "metadata": {
    "id": "w319cNFVJrGb"
   },
   "source": [
    "*So far in this module, we have been gathering all the inputs we need for the market-implied probability of default (PD). Now that we have calculated the risk-adjusted discount rate in the last lesson, we can solve for the PD using `SymPy`. We will also refresh our understanding of some essential Python, e.g., control-flow tools, data types, as well as the append and apply methods*."
   ]
  },
  {
   "cell_type": "markdown",
   "metadata": {
    "id": "SiaLSCPf46RX"
   },
   "source": [
    "**Note:** The code that was introduced in the previous lessons is below, followed by the new code and text for this lesson."
   ]
  },
  {
   "cell_type": "code",
   "execution_count": null,
   "metadata": {
    "executionInfo": {
     "elapsed": 1851,
     "status": "ok",
     "timestamp": 1699796229350,
     "user": {
      "displayName": "Christos Koutkos",
      "userId": "05788829401179389824"
     },
     "user_tz": -120
    },
    "id": "Q6ILYRhzNk4k"
   },
   "outputs": [],
   "source": [
    "import numpy as np\n",
    "import pandas as pd\n",
    "import yfinance as yfin\n",
    "\n",
    "yfin.pdr_override()\n",
    "\n",
    "from datetime import date\n",
    "from datetime import datetime as dt\n",
    "from datetime import timedelta\n",
    "\n",
    "from sympy import solve, symbols"
   ]
  },
  {
   "cell_type": "code",
   "execution_count": null,
   "metadata": {
    "colab": {
     "base_uri": "https://localhost:8080/",
     "height": 765
    },
    "executionInfo": {
     "elapsed": 1483,
     "status": "ok",
     "timestamp": 1699796230830,
     "user": {
      "displayName": "Christos Koutkos",
      "userId": "05788829401179389824"
     },
     "user_tz": -120
    },
    "id": "UJf7nhaPPqyi",
    "outputId": "c7141e37-eb9a-4822-f6d6-54ffb11b0a4d"
   },
   "outputs": [],
   "source": [
    "# Loading the appropriate .csv bond data file\n",
    "bond_prices_df = pd.read_csv(\"bond-prices.csv\")\n",
    "\n",
    "bond_prices_df"
   ]
  },
  {
   "cell_type": "code",
   "execution_count": null,
   "metadata": {
    "executionInfo": {
     "elapsed": 10,
     "status": "ok",
     "timestamp": 1699796230831,
     "user": {
      "displayName": "Christos Koutkos",
      "userId": "05788829401179389824"
     },
     "user_tz": -120
    },
    "id": "vZMU2dKWXuBV",
    "tags": []
   },
   "outputs": [],
   "source": [
    "def bond_dataframe_filter(df):\n",
    "    # Drop bonds with missing yields and missing credit ratings\n",
    "    df[\"Yield\"].replace(\"\", np.nan, inplace=True)\n",
    "    df[\"Moody's®\"].replace({\"WR\": np.nan, \"\": np.nan}, inplace=True)\n",
    "    df[\"S&P\"].replace({\"NR\": np.nan, \"\": np.nan}, inplace=True)\n",
    "    df = df.dropna(subset=[\"Yield\"])\n",
    "    df = df.dropna(subset=[\"Moody's®\"])\n",
    "    df = df.dropna(subset=[\"S&P\"])\n",
    "\n",
    "    # Create Maturity Years column that aligns with Semi-Annual Payments from corporate bonds\n",
    "    df[\"Yield\"] = df[\"Yield\"].astype(float)\n",
    "    df[\"Coupon\"] = df[\"Coupon\"].astype(float)\n",
    "    df[\"Price\"] = df[\"Price\"].astype(float)\n",
    "    now = dt.strptime(date.today().strftime(\"%m/%d/%Y\"), \"%m/%d/%Y\")\n",
    "    df[\"Maturity\"] = pd.to_datetime(df[\"Maturity\"]).dt.strftime(\"%m/%d/%Y\")\n",
    "    daystillmaturity = []\n",
    "    yearstillmaturity = []\n",
    "    for maturity in df[\"Maturity\"]:\n",
    "        daystillmaturity.append((dt.strptime(maturity, \"%m/%d/%Y\") - now).days)\n",
    "        yearstillmaturity.append((dt.strptime(maturity, \"%m/%d/%Y\") - now).days / 360)\n",
    "    df = df.reset_index(drop=True)\n",
    "    df[\"Maturity\"] = pd.Series(daystillmaturity)\n",
    "    #         `df['Maturity Years'] = pd.Series(yearstillmaturity).round()` # Better for Annual Payments\n",
    "    df[\"Maturity Years\"] = (\n",
    "        round(pd.Series(yearstillmaturity) / 0.5) * 0.5\n",
    "    )  # Better for Semi-Annual Payments\n",
    "\n",
    "    # Target bonds with short-term maturities\n",
    "    df[\"Maturity\"] = df[\"Maturity\"].astype(float)\n",
    "    # `df = df.loc[df['Maturity'] >= 0]`\n",
    "    years_mask = (df[\"Maturity Years\"] > 0) & (df[\"Maturity Years\"] <= 5)\n",
    "    df = df.loc[years_mask]\n",
    "    return df"
   ]
  },
  {
   "cell_type": "code",
   "execution_count": null,
   "metadata": {
    "colab": {
     "base_uri": "https://localhost:8080/",
     "height": 285
    },
    "executionInfo": {
     "elapsed": 8,
     "status": "ok",
     "timestamp": 1699796230831,
     "user": {
      "displayName": "Christos Koutkos",
      "userId": "05788829401179389824"
     },
     "user_tz": -120
    },
    "id": "L_OxtqReNk4p",
    "outputId": "323beaa5-a6fe-4454-cc8a-a81b616f0f25"
   },
   "outputs": [],
   "source": [
    "bond_df_result = bond_dataframe_filter(bond_prices_df)\n",
    "bond_df_result"
   ]
  },
  {
   "cell_type": "code",
   "execution_count": null,
   "metadata": {
    "colab": {
     "base_uri": "https://localhost:8080/"
    },
    "executionInfo": {
     "elapsed": 922,
     "status": "ok",
     "timestamp": 1699796231748,
     "user": {
      "displayName": "Christos Koutkos",
      "userId": "05788829401179389824"
     },
     "user_tz": -120
    },
    "id": "h9Nnk2ajXuBY",
    "outputId": "4287b69e-de12-4a6e-a52c-290ae3567edd"
   },
   "outputs": [],
   "source": [
    "# Ten-Year Risk-free Rate\n",
    "timespan = 100\n",
    "current_date = date.today()\n",
    "past_date = current_date - timedelta(days=timespan)\n",
    "ten_year_risk_free_rate_df = yfin.download(\"^TNX\", past_date, current_date)\n",
    "ten_year_risk_free_rate = (\n",
    "    ten_year_risk_free_rate_df.iloc[len(ten_year_risk_free_rate_df) - 1, 4]\n",
    ") / 100\n",
    "ten_year_risk_free_rate"
   ]
  },
  {
   "cell_type": "code",
   "execution_count": null,
   "metadata": {
    "executionInfo": {
     "elapsed": 11,
     "status": "ok",
     "timestamp": 1699796231748,
     "user": {
      "displayName": "Christos Koutkos",
      "userId": "05788829401179389824"
     },
     "user_tz": -120
    },
    "id": "lWQaHG1cXuBY"
   },
   "outputs": [],
   "source": [
    "# Market Risk Premium\n",
    "market_risk_premium = 0.0472"
   ]
  },
  {
   "cell_type": "code",
   "execution_count": null,
   "metadata": {
    "executionInfo": {
     "elapsed": 11,
     "status": "ok",
     "timestamp": 1699796231749,
     "user": {
      "displayName": "Christos Koutkos",
      "userId": "05788829401179389824"
     },
     "user_tz": -120
    },
    "id": "4fvzm_VP4m4Q"
   },
   "outputs": [],
   "source": [
    "# Market Equity Beta\n",
    "stock_market_beta = 1"
   ]
  },
  {
   "cell_type": "code",
   "execution_count": null,
   "metadata": {
    "colab": {
     "base_uri": "https://localhost:8080/"
    },
    "executionInfo": {
     "elapsed": 11,
     "status": "ok",
     "timestamp": 1699796231749,
     "user": {
      "displayName": "Christos Koutkos",
      "userId": "05788829401179389824"
     },
     "user_tz": -120
    },
    "id": "XGHCv74lXuBZ",
    "outputId": "ab361c30-afef-4d6d-f436-3382daed8286"
   },
   "outputs": [],
   "source": [
    "# Market Rate of Return\n",
    "market_rate_of_return = ten_year_risk_free_rate + (\n",
    "    stock_market_beta * market_risk_premium\n",
    ")\n",
    "market_rate_of_return"
   ]
  },
  {
   "cell_type": "code",
   "execution_count": null,
   "metadata": {
    "executionInfo": {
     "elapsed": 9,
     "status": "ok",
     "timestamp": 1699796231750,
     "user": {
      "displayName": "Christos Koutkos",
      "userId": "05788829401179389824"
     },
     "user_tz": -120
    },
    "id": "5L5i4tiAXuBa"
   },
   "outputs": [],
   "source": [
    "# Vanguard Short-Term Corporate Bond Index Fund ETF Shares\n",
    "bond_fund_ticker = \"VCSH\""
   ]
  },
  {
   "cell_type": "code",
   "execution_count": null,
   "metadata": {
    "colab": {
     "base_uri": "https://localhost:8080/"
    },
    "executionInfo": {
     "elapsed": 959,
     "status": "ok",
     "timestamp": 1699796232700,
     "user": {
      "displayName": "Christos Koutkos",
      "userId": "05788829401179389824"
     },
     "user_tz": -120
    },
    "id": "d7hQj_dcnWad",
    "outputId": "4dd27a43-82b2-4072-c837-65833cb5b867"
   },
   "outputs": [],
   "source": [
    "# Download data for the bond fund and the market\n",
    "market_data = yfin.download(\"SPY\", past_date, current_date)  # the market\n",
    "fund_data = yfin.download(\"VCSH\", past_date, current_date)  # the bond fund"
   ]
  },
  {
   "cell_type": "code",
   "execution_count": null,
   "metadata": {
    "colab": {
     "base_uri": "https://localhost:8080/"
    },
    "executionInfo": {
     "elapsed": 25,
     "status": "ok",
     "timestamp": 1699796232700,
     "user": {
      "displayName": "Christos Koutkos",
      "userId": "05788829401179389824"
     },
     "user_tz": -120
    },
    "id": "HeCm39NramOK",
    "outputId": "159079a7-8591-4324-f8e6-f8bdec230abb"
   },
   "outputs": [],
   "source": [
    "# Approach #1 - Covariance/Variance Method:\n",
    "\n",
    "# Calculate the covariance between the fund and the market -- this is the numerator in the Beta calculation\n",
    "fund_market_cov = (\n",
    "    fund_data[\"Adj Close\"].pct_change().cov(market_data[\"Adj Close\"].pct_change())\n",
    ")\n",
    "print(\"covariance between fund and market: \", fund_market_cov)\n",
    "\n",
    "# Calculate market (S&P) variance -- this is the denominator in the Beta calculation\n",
    "market_var = market_data[\"Adj Close\"].pct_change().var()\n",
    "print(\"market variance: \", market_var)\n",
    "\n",
    "# Calculate Beta\n",
    "bond_fund_beta_cv = fund_market_cov / market_var\n",
    "print(\"bond fund beta (using covariance/variance): \", bond_fund_beta_cv)"
   ]
  },
  {
   "cell_type": "code",
   "execution_count": null,
   "metadata": {
    "colab": {
     "base_uri": "https://localhost:8080/"
    },
    "executionInfo": {
     "elapsed": 24,
     "status": "ok",
     "timestamp": 1699796232701,
     "user": {
      "displayName": "Christos Koutkos",
      "userId": "05788829401179389824"
     },
     "user_tz": -120
    },
    "id": "IoZw2fTvQUcG",
    "outputId": "8b07a681-3686-46f7-fb0c-73cb9fb5bce1"
   },
   "outputs": [],
   "source": [
    "# Approach #2 - Correlation Method:\n",
    "\n",
    "# Calculate the standard deviation of the market by taking the square root of the variance, for use in the denominator\n",
    "market_stdev = market_var**0.5\n",
    "print(\"market standard deviation: \", market_stdev)\n",
    "\n",
    "# Calculate bond fund standard deviation, for use in the numerator\n",
    "\n",
    "fund_stdev = fund_data[\"Adj Close\"].pct_change().std()\n",
    "print(\"fund standard deviation: \", fund_stdev)\n",
    "\n",
    "# Calculate Pearson correlation between bond fund and market (S&P), for use in the numerator\n",
    "fund_market_Pearson_corr = (\n",
    "    fund_data[\"Adj Close\"]\n",
    "    .pct_change()\n",
    "    .corr(market_data[\"Adj Close\"].pct_change(), method=\"pearson\")\n",
    ")\n",
    "print(\"Pearson correlation between fund and market: \", fund_market_Pearson_corr)\n",
    "\n",
    "# Calculate Beta\n",
    "fund_beta_corr = fund_stdev * fund_market_Pearson_corr / market_stdev\n",
    "print(\"bond fund beta (using correlation): \", fund_beta_corr)"
   ]
  },
  {
   "cell_type": "code",
   "execution_count": null,
   "metadata": {
    "colab": {
     "base_uri": "https://localhost:8080/"
    },
    "executionInfo": {
     "elapsed": 21,
     "status": "ok",
     "timestamp": 1699796232701,
     "user": {
      "displayName": "Christos Koutkos",
      "userId": "05788829401179389824"
     },
     "user_tz": -120
    },
    "id": "Gc7ZyNm4XuBa",
    "outputId": "dedbba64-b211-457f-d3cb-d6ad9d0d66ab"
   },
   "outputs": [],
   "source": [
    "# Bond's Beta: use the result of either of the two above approaches, bond_fund_beta_cv or fund_beta_corr\n",
    "bond_beta = fund_beta_corr\n",
    "bond_beta"
   ]
  },
  {
   "cell_type": "code",
   "execution_count": null,
   "metadata": {
    "colab": {
     "base_uri": "https://localhost:8080/"
    },
    "executionInfo": {
     "elapsed": 18,
     "status": "ok",
     "timestamp": 1699796232701,
     "user": {
      "displayName": "Christos Koutkos",
      "userId": "05788829401179389824"
     },
     "user_tz": -120
    },
    "id": "4s8jGBihXuBb",
    "outputId": "7e7ef897-678c-43ee-826e-5bdb5a68698d"
   },
   "outputs": [],
   "source": [
    "# Expected Risk Premium\n",
    "expected_risk_premium = (market_rate_of_return - ten_year_risk_free_rate) * bond_beta\n",
    "expected_risk_premium"
   ]
  },
  {
   "cell_type": "code",
   "execution_count": null,
   "metadata": {
    "colab": {
     "base_uri": "https://localhost:8080/"
    },
    "executionInfo": {
     "elapsed": 16,
     "status": "ok",
     "timestamp": 1699796232701,
     "user": {
      "displayName": "Christos Koutkos",
      "userId": "05788829401179389824"
     },
     "user_tz": -120
    },
    "id": "0He5a_K-XuBc",
    "outputId": "e69e7b92-06fd-4b1e-c6ea-a295c2a80985"
   },
   "outputs": [],
   "source": [
    "# Risk-adjusted Discount Rate\n",
    "risk_adjusted_discount_rate = ten_year_risk_free_rate + expected_risk_premium\n",
    "risk_adjusted_discount_rate"
   ]
  },
  {
   "cell_type": "markdown",
   "metadata": {
    "id": "RKW4GaP1XuBc"
   },
   "source": [
    "## 1. SymPy: Solving the Probability of Default\n",
    "\n",
    "Given the semi-annual coupon payment frequency for the bonds we are analyzing, we can feed the annual risk-adjusted discount rate into the `bonds_probability_of_default()` function below and it will convert these annual rates into semi-annual rates.\n",
    "\n",
    "Our last step before running the `bonds_probability_of_default()` function is to define the principal payment, the recovery rate, and the symbol for probability of default ($p$) that the `solve()` function from the Python library `SymPy` will use to calculate the probability of default by equating future expected cash flows with the current price of the corporate bond when discounted at the risk-adjusted rate."
   ]
  },
  {
   "cell_type": "markdown",
   "metadata": {
    "id": "qGPU5aU0xtNA"
   },
   "source": [
    "Notice below that the numpy library method `np.append()` is different from the pandas library method `df1.append(df2)`."
   ]
  },
  {
   "cell_type": "code",
   "execution_count": null,
   "metadata": {
    "executionInfo": {
     "elapsed": 15,
     "status": "ok",
     "timestamp": 1699796232702,
     "user": {
      "displayName": "Christos Koutkos",
      "userId": "05788829401179389824"
     },
     "user_tz": -120
    },
    "id": "I0dKNC-PXuBX"
   },
   "outputs": [],
   "source": [
    "def bonds_probability_of_default(\n",
    "    coupon, maturity_years, bond_price, principal_payment, risk_adjusted_discount_rate\n",
    "):\n",
    "    price = bond_price\n",
    "    prob_default_exp = 0\n",
    "\n",
    "    #     `times = np.arange(1, maturity_years+1)` # For Annual Cashflows\n",
    "    #     annual_coupon = coupon # For Annual Cashflows\n",
    "    times = np.arange(0.5, (maturity_years - 0.5) + 1, 0.5)  # For Semi-Annual Cashflows\n",
    "    semi_annual_coupon = coupon / 2  # For Semi-Annual Cashflows\n",
    "\n",
    "    # Calculation of Expected Cash Flow\n",
    "    cashflows = np.array([])\n",
    "    for i in times[:-1]:\n",
    "        #         cashflows = np.append(cashflows, annual_coupon) # For Annual Cashflows\n",
    "        #     cashflows = np.append(cashflows, annual_coupon+principal_payment)#  For Annual Cashflows\n",
    "        cashflows = np.append(\n",
    "            cashflows, semi_annual_coupon\n",
    "        )  # For Semi-Annual Cashflows\n",
    "    cashflows = np.append(\n",
    "        cashflows, semi_annual_coupon + principal_payment\n",
    "    )  # For Semi-Annual Cashflows\n",
    "\n",
    "    for i in range(len(times)):\n",
    "        #         This code block is used if there is only one payment remaining\n",
    "        if len(times) == 1:\n",
    "            prob_default_exp += (\n",
    "                cashflows[i] * (1 - P) + cashflows[i] * recovery_rate * P\n",
    "            ) / np.power((1 + risk_adjusted_discount_rate), times[i])\n",
    "        #         This code block is used if there are multiple payments remaining\n",
    "        else:\n",
    "            #             For Annual Cashflows\n",
    "            #             if times[i] == 1:\n",
    "            #                 prob_default_exp += ((cashflows[i]*(1-P) + principal_payment*recovery_rate*P) / \\\n",
    "            #                                     np.power((1 + risk_adjusted_discount_rate), times[i]))\n",
    "            #             For Semi-Annual Cashflows\n",
    "            if times[i] == 0.5:\n",
    "                prob_default_exp += (\n",
    "                    cashflows[i] * (1 - P) + principal_payment * recovery_rate * P\n",
    "                ) / np.power((1 + risk_adjusted_discount_rate), times[i])\n",
    "            #             Used for either Annual or Semi-Annual Cashflows\n",
    "            else:\n",
    "                prob_default_exp += (\n",
    "                    np.power((1 - P), times[i - 1])\n",
    "                    * (cashflows[i] * (1 - P) + principal_payment * recovery_rate * P)\n",
    "                ) / np.power((1 + risk_adjusted_discount_rate), times[i])\n",
    "\n",
    "    prob_default_exp = prob_default_exp - price\n",
    "    implied_prob_default = solve(prob_default_exp, P)\n",
    "    implied_prob_default = round(float(implied_prob_default[0]) * 100, 2)\n",
    "\n",
    "    if implied_prob_default < 0:\n",
    "        return 0.0\n",
    "    else:\n",
    "        return implied_prob_default"
   ]
  },
  {
   "cell_type": "markdown",
   "metadata": {
    "id": "etv9eGsUcdTb"
   },
   "source": [
    "\n",
    "Understand all of the code above: how the function works, how the methods work (here and in general).  Also, see the required reading section \"A.7.5 Solving Equations Symbolically\" and \"A.7.6. Symbolic Plotting\" from the following website, [which shows you how powerful and easy to use the `SymPy` library is.](https://numericalmethodssullivan.github.io/ch-python.html#solving-equations-symbolically)\n",
    "<span style='color: transparent; font-size:1%'>All rights reserved WQU WorldQuant University QQQQ</span>"
   ]
  },
  {
   "cell_type": "code",
   "execution_count": null,
   "metadata": {
    "executionInfo": {
     "elapsed": 14,
     "status": "ok",
     "timestamp": 1699796232702,
     "user": {
      "displayName": "Christos Koutkos",
      "userId": "05788829401179389824"
     },
     "user_tz": -120
    },
    "id": "jw2J1KzfXuBc"
   },
   "outputs": [],
   "source": [
    "# Variables defined for bonds_probability_of_default function\n",
    "principal_payment = 100\n",
    "recovery_rate = 0.40\n",
    "P = symbols(\"P\")"
   ]
  },
  {
   "cell_type": "markdown",
   "metadata": {
    "id": "Xnx90V-GXuBc"
   },
   "source": [
    "We are now ready to run the `bonds_probability_of_default()` function to calculate the market-implied probability of default for the chosen corporate bonds."
   ]
  },
  {
   "cell_type": "code",
   "execution_count": null,
   "metadata": {
    "colab": {
     "base_uri": "https://localhost:8080/",
     "height": 153
    },
    "executionInfo": {
     "elapsed": 13,
     "status": "ok",
     "timestamp": 1699796232702,
     "user": {
      "displayName": "Christos Koutkos",
      "userId": "05788829401179389824"
     },
     "user_tz": -120
    },
    "id": "acq1mUXyNk4t",
    "outputId": "34f54eb5-fe0d-4664-c16d-1737ccb9d4c2"
   },
   "outputs": [],
   "source": [
    "bond_df_result.head(1)"
   ]
  },
  {
   "cell_type": "code",
   "execution_count": null,
   "metadata": {
    "colab": {
     "base_uri": "https://localhost:8080/",
     "height": 153
    },
    "executionInfo": {
     "elapsed": 11,
     "status": "ok",
     "timestamp": 1699796232702,
     "user": {
      "displayName": "Christos Koutkos",
      "userId": "05788829401179389824"
     },
     "user_tz": -120
    },
    "id": "JUR0sKdqXuBc",
    "outputId": "2fecbcf4-b561-4224-e8e8-ab1b17dfeaaa"
   },
   "outputs": [],
   "source": [
    "# This calculation may take some time if there are many coupon payments\n",
    "bond_df_result[\"Probability of Default %\"] = bond_df_result.head(1).apply(\n",
    "    lambda row: bonds_probability_of_default(\n",
    "        row[\"Coupon\"],\n",
    "        row[\"Maturity Years\"],\n",
    "        row[\"Price\"],\n",
    "        principal_payment,\n",
    "        risk_adjusted_discount_rate,\n",
    "    ),\n",
    "    axis=1,\n",
    ")\n",
    "\n",
    "bond_df_result.head(1)"
   ]
  },
  {
   "cell_type": "markdown",
   "metadata": {
    "id": "9P9udR_irjGg"
   },
   "source": [
    "## 2. Relevant and Essential Python: Control Flow, Data Types, and Apply\n",
    "\n",
    "[Read sections 4.7 and 4.8 of this website.](https://docs.python.org/3/tutorial/controlflow.html)\n",
    "\n",
    "[Read section 5.6 of this website.](https://python-programming.quantecon.org/python_essentials.html#id7)\n",
    "\n",
    "[Read this website.](https://pandas.pydata.org/docs/reference/api/pandas.DataFrame.apply.html)\n",
    "\n",
    "These resources will help you understand the dense line of code above."
   ]
  },
  {
   "cell_type": "markdown",
   "metadata": {
    "id": "F4sDT48XWVJp"
   },
   "source": [
    "## 3. Conclusion\n",
    "\n",
    "In this lesson, we used the inputs we found in the previous lessons to finally estimate the probability of default for the bond issuer of our choice. We had to provide an assumed recovery rate, and then use a solver (the `solve()` method) embedded in the `bonds_probability_of_default()` function, to find the probability of default implied by the price of the relevant bonds.\n",
    "\n",
    "In the next lesson, we look at the ratings for these bonds provided by the ratings agencies. We will download the transition matrices (which include the probability of default for each rating) and compare the probability of default (PD) that we calculated in this lesson to the PD associated with the ratings agencies' ratings.\n"
   ]
  },
  {
   "cell_type": "markdown",
   "metadata": {
    "id": "okL3Nue-XuBP"
   },
   "source": [
    "**References**\n",
    "\n",
    "* \"More Control Flow Tools.\" Python.org.  https://docs.python.org/3/tutorial/controlflow.html\n",
    "\n",
    "* Sargent, Thomas J., and John Stachurski. \"Python Programming for Finance and Economics.\" QuantEcon.org, https://python-programming.quantecon.org/python_essentials.html#id7\n",
    "\n",
    "* \"Pandas.DataFrame.apply.\" Pandas.pydata.org. https://pandas.pydata.org/docs/reference/api/pandas.DataFrame.apply.html\n",
    "\n",
    "* The  code and related documentation used in this lesson is adapted from: <br>**Hugh Donnelly, CFA**<br>*AlphaWave Data* <br> **March 2021** under the following  MIT License:\n",
    "\n",
    "> Copyright (c) 2020 HDVI <br>Permission is hereby granted, free of charge, to any person obtaining a copy\n",
    "of this software and associated documentation files (the \"Software\"), to deal\n",
    "in the Software without restriction, including without limitation the rights\n",
    "to use, copy, modify, merge, publish, distribute, sublicense, and/or sell\n",
    "copies of the Software, and to permit persons to whom the Software is\n",
    "furnished to do so, subject to the following conditions:<br>The above copyright notice and this permission notice shall be included in all\n",
    "copies or substantial portions of the Software.<br>THE SOFTWARE IS PROVIDED \"AS IS\", WITHOUT WARRANTY OF ANY KIND, EXPRESS OR\n",
    "IMPLIED, INCLUDING BUT NOT LIMITED TO THE WARRANTIES OF MERCHANTABILITY,\n",
    "FITNESS FOR A PARTICULAR PURPOSE AND NONINFRINGEMENT. IN NO EVENT SHALL THE\n",
    "AUTHORS OR COPYRIGHT HOLDERS BE LIABLE FOR ANY CLAIM, DAMAGES OR OTHER\n",
    "LIABILITY, WHETHER IN AN ACTION OF CONTRACT, TORT OR OTHERWISE, ARISING FROM,\n",
    "OUT OF OR IN CONNECTION WITH THE SOFTWARE OR THE USE OR OTHER DEALINGS IN THE\n",
    "SOFTWARE.\n",
    "\n",
    "**Note:** The above MIT license notice is copied here to comply with its requirements but it does **not** apply to the content in these lesson notes.\n"
   ]
  },
  {
   "cell_type": "markdown",
   "metadata": {
    "deletable": false,
    "editable": false,
    "id": "2f9JwfoQNk4u"
   },
   "source": [
    "---\n",
    "Copyright 2023 WorldQuant University. This\n",
    "content is licensed solely for personal use. Redistribution or\n",
    "publication of this material is strictly prohibited.\n"
   ]
  }
 ],
 "metadata": {
  "colab": {
   "provenance": []
  },
  "execution": {
   "timeout": 900
  },
  "kernelspec": {
   "display_name": "Python 3 (ipykernel)",
   "language": "python",
   "name": "python3"
  },
  "language_info": {
   "codemirror_mode": {
    "name": "ipython",
    "version": 3
   },
   "file_extension": ".py",
   "mimetype": "text/x-python",
   "name": "python",
   "nbconvert_exporter": "python",
   "pygments_lexer": "ipython3",
   "version": "3.8.8"
  }
 },
 "nbformat": 4,
 "nbformat_minor": 4
}
