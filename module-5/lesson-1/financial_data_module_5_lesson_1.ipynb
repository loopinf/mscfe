{
 "cells": [
  {
   "cell_type": "markdown",
   "metadata": {
    "id": "Cjv9cnWAKW46"
   },
   "source": [
    "\n",
    "## FINANCIAL DATA\n",
    "MODULE 5 | LESSON 1\n",
    "\n",
    "\n",
    "---\n",
    "\n"
   ]
  },
  {
   "cell_type": "markdown",
   "metadata": {
    "id": "-h3zUEO8IpAh"
   },
   "source": [
    "# **DOWNLOADING, CLEANING, AND TRANSFORMING DATA**"
   ]
  },
  {
   "cell_type": "markdown",
   "metadata": {
    "id": "iDXcymjTJiXZ"
   },
   "source": [
    "|  |  |\n",
    "|:---|:---|\n",
    "|**Reading Time** |  30 minutes |\n",
    "|**Prior Knowledge** | Basic Python, Probability of default (PD)  |\n",
    "|**Keywords** |df.dropna(), inplace, df.replace(), .astype(), pd.to_datetime(), df['X'].dt.strftime, masking / filtering, df.concat(), <br> .append, df.values.tolist(), datetime.strptime, datetime.datetime|\n",
    "\n",
    "---"
   ]
  },
  {
   "cell_type": "markdown",
   "metadata": {
    "id": "983-X4BojoHj"
   },
   "source": [
    "\n",
    "\n",
    "*In this module, we perform the several steps required to calculate the market-implied probability of default (PD), which we introduced in Module 5.*\n",
    "*In this lesson, we will indicate the company (bond issuer) and determine which of the company's bonds to use after cleaning, transforming, and filtering the data.*\n",
    "\n",
    "*In the lessons that follow in this module, we will estimate the expected cashflows and the risk-adjusted discount rate (lesson 2). Finally we estimate the market-implied probability of default (lesson 3) and compare it to the PD that Standard and Poor's (S&P) associates with the rating (lesson 4).*<span style='color: transparent; font-size:1%'>All rights reserved WQU WorldQuant University QQQQ</span>"
   ]
  },
  {
   "cell_type": "markdown",
   "metadata": {
    "id": "dmkXdI1YXuBS"
   },
   "source": [
    "## 1. Re-introduction to Probability of Default (PD)\n",
    "\n",
    "As we discussed in the Financial Markets course, the probability of default is the probability that a bond issuer will not meet its contractual obligations on schedule. Although the most common event of default is nonpayment leading to bankruptcy proceedings, the bond prospectus might identify other events of default, such as the failure to meet a different obligation or the violation of a financial covenant.\n",
    "\n",
    "In the following example, we will determine the probability of default given corporate bond prices. The default probabilities that are reached in this exercise are called market-implied default probabilities. Historically, practitioners have focused on the one-year probability of default calculation. Over shorter horizons of one or two years, firms are exposed to the business cycle effect, while over longer horizons, the business cycle effect tends to have a lesser impact and the company's capital structure becomes more important. This effect has made long-run risk levels less cyclical and more stable. Intuitively, default risk over a longer time period is less sensitive to the instantaneous default rates in the economy (Beygi 3). For this reason, we will focus on corporate bonds with one or two years until maturity to calculate the market-implied default probabilities.\n",
    "\n",
    "We will verify the accuracy of the market-implied default probabilities with the Standard & Poor's \"Average One-Year Transition Rates For Global Corporates\" table, which uses historical data from 1981-2019. This transition matrix shows the observed historical probabilities of a particular rating transitioning to another rating, including default, over the course of one year.\n",
    "\n",
    "In order to calculate the market-implied default probabilities, we must first acquire the company's current bond prices. Using a short Playwright script that emulates a user's keystrokes and clicks in a browser as a means of navigating to Trade Reporting and Compliance Engine (TRACE) bond data provided by the Financial Industry Regulatory Authority (FINRA), we can access the data needed to calculate the market-implied default probabilities."
   ]
  },
  {
   "cell_type": "markdown",
   "metadata": {
    "id": "6FSwC0akcVP0"
   },
   "source": [
    "## 2. Playwright\n",
    "\n",
    "Playwright is a tool used to automate browser activities typically performed by a user, such as loading a web page and filling out a form.\n",
    "\n",
    "The choice of Playwright over Selenium lies in its ease of use for our purposes. It offers several advantages, especially when dealing with complex web applications that utilize multiple nested shadow DOMs, similar to the FINRA web page we will be scraping for bond data. One of the primary strengths of Playwright is its locator functionality, which is designed to handle these shadow DOMs with less hassle compared to Selenium's traditional selector methods.\n",
    "\n",
    "Furthermore, Playwright's auto-waiting feature is inherently built into its actions. This means that Playwright automatically waits for elements to be ready before performing actions on them, which is essential for dynamic content loading and asynchronous UIs. In contrast, Selenium often requires explicit waits or sleep statements, which can lead to either increased execution time or flakiness due to timing issues."
   ]
  },
  {
   "cell_type": "code",
   "execution_count": null,
   "metadata": {
    "executionInfo": {
     "elapsed": 1835,
     "status": "ok",
     "timestamp": 1699750124957,
     "user": {
      "displayName": "Christos Koutkos",
      "userId": "05788829401179389824"
     },
     "user_tz": -120
    },
    "id": "02Qlu1eDXuBQ"
   },
   "outputs": [],
   "source": [
    "# Python libraries to install\n",
    "from datetime import date\n",
    "from datetime import datetime as dt\n",
    "\n",
    "import numpy as np\n",
    "import pandas as pd\n",
    "\n",
    "# The use of the async_api is mandatory since we will be running the Playwright code from inside a Jupyter Notebook cell.\n",
    "from playwright.async_api import async_playwright"
   ]
  },
  {
   "cell_type": "code",
   "execution_count": null,
   "metadata": {
    "executionInfo": {
     "elapsed": 4,
     "status": "ok",
     "timestamp": 1699750124957,
     "user": {
      "displayName": "Christos Koutkos",
      "userId": "05788829401179389824"
     },
     "user_tz": -120
    },
    "id": "6q2wjaumXuBR"
   },
   "outputs": [],
   "source": [
    "# Input of issuer name (corporations that are subsidiaries of HESS CORP and contain the name 'hess' will be included as well)\n",
    "issuer_name = \"hess\"\n",
    "\n",
    "# Maturity dates\n",
    "date_start = \"2028-01-01\"\n",
    "date_end = \"2050-01-01\""
   ]
  },
  {
   "cell_type": "code",
   "execution_count": null,
   "metadata": {
    "executionInfo": {
     "elapsed": 21301,
     "status": "ok",
     "timestamp": 1699750146255,
     "user": {
      "displayName": "Christos Koutkos",
      "userId": "05788829401179389824"
     },
     "user_tz": -120
    },
    "id": "CyPzyI0e5i0N"
   },
   "outputs": [],
   "source": [
    "scrape_new_data = True\n",
    "\n",
    "\n",
    "async def scrape_bond_data(issuer_name, date_start, date_end):\n",
    "    async with async_playwright() as pw:\n",
    "        browser = await pw.chromium.launch(headless=True)\n",
    "        context = await browser.new_context(viewport={\"width\": 1920, \"height\": 1080})\n",
    "        page = await context.new_page()\n",
    "\n",
    "        # Navigate to the page\n",
    "        await page.goto(\"https://www.finra.org/finra-data/fixed-income/corp-and-agency\")\n",
    "\n",
    "        # Fill in the search criteria\n",
    "        await page.locator('input[placeholder=\"Issuer Name\"]').fill(issuer_name)\n",
    "        await page.locator(\"input#form-name\").nth(0).fill(date_start)\n",
    "        await page.locator(\"input#form-name\").nth(1).fill(date_end)\n",
    "\n",
    "        # Submit the search form\n",
    "        await page.locator('text=\"Show Results\"').click()\n",
    "        await page.wait_for_timeout(5000)  # Adjust the timeout as necessary\n",
    "\n",
    "        # Extend the container for the data grid to ensure all data is visible\n",
    "        await page.locator(\"ag-grid-angular\").evaluate(\n",
    "            \"\"\"\n",
    "            element => {\n",
    "                element.style.height = \"1500px\";\n",
    "                element.style.width = \"4500px\";\n",
    "            }\n",
    "        \"\"\"\n",
    "        )\n",
    "        await page.wait_for_timeout(2000)  # Adjust the timeout as necessary\n",
    "\n",
    "        # Extract the data\n",
    "        column_ids = [\n",
    "            \"issueSymbolIdentifier\",\n",
    "            \"issuerName\",\n",
    "            \"isCallable\",\n",
    "            \"productSubTypeCode\",\n",
    "            \"couponRate\",\n",
    "            \"maturityDate\",\n",
    "            \"industryGroup\",\n",
    "            \"moodysRating\",\n",
    "            \"standardAndPoorsRating\",\n",
    "            \"lastSalePrice\",\n",
    "            \"lastSaleYield\",\n",
    "        ]\n",
    "\n",
    "        data = {}\n",
    "        for column_id in column_ids:\n",
    "            column_data = await page.locator(\n",
    "                f\"div[col-id='{column_id}']\"\n",
    "            ).all_text_contents()\n",
    "            data[column_id] = column_data[1:]  # Skip the header\n",
    "\n",
    "        # Close the browser\n",
    "        await browser.close()\n",
    "\n",
    "        # Convert to a pandas DataFrame\n",
    "        return pd.DataFrame.from_dict(data)\n",
    "\n",
    "\n",
    "# Run the function\n",
    "if scrape_new_data:\n",
    "    bond_prices_df = await scrape_bond_data(  # noQA F704\n",
    "        issuer_name, date_start, date_end\n",
    "    )\n",
    "else:\n",
    "    bond_prices_df = pd.read_csv(\"bond-prices.csv\")"
   ]
  },
  {
   "cell_type": "code",
   "execution_count": null,
   "metadata": {
    "colab": {
     "base_uri": "https://localhost:8080/",
     "height": 810
    },
    "executionInfo": {
     "elapsed": 17,
     "status": "ok",
     "timestamp": 1699750146256,
     "user": {
      "displayName": "Christos Koutkos",
      "userId": "05788829401179389824"
     },
     "user_tz": -120
    },
    "id": "JIfoODQU6DZ4",
    "outputId": "e1114b35-e270-4eae-aa8a-0b4cce5d15e3"
   },
   "outputs": [],
   "source": [
    "bond_prices_df"
   ]
  },
  {
   "cell_type": "markdown",
   "metadata": {
    "id": "ZWwXJDPoXuBU",
    "tags": []
   },
   "source": [
    "## 3. Cleaning, Transforming, and Filtering\n",
    "\n",
    "We will now filter the corporate bond DataFrame to highlight the fact that the data is not always given in a usable form."
   ]
  },
  {
   "cell_type": "code",
   "execution_count": null,
   "metadata": {
    "colab": {
     "base_uri": "https://localhost:8080/"
    },
    "executionInfo": {
     "elapsed": 14,
     "status": "ok",
     "timestamp": 1699750146256,
     "user": {
      "displayName": "Christos Koutkos",
      "userId": "05788829401179389824"
     },
     "user_tz": -120
    },
    "id": "WRUm2mOitrIP",
    "outputId": "e613b1b6-b704-4a38-8af6-432c8d478aef"
   },
   "outputs": [],
   "source": [
    "# We observe that all columns are identified as strings or as mixed data types(as indicated from Dtype: object)\n",
    "bond_prices_df.info()"
   ]
  },
  {
   "cell_type": "code",
   "execution_count": null,
   "metadata": {
    "executionInfo": {
     "elapsed": 12,
     "status": "ok",
     "timestamp": 1699750146256,
     "user": {
      "displayName": "Christos Koutkos",
      "userId": "05788829401179389824"
     },
     "user_tz": -120
    },
    "id": "AmKLKwMKu1W7"
   },
   "outputs": [],
   "source": [
    "# We expect that the columns: \"couponRate\", \"lastSalePrice\" and \"lastSaleYield\" are floats.\n",
    "bond_prices_df[\"couponRate\"] = pd.to_numeric(bond_prices_df[\"couponRate\"])\n",
    "bond_prices_df[\"lastSalePrice\"] = pd.to_numeric(bond_prices_df[\"lastSalePrice\"])\n",
    "bond_prices_df[\"lastSaleYield\"] = pd.to_numeric(bond_prices_df[\"lastSaleYield\"])\n",
    "\n",
    "# The column \"maturityDate\" can also be converted to \"Timestamp\" or \"Datetime\" object.\n",
    "bond_prices_df[\"maturityDate\"] = pd.to_datetime(\n",
    "    bond_prices_df[\"maturityDate\"], infer_datetime_format=True\n",
    ")"
   ]
  },
  {
   "cell_type": "code",
   "execution_count": null,
   "metadata": {
    "colab": {
     "base_uri": "https://localhost:8080/"
    },
    "executionInfo": {
     "elapsed": 11,
     "status": "ok",
     "timestamp": 1699750146257,
     "user": {
      "displayName": "Christos Koutkos",
      "userId": "05788829401179389824"
     },
     "user_tz": -120
    },
    "id": "Dgm16_Oc5fbN",
    "outputId": "6d69f9c1-3035-457a-aab8-0db141de18d5"
   },
   "outputs": [],
   "source": [
    "# The datatypes of the columns after cleaning\n",
    "bond_prices_df.info()"
   ]
  },
  {
   "cell_type": "code",
   "execution_count": null,
   "metadata": {
    "executionInfo": {
     "elapsed": 10,
     "status": "ok",
     "timestamp": 1699750146258,
     "user": {
      "displayName": "Christos Koutkos",
      "userId": "05788829401179389824"
     },
     "user_tz": -120
    },
    "id": "tZ58uwPb-KtT"
   },
   "outputs": [],
   "source": [
    "# This cell will be used in case the scrapper does not work due to changes in the FINRA bond data web page layout.\n",
    "\n",
    "\n",
    "def bond_dataframe_filter(df):\n",
    "    # Drop bonds with missing yields and missing credit ratings\n",
    "    df[\"Yield\"].replace(\"\", np.nan, inplace=True)\n",
    "    df[\"Moody's®\"].replace({\"WR\": np.nan, \"\": np.nan}, inplace=True)\n",
    "    df[\"S&P\"].replace({\"NR\": np.nan, \"\": np.nan}, inplace=True)\n",
    "    df = df.dropna(subset=[\"Yield\"])\n",
    "    df = df.dropna(subset=[\"Moody's®\"])\n",
    "    df = df.dropna(subset=[\"S&P\"])\n",
    "\n",
    "    # Create Maturity Years column that aligns with Semi-Annual Payments from corporate bonds\n",
    "    df[\"Yield\"] = df[\"Yield\"].astype(float)\n",
    "    df[\"Coupon\"] = df[\"Coupon\"].astype(float)\n",
    "    df[\"Price\"] = df[\"Price\"].astype(float)\n",
    "    now = dt.strptime(date.today().strftime(\"%m/%d/%Y\"), \"%m/%d/%Y\")\n",
    "    df[\"Maturity\"] = pd.to_datetime(df[\"Maturity\"]).dt.strftime(\"%m/%d/%Y\")\n",
    "    daystillmaturity = []\n",
    "    yearstillmaturity = []\n",
    "    for maturity in df[\"Maturity\"]:\n",
    "        daystillmaturity.append((dt.strptime(maturity, \"%m/%d/%Y\") - now).days)\n",
    "        yearstillmaturity.append((dt.strptime(maturity, \"%m/%d/%Y\") - now).days / 360)\n",
    "    df = df.reset_index(drop=True)\n",
    "    df[\"Maturity\"] = pd.Series(daystillmaturity)\n",
    "    df[\"Maturity Years\"] = (\n",
    "        round(pd.Series(yearstillmaturity) / 0.5) * 0.5\n",
    "    )  # Better for Semi-Annual Payments\n",
    "\n",
    "    # Target bonds with short-term maturities\n",
    "    df[\"Maturity\"] = df[\"Maturity\"].astype(float)\n",
    "    years_mask = (df[\"Maturity Years\"] > 0) & (df[\"Maturity Years\"] <= 5)\n",
    "    df = df.loc[years_mask]\n",
    "    return df\n",
    "\n",
    "\n",
    "# The next line of code will run if scrape_new_data = False\n",
    "if not scrape_new_data:\n",
    "    bond_df_result = bond_dataframe_filter(bond_prices_df)\n",
    "\n",
    "# Print bond_df_result"
   ]
  },
  {
   "cell_type": "markdown",
   "metadata": {
    "id": "vgDMKuhR-qy7"
   },
   "source": [
    "Make sure that you review the documentation for the relevant code and are familiar with how the code above works; in particular, understand the following (and their parameters), as these will all serve you well when you clean, transform, and filter your data in the future (the related documentation is also required reading):\n",
    "\n",
    "`df.dropna()` <br>\n",
    "`inplace` <br>\n",
    "`df.replace()` <br>\n",
    "`df['X'].astype()` <br>\n",
    "`pd.to_datetime()` <br>\n",
    "`df['X'].dt.strftime` <br>\n",
    "and the code lines that involve the variable `years_mask` <br>\n",
    "Also, be sure to understand how `df.values.tolist()` works.<br>"
   ]
  },
  {
   "cell_type": "markdown",
   "metadata": {
    "id": "yHUxwvDRtmP-"
   },
   "source": [
    "## 4. Conclusion\n",
    "\n",
    "In this lesson, we revisited the calculation for market-implied probability of default but in much more detail. We also downloaded price and rating information for bonds issued by a particular issuer from a well-regarded bond database, FINRA's TRACE.\n",
    "\n",
    "In the following lesson, we will take the next step toward calculating the market-implied probability of default by estimating the expected cashflows. Then, we can estimate the risk-adjusted discount rate, which equates the bond price to those expected cash flows.\n",
    "\n",
    "\n",
    "\n",
    "**References**\n",
    "\n",
    "* Donnelly, Hugh. \"Calculating a Company's Probability of Default with Python.\" AlphaWave Data. https://github.com/AlphaWaveData/Jupyter-Notebooks/blob/master/AlphaWave%20Market-Implied%20Probability%20of%20Default%20Example.ipynb.\n",
    "\n",
    "* Beygi, Sajjad et al. \"Features of a Lifetime PD Model: Evidence from Public, Private, and Rated Firms.\" Moody's Analytics, May 2018.\n",
    "\n",
    "* The  code and related documentation used in this lesson is adapted from: <br>**Hugh Donnelly, CFA**<br>*AlphaWave Data* <br> **March 2021** under the following  MIT License:\n",
    "\n",
    "> Copyright (c) 2020 HDVI <br>Permission is hereby granted, free of charge, to any person obtaining a copy\n",
    "of this software and associated documentation files (the \"Software\"), to deal\n",
    "in the Software without restriction, including without limitation the rights\n",
    "to use, copy, modify, merge, publish, distribute, sublicense, and/or sell\n",
    "copies of the Software, and to permit persons to whom the Software is\n",
    "furnished to do so, subject to the following conditions:<br>The above copyright notice and this permission notice shall be included in all\n",
    "copies or substantial portions of the Software.<br>THE SOFTWARE IS PROVIDED \"AS IS\", WITHOUT WARRANTY OF ANY KIND, EXPRESS OR\n",
    "IMPLIED, INCLUDING BUT NOT LIMITED TO THE WARRANTIES OF MERCHANTABILITY,\n",
    "FITNESS FOR A PARTICULAR PURPOSE AND NONINFRINGEMENT. IN NO EVENT SHALL THE\n",
    "AUTHORS OR COPYRIGHT HOLDERS BE LIABLE FOR ANY CLAIM, DAMAGES OR OTHER\n",
    "LIABILITY, WHETHER IN AN ACTION OF CONTRACT, TORT OR OTHERWISE, ARISING FROM,\n",
    "OUT OF OR IN CONNECTION WITH THE SOFTWARE OR THE USE OR OTHER DEALINGS IN THE\n",
    "SOFTWARE.\n",
    "\n",
    "**Note:** The above MIT license notice is copied here to comply with its requirements, but it does **not** apply to the content in these lesson notes.\n",
    "\n",
    "\n",
    "\n"
   ]
  },
  {
   "cell_type": "markdown",
   "metadata": {
    "deletable": false,
    "editable": false,
    "id": "ikjkBffQCURI"
   },
   "source": [
    "---\n",
    "Copyright 2023 WorldQuant University. This\n",
    "content is licensed solely for personal use. Redistribution or\n",
    "publication of this material is strictly prohibited.\n"
   ]
  }
 ],
 "metadata": {
  "colab": {
   "provenance": [],
   "toc_visible": true
  },
  "kernelspec": {
   "display_name": "Python 3 (ipykernel)",
   "language": "python",
   "name": "python3"
  },
  "language_info": {
   "codemirror_mode": {
    "name": "ipython",
    "version": 3
   },
   "file_extension": ".py",
   "mimetype": "text/x-python",
   "name": "python",
   "nbconvert_exporter": "python",
   "pygments_lexer": "ipython3",
   "version": "3.9.13"
  },
  "toc-autonumbering": false,
  "toc-showcode": true,
  "toc-showmarkdowntxt": false
 },
 "nbformat": 4,
 "nbformat_minor": 4
}
