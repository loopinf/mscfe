{
 "cells": [
  {
   "cell_type": "markdown",
   "metadata": {
    "id": "jIYsveZKCbh6"
   },
   "source": [
    "## FINANCIAL DATA\n",
    "\n",
    "MODULE 3 | LESSON 2\n",
    "\n",
    "\n",
    "---"
   ]
  },
  {
   "cell_type": "markdown",
   "metadata": {
    "id": "HLlaIt1YCbh9"
   },
   "source": [
    "# DISPLAYING EFFECTS OF DIVERSIFICATION IN A PORTFOLIO"
   ]
  },
  {
   "cell_type": "markdown",
   "metadata": {
    "id": "uoADGn8SCbh9"
   },
   "source": [
    "|  |  |\n",
    "|:---|:---|\n",
    "|**Reading Time** |  40 minutes |\n",
    "|**Prior Knowledge** | Stock Return Calculations, Variance, Standard Deviation  |\n",
    "|**Keywords** | Variance - Correlation relationship, Covariance |\n",
    "\n",
    "---"
   ]
  },
  {
   "cell_type": "markdown",
   "metadata": {
    "id": "6K21u48oCbh-"
   },
   "source": [
    "*In the previous lesson, we focused on comparing returns and volatilities of multiple assets. In this lesson, we focus further on how we can reduce volatility in our portfolio and the variables that have an impact on this*"
   ]
  },
  {
   "cell_type": "code",
   "execution_count": null,
   "metadata": {
    "executionInfo": {
     "elapsed": 1874,
     "status": "ok",
     "timestamp": 1698951966662,
     "user": {
      "displayName": "Tea Toradze",
      "userId": "13683888799925082799"
     },
     "user_tz": 0
    },
    "id": "2DeSeNIrCbh-"
   },
   "outputs": [],
   "source": [
    "import datetime\n",
    "\n",
    "import pandas as pd\n",
    "import pandas_datareader.data as web\n",
    "import seaborn as sns\n",
    "import yfinance as yfin\n",
    "from IPython.display import VimeoVideo\n",
    "\n",
    "yfin.pdr_override()"
   ]
  },
  {
   "cell_type": "markdown",
   "metadata": {
    "id": "vDT7GrbVCbh_"
   },
   "source": [
    "## 1. Diversification\n",
    "Diversification is an extremely important investing concept. It's the belief that you can reduce risk by spreading your capital across multiple investments, not just one. This can be multiple stocks, multiple asset classes, etc. The key is that you spread your wealth or, don't put all your eggs in one basket. Later in this lesson, we will discuss how we can optimize the diversification of our portfolio. For now, we will illustrate why it is so important.\n",
    "\n",
    "We will use a practical example. Let's say the year is 2016 and you have inherited some wealth from a family member and are looking for where to put it. You were told by a family friend that you should spread out this money and not just put it into the same type of asset so you decide to buy 100 shares of JP Morgan (JPM) and 5 Bitcoin. Let's pull the data and calculate the returns of each along with the returns of our portfolio"
   ]
  },
  {
   "cell_type": "code",
   "execution_count": null,
   "metadata": {
    "colab": {
     "base_uri": "https://localhost:8080/"
    },
    "executionInfo": {
     "elapsed": 2305,
     "status": "ok",
     "timestamp": 1698951973071,
     "user": {
      "displayName": "Tea Toradze",
      "userId": "13683888799925082799"
     },
     "user_tz": 0
    },
    "id": "1QM1v0e6CbiA",
    "outputId": "7f4faee3-c7ec-4e64-e72c-8caf995a3ef8"
   },
   "outputs": [],
   "source": [
    "# start = datetime.date.today()-datetime.timedelta(365*10)\n",
    "# end = datetime.date.today()\n",
    "start = datetime.date(2016, 11, 29)\n",
    "end = datetime.date(2021, 11, 28)\n",
    "\n",
    "prices = web.DataReader([\"JPM\", \"BTC-USD\"], start, end)[\"Adj Close\"]\n",
    "prices = prices.rename(columns={\"BTC-USD\": \"BTC\"})\n",
    "prices = prices.dropna()\n",
    "returns = prices.pct_change()"
   ]
  },
  {
   "cell_type": "code",
   "execution_count": null,
   "metadata": {
    "colab": {
     "base_uri": "https://localhost:8080/",
     "height": 237
    },
    "executionInfo": {
     "elapsed": 407,
     "status": "ok",
     "timestamp": 1698951976625,
     "user": {
      "displayName": "Tea Toradze",
      "userId": "13683888799925082799"
     },
     "user_tz": 0
    },
    "id": "FVWDQkijCbiA",
    "outputId": "c88fdfc1-9e0b-49a6-85c9-5f275b97d128"
   },
   "outputs": [],
   "source": [
    "# observe data\n",
    "returns.head()"
   ]
  },
  {
   "cell_type": "markdown",
   "metadata": {
    "id": "DxeINaLeCbiA"
   },
   "source": [
    "### 1.1 Determine Initial Investment"
   ]
  },
  {
   "cell_type": "code",
   "execution_count": null,
   "metadata": {
    "executionInfo": {
     "elapsed": 359,
     "status": "ok",
     "timestamp": 1698951988384,
     "user": {
      "displayName": "Tea Toradze",
      "userId": "13683888799925082799"
     },
     "user_tz": 0
    },
    "id": "-DGSzD8wCbiB"
   },
   "outputs": [],
   "source": [
    "# Determine weights\n",
    "initialJPM = prices.JPM[0] * 100\n",
    "initialBTC = prices.BTC[0] * 5\n",
    "initialInvestment = initialJPM + initialBTC"
   ]
  },
  {
   "cell_type": "code",
   "execution_count": null,
   "metadata": {
    "colab": {
     "base_uri": "https://localhost:8080/"
    },
    "executionInfo": {
     "elapsed": 11,
     "status": "ok",
     "timestamp": 1698951989875,
     "user": {
      "displayName": "Tea Toradze",
      "userId": "13683888799925082799"
     },
     "user_tz": 0
    },
    "id": "TCqHYZYeCbiB",
    "outputId": "3c58be97-ff0d-4155-ac03-6db275a0dd2c"
   },
   "outputs": [],
   "source": [
    "weightJPM = initialJPM / (initialBTC + initialJPM)\n",
    "weightBTC = 1 - weightJPM\n",
    "print(\n",
    "    \"This would make the weights %.3f and %.3f for JPM and BTC respectively\"\n",
    "    % (weightJPM, weightBTC)\n",
    ")"
   ]
  },
  {
   "cell_type": "markdown",
   "metadata": {
    "id": "CYk1cMxGCbiB"
   },
   "source": [
    "### 1.2 Calculate Portfolio Daily Returns\n",
    "\n",
    "We will use the existing weights we just calculated, but to make things simpler, we are going to assume a $10,000 investment in each of these assets along with our portfolio so that we can compare returns. In order to see the daily change in our portfolio, we need to add 1 to each return and then multiply each subsequent return by our previous position.\n",
    "\n",
    "For example, in our portfolio below our first two returns are 0.015 and 0.018.\n",
    "We add one to these to get 1.015 and 1.018.\n",
    "\n",
    "Then, with our starting position of \\\\$10,000,  to get the portfolio value after one day we multiply\n",
    "\\\\$10,000 * 1.015 = \\\\$10,150.\n",
    "\n",
    "To get the portfolio value after the next day, we multiply \\\\$10,150 * 1.018 = \\\\$10,332.7\n",
    "\n",
    "Let's apply the above logic to the last 5 years of data:"
   ]
  },
  {
   "cell_type": "code",
   "execution_count": null,
   "metadata": {
    "colab": {
     "base_uri": "https://localhost:8080/",
     "height": 237
    },
    "executionInfo": {
     "elapsed": 524,
     "status": "ok",
     "timestamp": 1698951997533,
     "user": {
      "displayName": "Tea Toradze",
      "userId": "13683888799925082799"
     },
     "user_tz": 0
    },
    "id": "kOd7-TAxCbiC",
    "outputId": "ab867b7c-db9c-42f1-8007-367945993ea5"
   },
   "outputs": [],
   "source": [
    "returns[\"Portfolio\"] = (returns.JPM * weightJPM) + (returns.BTC * weightBTC)\n",
    "returns = returns + 1\n",
    "returns.head()"
   ]
  },
  {
   "cell_type": "code",
   "execution_count": null,
   "metadata": {
    "colab": {
     "base_uri": "https://localhost:8080/",
     "height": 237
    },
    "executionInfo": {
     "elapsed": 390,
     "status": "ok",
     "timestamp": 1698952038624,
     "user": {
      "displayName": "Tea Toradze",
      "userId": "13683888799925082799"
     },
     "user_tz": 0
    },
    "id": "OofUYk-3CbiD",
    "outputId": "00543e34-1b18-4f0d-9916-4d80210bc6d9"
   },
   "outputs": [],
   "source": [
    "returns.iloc[0] = 10000\n",
    "returns.head()"
   ]
  },
  {
   "cell_type": "code",
   "execution_count": null,
   "metadata": {
    "colab": {
     "base_uri": "https://localhost:8080/",
     "height": 455
    },
    "executionInfo": {
     "elapsed": 509,
     "status": "ok",
     "timestamp": 1698952043065,
     "user": {
      "displayName": "Tea Toradze",
      "userId": "13683888799925082799"
     },
     "user_tz": 0
    },
    "id": "BX9-23_tCbiE",
    "outputId": "196efa0b-b61e-4b60-8a32-2d25898ad620"
   },
   "outputs": [],
   "source": [
    "returns.cumprod()"
   ]
  },
  {
   "cell_type": "code",
   "execution_count": null,
   "metadata": {
    "executionInfo": {
     "elapsed": 351,
     "status": "ok",
     "timestamp": 1698952047207,
     "user": {
      "displayName": "Tea Toradze",
      "userId": "13683888799925082799"
     },
     "user_tz": 0
    },
    "id": "xBRmvSnkCbiE"
   },
   "outputs": [],
   "source": [
    "portValues = returns.cumprod()\n",
    "portValues[\"Date\"] = portValues.index"
   ]
  },
  {
   "cell_type": "markdown",
   "metadata": {
    "id": "8UycPGIuCbiE"
   },
   "source": [
    "We can chart the two assets we've invested in along with the value of our portfolio. First, we need to get the data into a more usable format for seaborn's `lineplot()` method. We use the pandas `melt()` method to make our table more horizontal:"
   ]
  },
  {
   "cell_type": "code",
   "execution_count": null,
   "metadata": {
    "colab": {
     "base_uri": "https://localhost:8080/",
     "height": 449
    },
    "executionInfo": {
     "elapsed": 934,
     "status": "ok",
     "timestamp": 1698952049714,
     "user": {
      "displayName": "Tea Toradze",
      "userId": "13683888799925082799"
     },
     "user_tz": 0
    },
    "id": "qU4St8Q0CbiE",
    "outputId": "b3115945-0ab5-4fce-cefa-4bb4822ea1a6"
   },
   "outputs": [],
   "source": [
    "sns.lineplot(\n",
    "    x=\"Date\", y=\"value\", hue=\"variable\", data=(portValues.melt(id_vars=[\"Date\"]))\n",
    ");"
   ]
  },
  {
   "cell_type": "markdown",
   "metadata": {
    "id": "zQ8aXGRmCbiF",
    "tags": []
   },
   "source": [
    "We can see in the above chart that our portfolio wouldn't have gained as much as our highest returning asset, Bitcoin, but it seems as if the peaks and valleys of the chart are reduced a bit by investing in more than one asset.\n",
    "\n",
    "### 1.3 Quantifying Diversification Benefits\n",
    "How do you think we can measure how volatile our stocks are compared to our portfolio? One simple way is to take the standard deviation of the returns and compare it to the standard deviation of our portfolio returns."
   ]
  },
  {
   "cell_type": "code",
   "execution_count": null,
   "metadata": {
    "colab": {
     "base_uri": "https://localhost:8080/",
     "height": 237
    },
    "executionInfo": {
     "elapsed": 389,
     "status": "ok",
     "timestamp": 1698952054959,
     "user": {
      "displayName": "Tea Toradze",
      "userId": "13683888799925082799"
     },
     "user_tz": 0
    },
    "id": "73gNH1lPCbiF",
    "outputId": "ca2de6f6-64c7-4d28-ab8c-238840deed5c"
   },
   "outputs": [],
   "source": [
    "returns.drop(index=returns.index[0], axis=0, inplace=True)\n",
    "returns = returns - 1\n",
    "returns.head()"
   ]
  },
  {
   "cell_type": "code",
   "execution_count": null,
   "metadata": {
    "colab": {
     "base_uri": "https://localhost:8080/"
    },
    "executionInfo": {
     "elapsed": 362,
     "status": "ok",
     "timestamp": 1698952059553,
     "user": {
      "displayName": "Tea Toradze",
      "userId": "13683888799925082799"
     },
     "user_tz": 0
    },
    "id": "zmKIZX9tCbiF",
    "outputId": "67acfe9f-f5b6-436d-f17a-0ba2bb12bf48"
   },
   "outputs": [],
   "source": [
    "returns.std().round(3)"
   ]
  },
  {
   "cell_type": "markdown",
   "metadata": {
    "id": "Q1JpjZQyCbiF"
   },
   "source": [
    "We can see from the standard deviations above that even though Bitcoin had the highest returns, it also had the highest standard deviation of returns by a significant margin. Herein lies one of the major benefits of diversification: by investing in multiple assets, we are able to reduce the volatility of our portfolio. It's not less than JP Morgan's standard deviation, but it is much closer to that than the high end, which is Bitcoin. In most cases, the more assets we invest in, the more we can reduce our risk or standard deviation\n",
    "\n",
    "If we are managing a client's account and their first objective is to reduce risk, how do you think we can identify assets to do this effectively and efficiently?\n",
    "\n",
    "In the first video of this lesson, we recap what we've learned so far regarding the benefits of diversification and how we can quantify this.\n"
   ]
  },
  {
   "cell_type": "code",
   "execution_count": null,
   "metadata": {
    "colab": {
     "base_uri": "https://localhost:8080/",
     "height": 321
    },
    "executionInfo": {
     "elapsed": 10,
     "status": "ok",
     "timestamp": 1698921304206,
     "user": {
      "displayName": "Christos Koutkos",
      "userId": "05788829401179389824"
     },
     "user_tz": -120
    },
    "id": "CKVD1Nf4CbiF",
    "outputId": "d3340004-53be-486a-9abd-c78b59ff1950"
   },
   "outputs": [],
   "source": [
    "VimeoVideo(\"706655791\", h=\"668198086a\", width=600)"
   ]
  },
  {
   "cell_type": "markdown",
   "metadata": {
    "id": "CUrl_GP1CbiF"
   },
   "source": [
    "##### [Access video transcript here](https://drive.google.com/file/d/1MrBC8e7yIG5YVHcicLBsukkrCOnErrLj/view?usp=sharing)"
   ]
  },
  {
   "cell_type": "markdown",
   "metadata": {
    "id": "aBPdHl15CbiF"
   },
   "source": [
    "## 2. Managing Portfolio Variance\n",
    "### 2.1 Portfolio Variance Formula\n",
    "In order to try to minimize portfolio variance, a good starting point is the formula itself to calculate variance with a two-asset portfolio.\n",
    "\n",
    "\n",
    "$$\\text{Portfolio Variance} = w_x^2 \\sigma_x^2 + w_y^2 \\sigma_y^2 + 2 w_x w_y Cov_{x,y}$$\n",
    "\n",
    "where\n",
    "\n",
    "$w_x$ = portfolio weight of asset $x$  </br>\n",
    "$w_y$ = portfolio weight of asset $y$  </br>\n",
    "$\\sigma_x$ = standard deviation of asset $x$  </br>\n",
    "$\\sigma_y$ = standard deviation of asset $y$  </br>\n",
    "$Cov_{x,y}$ = Covariance of the two assets\n",
    "\n",
    "Also, building off the previous lesson this means that\n",
    "\n",
    "$$\\text{Portfolio Standard Deviation} = \\sqrt{\\text{Portfolio Variance}}$$\n",
    "\n",
    "\n",
    "With this information in mind, there are 3 things we can do to minimize variance.\n",
    "1. We can pick assets with lower standard deviations of returns. This may seem obvious, but if we really want to reduce the variance of our portfolio, the simplest thing to do is just pick assets that have relatively low volatilities.\n",
    "2. Invest a higher percentage of your portfolio into your less risky asset(s). For our previous example with JPM and Bitcoin, we could further reduce our portfolio variance by investing a bigger portion of our funds into JPM since it had a lower standard deviation than Bitcoin.\n",
    "\n",
    "Sometimes, it's the case that an investor may still want to invest in a riskier asset like Bitcoin. This brings us to the third thing we can do to reduce variance.\n",
    "\n",
    "3. Check for assets with a low covariance. If you look at the right side of our portfolio variance function, you'll notice we have the covariance of two assets as a function parameter. If we can reduce that, we can reduce the overall variance of our portfolio.\n",
    "\n",
    "This is an important point and should be expanded upon further.\n",
    "\n",
    "\n",
    "### 2.2 Covariance-Correlation Relationship\n",
    "If you recall from a previous lesson, the formula for correlation is:\n",
    "\n",
    "$$\\rho_{_{x,y}} = \\frac{\\text{Cov}_{x,y}}{\\sigma_x \\sigma_y}$$\n",
    "\n",
    "We can rearrange this to get the covariance formula:\n",
    "\n",
    "$\\text{Cov}_{x,y} = \\rho_{_{x,y}}\\sigma_x \\sigma_y$\n",
    "\n",
    "Then, we can plug this back into our portfolio variance formula:\n",
    "\n",
    "$$\\text{Portfolio Variance} = w_x^2 \\sigma_x^2 + w_y^2 \\sigma_y^2 + 2 w_x w_y \\rho_{_{x,y}} \\sigma_x \\sigma_y$$\n",
    "\n",
    "\n",
    "These formulas are basically to show that we need to minimize correlations in order to minimize portfolio variance. Owning uncorrelated assets illustrates the efficient benefits of diversification. Let's write some reusable functions to sum up the work we did above and really display how this works with a few examples"
   ]
  },
  {
   "cell_type": "markdown",
   "metadata": {
    "id": "Fbn-V2fBCbiG"
   },
   "source": [
    "#### 2.2.1 Writing Functions - Reusable Code\n",
    "A common tenet in programming is to wrap any code you're going to need to use multiple times into a function. In our case, we've needed to calculate daily returns over a date range many times throughout this course. We will wrap the core code for this into a function called `getReturns()`.\n",
    "\n",
    "`getReturns()` takes 3 arguments:\n",
    "* `startTime` - `datetime`\n",
    "* `endTime` - `datetime`\n",
    "* `tickers` - dict of values where key is the yahoo ticker for a security and values are the displayed names in the output"
   ]
  },
  {
   "cell_type": "code",
   "execution_count": null,
   "metadata": {
    "executionInfo": {
     "elapsed": 353,
     "status": "ok",
     "timestamp": 1698952070215,
     "user": {
      "displayName": "Tea Toradze",
      "userId": "13683888799925082799"
     },
     "user_tz": 0
    },
    "id": "shKA_YWaCbiG"
   },
   "outputs": [],
   "source": [
    "def getReturns(startTime, endTime, tickers):\n",
    "    # pull price data from yahoo -- (list(tickers.keys())) = ['^GSPC','^RUT']\n",
    "    prices = web.DataReader(list(tickers.keys()), startTime, endTime)[\"Adj Close\"]\n",
    "    prices = prices.rename(columns=tickers)\n",
    "    prices = prices.dropna()\n",
    "    return prices.pct_change()"
   ]
  },
  {
   "cell_type": "markdown",
   "metadata": {
    "id": "jskatKZKCbiG"
   },
   "source": [
    "We can test this function by running it with our existing data and then returning the first few rows:"
   ]
  },
  {
   "cell_type": "code",
   "execution_count": null,
   "metadata": {
    "colab": {
     "base_uri": "https://localhost:8080/",
     "height": 256
    },
    "executionInfo": {
     "elapsed": 893,
     "status": "ok",
     "timestamp": 1698952073623,
     "user": {
      "displayName": "Tea Toradze",
      "userId": "13683888799925082799"
     },
     "user_tz": 0
    },
    "id": "6X-Qi427CbiG",
    "outputId": "686197d7-81f2-477a-f1ef-08e5cb75ee1b"
   },
   "outputs": [],
   "source": [
    "res = getReturns(\n",
    "    datetime.date(2016, 11, 29),\n",
    "    datetime.date(2021, 11, 28),\n",
    "    {\"JPM\": \"JPM\", \"BTC-USD\": \"Bitcoin\"},\n",
    ")\n",
    "res.head()"
   ]
  },
  {
   "cell_type": "markdown",
   "metadata": {
    "id": "hjd0vWbGCbiG"
   },
   "source": [
    "Now that that's settled, onto the good stuff. We can now use our `getReturns()` function to easily calculate correlations of different assets. Let's look at the correlations of the two assets we've used thus far along with introducing a Bond ETF. We will use the bond ETF, BLV, that we used in a previous lesson:"
   ]
  },
  {
   "cell_type": "code",
   "execution_count": null,
   "metadata": {
    "colab": {
     "base_uri": "https://localhost:8080/",
     "height": 162
    },
    "executionInfo": {
     "elapsed": 1607,
     "status": "ok",
     "timestamp": 1698952079825,
     "user": {
      "displayName": "Tea Toradze",
      "userId": "13683888799925082799"
     },
     "user_tz": 0
    },
    "id": "G_ErcIBsCbiG",
    "outputId": "35233aea-031e-4398-ff61-2e3b61ec93d5"
   },
   "outputs": [],
   "source": [
    "getReturns(\n",
    "    datetime.date(2016, 11, 29),\n",
    "    datetime.date(2021, 11, 28),\n",
    "    {\"JPM\": \"JPM\", \"BTC-USD\": \"Bitcoin\", \"BLV\": \"BLV\"},\n",
    ").corr()"
   ]
  },
  {
   "cell_type": "markdown",
   "metadata": {
    "id": "colIhvw1CbiH"
   },
   "source": [
    "We can see that the BLV has a very small correlation with Bitcoin and even a negative correlation with JP Morgan.\n",
    "\n",
    "We will expand upon this further and use our `getReturns()` function in a new `compareVariance()`.\n",
    "\n",
    "`compareVariance()` will take the same parameters of `getReturns()` along with a list of weights so that we can calculate daily portfolio returns and volatility metrics\n"
   ]
  },
  {
   "cell_type": "code",
   "execution_count": null,
   "metadata": {
    "executionInfo": {
     "elapsed": 4,
     "status": "ok",
     "timestamp": 1698952083869,
     "user": {
      "displayName": "Tea Toradze",
      "userId": "13683888799925082799"
     },
     "user_tz": 0
    },
    "id": "vGg00pZ-CbiH"
   },
   "outputs": [],
   "source": [
    "def compareVariance(startTime, endTime, tickers, weights):\n",
    "    returns = getReturns(startTime, endTime, tickers)\n",
    "    tmp = weights * returns\n",
    "    returns[\"Portfolio\"] = tmp[tmp.columns[0]] + tmp[tmp.columns[1]]\n",
    "    standardDev = returns.std()\n",
    "    avgReturns = returns.mean()\n",
    "    res = pd.concat([avgReturns * 100, standardDev], axis=1)\n",
    "    res.columns = [\"Daily Average Return Percentage\", \"Standard Deviation of Returns\"]\n",
    "    return res.round(3)"
   ]
  },
  {
   "cell_type": "markdown",
   "metadata": {
    "id": "Bj6zFT0SCbiH"
   },
   "source": [
    "We can use this function to illustrate our previous example comparing JP Morgan to Bitcoin over the last five years."
   ]
  },
  {
   "cell_type": "code",
   "execution_count": null,
   "metadata": {
    "colab": {
     "base_uri": "https://localhost:8080/",
     "height": 162
    },
    "executionInfo": {
     "elapsed": 1003,
     "status": "ok",
     "timestamp": 1698952086887,
     "user": {
      "displayName": "Tea Toradze",
      "userId": "13683888799925082799"
     },
     "user_tz": 0
    },
    "id": "J2USE1CdCbiH",
    "outputId": "079bc6fd-8826-4653-f45c-7331155b6506"
   },
   "outputs": [],
   "source": [
    "compareVariance(\n",
    "    datetime.date(2016, 11, 29),\n",
    "    datetime.date(2021, 11, 28),\n",
    "    {\"JPM\": \"JPM\", \"BTC-USD\": \"Bitcoin\"},\n",
    "    [0.357, 0.643],\n",
    ")"
   ]
  },
  {
   "cell_type": "markdown",
   "metadata": {
    "id": "7RXjaNq6CbiH"
   },
   "source": [
    "Like mentioned previously, one simple way to reduce variance could be to skew the weight of your investment more towards the less volatile side. In this case, we'll increase our weight in JPM from 0.643 to 0.8. By doing this, the volatility of our portfolio is the same as that of JPM, but we get double the returns of JPM since Bitcoin returns are still factored in."
   ]
  },
  {
   "cell_type": "code",
   "execution_count": null,
   "metadata": {
    "colab": {
     "base_uri": "https://localhost:8080/",
     "height": 162
    },
    "executionInfo": {
     "elapsed": 508,
     "status": "ok",
     "timestamp": 1698952090077,
     "user": {
      "displayName": "Tea Toradze",
      "userId": "13683888799925082799"
     },
     "user_tz": 0
    },
    "id": "5NyNyMOwCbiH",
    "outputId": "0f1b92dc-5610-4cf2-dea4-0b18cdd0cec8"
   },
   "outputs": [],
   "source": [
    "compareVariance(\n",
    "    datetime.date(2016, 11, 29),\n",
    "    datetime.date(2021, 11, 28),\n",
    "    {\"JPM\": \"JPM\", \"BTC-USD\": \"Bitcoin\"},\n",
    "    [0.2, 0.8],\n",
    ")"
   ]
  },
  {
   "cell_type": "markdown",
   "metadata": {
    "id": "rQ-p-9XKCbiI"
   },
   "source": [
    "To really bring this point home, let's compare three assets with similar average returns and show how correlation can affect portfolio variance. We will do this comparing JP Morgan to Ford and General Motors. We can see below that they all have very close average daily returns over the last five years."
   ]
  },
  {
   "cell_type": "code",
   "execution_count": null,
   "metadata": {
    "colab": {
     "base_uri": "https://localhost:8080/"
    },
    "executionInfo": {
     "elapsed": 1777,
     "status": "ok",
     "timestamp": 1698952094502,
     "user": {
      "displayName": "Tea Toradze",
      "userId": "13683888799925082799"
     },
     "user_tz": 0
    },
    "id": "ufEsAl9MCbiI",
    "outputId": "68e984ae-6d57-4ff2-b5c3-4077440535bb"
   },
   "outputs": [],
   "source": [
    "getReturns(\n",
    "    datetime.date(2016, 11, 29),\n",
    "    datetime.date(2021, 11, 28),\n",
    "    {\"JPM\": \"JPM\", \"F\": \"F\", \"GM\": \"GM\"},\n",
    ").mean()"
   ]
  },
  {
   "cell_type": "markdown",
   "metadata": {
    "id": "S0kFGEoYCbiS"
   },
   "source": [
    "When looking at the correlations, we see close to what we would expect. Ford and General Motors are quite highly correlated since they're both car manufacturers. While JP Morgan is still positively correlated with both, it's a good amount less than Ford and General Motors themselves.\n",
    "\n"
   ]
  },
  {
   "cell_type": "code",
   "execution_count": null,
   "metadata": {
    "colab": {
     "base_uri": "https://localhost:8080/",
     "height": 162
    },
    "executionInfo": {
     "elapsed": 1641,
     "status": "ok",
     "timestamp": 1698952097602,
     "user": {
      "displayName": "Tea Toradze",
      "userId": "13683888799925082799"
     },
     "user_tz": 0
    },
    "id": "Mo6Gqx8VCbiS",
    "outputId": "2df6c1c4-b623-44d7-e640-d354d45fafaa"
   },
   "outputs": [],
   "source": [
    "getReturns(\n",
    "    datetime.date(2016, 11, 29),\n",
    "    datetime.date(2021, 11, 28),\n",
    "    {\"JPM\": \"JPM\", \"F\": \"F\", \"GM\": \"GM\"},\n",
    ").corr()"
   ]
  },
  {
   "cell_type": "markdown",
   "metadata": {
    "id": "3KEqrgk2CbiS"
   },
   "source": [
    "If you had to own two of these stocks, what do you think would be the best combination in order to minimize the variance of our portfolio?\n",
    "\n",
    "We look at Ford and General Motors together first. The standard deviation of returns for our portfolio is less than that of F or GM on their own which shows the benefits of diversification even with assets which are strongly correlated"
   ]
  },
  {
   "cell_type": "code",
   "execution_count": null,
   "metadata": {
    "colab": {
     "base_uri": "https://localhost:8080/",
     "height": 162
    },
    "executionInfo": {
     "elapsed": 414,
     "status": "ok",
     "timestamp": 1698952100638,
     "user": {
      "displayName": "Tea Toradze",
      "userId": "13683888799925082799"
     },
     "user_tz": 0
    },
    "id": "AXRnU1fKCbiT",
    "outputId": "690cd161-8fcd-4a92-a4c9-fcae088e4ce4"
   },
   "outputs": [],
   "source": [
    "compareVariance(\n",
    "    datetime.date(2016, 11, 29),\n",
    "    datetime.date(2021, 11, 28),\n",
    "    {\"F\": \"F\", \"GM\": \"GM\"},\n",
    "    [0.5, 0.5],\n",
    ")"
   ]
  },
  {
   "cell_type": "markdown",
   "metadata": {
    "id": "_qRj9YeFCbiT"
   },
   "source": [
    "Since Ford and JP Morgan are least correlated, we would expect the benefits of diversification to be strongest with a portfolio here and the results show us exactly that. Standard deviation of returns for our portfolio goes down even further while maintaining the same daily average return. Keep in mind that a well-diversified two-stock portfolio can have less volatility than either of its individual stocks!"
   ]
  },
  {
   "cell_type": "code",
   "execution_count": null,
   "metadata": {
    "colab": {
     "base_uri": "https://localhost:8080/",
     "height": 162
    },
    "executionInfo": {
     "elapsed": 1024,
     "status": "ok",
     "timestamp": 1698952105021,
     "user": {
      "displayName": "Tea Toradze",
      "userId": "13683888799925082799"
     },
     "user_tz": 0
    },
    "id": "3BpT1F6xCbiT",
    "outputId": "f148867e-2f90-449b-f787-ec80669a68cd"
   },
   "outputs": [],
   "source": [
    "compareVariance(\n",
    "    datetime.date(2016, 11, 29),\n",
    "    datetime.date(2021, 11, 28),\n",
    "    {\"F\": \"F\", \"JPM\": \"JPM\"},\n",
    "    [0.5, 0.5],\n",
    ")"
   ]
  },
  {
   "cell_type": "markdown",
   "metadata": {
    "id": "b5Ltz0ueCbiT"
   },
   "source": [
    "In the next video, we recap the portfolio variance formula, go over different ways to reduce variance by manipulating the variables in this formula, and write a function for easy comparison of assets.<span style='color: transparent; font-size:1%'>All rights reserved WQU WorldQuant University QQQQ</span>"
   ]
  },
  {
   "cell_type": "code",
   "execution_count": null,
   "metadata": {
    "colab": {
     "base_uri": "https://localhost:8080/",
     "height": 321
    },
    "executionInfo": {
     "elapsed": 12,
     "status": "ok",
     "timestamp": 1698921310470,
     "user": {
      "displayName": "Christos Koutkos",
      "userId": "05788829401179389824"
     },
     "user_tz": -120
    },
    "id": "-xaByoI1CbiT",
    "outputId": "f2fce6c8-4866-40dd-88d0-415fb02f3f08"
   },
   "outputs": [],
   "source": [
    "VimeoVideo(\"706655839\", h=\"5fa1cf9fae\", width=600)"
   ]
  },
  {
   "cell_type": "markdown",
   "metadata": {
    "id": "YD5srjhMCbiT"
   },
   "source": [
    "##### [Access video transcript here](https://drive.google.com/file/d/1EOjUT08zJp1t8noEFKh7SLG6rOamZpRM/view?usp=sharing)"
   ]
  },
  {
   "cell_type": "markdown",
   "metadata": {
    "id": "ygJIATgTCbiT"
   },
   "source": [
    "## 3. Conclusion\n",
    "\n",
    "We've spent this lesson developing methods to compare returns and volatilities of different assets. We can use some of methods we have learned in order to help us pick different investments to fit our needs, whether that means maximizing returns, minimizing volatility, or some combination of the two. In the next lesson, we will explore exchange traded funds(ETFs) in greater detail along with showcasing the built-in diversification benefits you get by owning them."
   ]
  },
  {
   "cell_type": "markdown",
   "metadata": {
    "deletable": false,
    "editable": false,
    "id": "uUdZ4cxXCbiU"
   },
   "source": [
    "---\n",
    "Copyright 2023 WorldQuant University. This\n",
    "content is licensed solely for personal use. Redistribution or\n",
    "publication of this material is strictly prohibited.\n"
   ]
  }
 ],
 "metadata": {
  "colab": {
   "provenance": [],
   "toc_visible": true
  },
  "kernelspec": {
   "display_name": "Python 3 (ipykernel)",
   "language": "python",
   "name": "python3"
  },
  "language_info": {
   "codemirror_mode": {
    "name": "ipython",
    "version": 3
   },
   "file_extension": ".py",
   "mimetype": "text/x-python",
   "name": "python",
   "nbconvert_exporter": "python",
   "pygments_lexer": "ipython3",
   "version": "3.9.6"
  }
 },
 "nbformat": 4,
 "nbformat_minor": 4
}
