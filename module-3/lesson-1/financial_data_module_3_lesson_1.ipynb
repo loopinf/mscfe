{
 "cells": [
  {
   "cell_type": "markdown",
   "metadata": {
    "id": "szGOHJbOCchH"
   },
   "source": [
    "## FINANCIAL DATA\n",
    "\n",
    "MODULE 3 | LESSON 1\n",
    "\n",
    "\n",
    "---\n"
   ]
  },
  {
   "cell_type": "markdown",
   "metadata": {
    "id": "8MUzlL4ECchJ"
   },
   "source": [
    "# CALCULATING PORTFOLIO RISK/RETURN STATISTICS"
   ]
  },
  {
   "cell_type": "markdown",
   "metadata": {
    "id": "albyAXwOCchJ"
   },
   "source": [
    "|  |  |\n",
    "|:---|:---|\n",
    "|**Reading Time** |  40 minutes |\n",
    "|**Prior Knowledge** | Simple Stock Returns, Variance, Python, Linear Algebra, Matrix Multiplication  |\n",
    "|**Keywords** | Portfolio Return, Variance, Sharpe Ratio |\n",
    "\n",
    "---"
   ]
  },
  {
   "cell_type": "markdown",
   "metadata": {
    "id": "24GRigu0CchK"
   },
   "source": [
    "*The previous module had a focus on the individual security. For this lesson, we take what we have learned previously and apply it to a portfolio setting using a basket of stocks/crypto.*"
   ]
  },
  {
   "cell_type": "code",
   "execution_count": null,
   "metadata": {
    "executionInfo": {
     "elapsed": 927,
     "status": "ok",
     "timestamp": 1698951437666,
     "user": {
      "displayName": "Tea Toradze",
      "userId": "13683888799925082799"
     },
     "user_tz": 0
    },
    "id": "IiDccs4ZCchK"
   },
   "outputs": [],
   "source": [
    "import datetime\n",
    "import math\n",
    "\n",
    "import numpy as np\n",
    "import pandas_datareader.data as web\n",
    "import yfinance as yfin\n",
    "from IPython.display import VimeoVideo\n",
    "\n",
    "yfin.pdr_override()"
   ]
  },
  {
   "cell_type": "markdown",
   "metadata": {
    "id": "xJGztFy7CchL"
   },
   "source": [
    "## 1. Portfolio Returns\n",
    "Up to this point in the course, we've spent our time analyzing individual securities. Today, we perform a similar analysis except using a portfolio of assets. We will first quickly recap how to determine return on investment for a single asset, General Electric (GE).\n",
    "\n",
    "### 1.1 Single Asset Return Recap\n",
    "We will assume we bought 100 shares 10 years ago. To determine the cash return, we just need to use the following formula:\n",
    "\n",
    "$r_{_f} = 100\\ (p_{_f} - p_{_i})$"
   ]
  },
  {
   "cell_type": "code",
   "execution_count": null,
   "metadata": {
    "colab": {
     "base_uri": "https://localhost:8080/"
    },
    "executionInfo": {
     "elapsed": 618,
     "status": "ok",
     "timestamp": 1698951527081,
     "user": {
      "displayName": "Tea Toradze",
      "userId": "13683888799925082799"
     },
     "user_tz": 0
    },
    "id": "ifJhy6JrCchL",
    "outputId": "2fc6016e-7680-43dc-aeae-990ee082b252"
   },
   "outputs": [],
   "source": [
    "# Define all initial variables\n",
    "# start = datetime.date.today()-datetime.timedelta(365*10)\n",
    "# end = datetime.date.today()\n",
    "end_GE = datetime.date(2022, 12, 31)\n",
    "start_GE = end_GE - datetime.timedelta(365 * 10)\n",
    "\n",
    "price_GE = web.DataReader([\"GE\"], start_GE, end_GE)[\"Adj Close\"]\n",
    "initialPrice_GE = price_GE[0]\n",
    "finalPrice_GE = price_GE[-1]\n",
    "cashReturn_GE = (finalPrice_GE - initialPrice_GE) * 100\n",
    "\n",
    "print(\n",
    "    \"With an initial investment of $%.2f, \\\n",
    "    \\nthe cash return of this investment would be \\\n",
    "    \\n($%.3f - $%.3f) * 100 = $%.3f\"\n",
    "    % (initialPrice_GE * 100, finalPrice_GE, initialPrice_GE, cashReturn_GE)\n",
    ")"
   ]
  },
  {
   "cell_type": "markdown",
   "metadata": {
    "id": "-7gHXA31CchM"
   },
   "source": [
    "### 1.2 How to Calculate Return with a Basket of Assets\n",
    "We've now gone over returns of a single asset many times during this course. It's time to apply similar logic to a basket of multiple assets. This will once again be best illustrated with an example. The following calculations can easily be extended to n number of securities, but to keep it simple, we will use two for our example. For this, we need to make some basic assumptions:\n",
    "\n",
    "* 2 stocks\n",
    "    * Meta—We will refer to it as its previous name from here on out: Facebook (META)\n",
    "    * Chipotle (CMG)\n",
    "* Bought 100 shares of each five years ago\n",
    "* Goal: Calculate percentage return obtained by the portfolio at the end of the period\n",
    "\n",
    "To start, we need to calculate the weights of each asset at the start of the period:"
   ]
  },
  {
   "cell_type": "code",
   "execution_count": null,
   "metadata": {
    "colab": {
     "base_uri": "https://localhost:8080/"
    },
    "executionInfo": {
     "elapsed": 621,
     "status": "ok",
     "timestamp": 1698951531271,
     "user": {
      "displayName": "Tea Toradze",
      "userId": "13683888799925082799"
     },
     "user_tz": 0
    },
    "id": "GJe73wHjCchM",
    "outputId": "e645cbc8-efd0-440e-f502-0ae3f561b124"
   },
   "outputs": [],
   "source": [
    "# Define all initial variables\n",
    "# start = datetime.date.today()-datetime.timedelta(365*5)\n",
    "# end = datetime.date.today()\n",
    "start_stocks = datetime.date(2016, 11, 29)\n",
    "end_stocks = datetime.date(2021, 11, 28)\n",
    "\n",
    "prices_stocks = web.DataReader([\"META\", \"CMG\"], start_stocks, end_stocks)[\"Adj Close\"]\n",
    "initialMETA = prices_stocks.META[0]\n",
    "initialCMG = prices_stocks.CMG[0]\n",
    "finalMETA = prices_stocks.META[-1]\n",
    "finalCMG = prices_stocks.CMG[-1]\n",
    "METAWeight = initialMETA / (initialMETA + initialCMG)\n",
    "CMGWeight = initialCMG / (initialMETA + initialCMG)"
   ]
  },
  {
   "cell_type": "code",
   "execution_count": null,
   "metadata": {
    "colab": {
     "base_uri": "https://localhost:8080/"
    },
    "executionInfo": {
     "elapsed": 250,
     "status": "ok",
     "timestamp": 1698951533741,
     "user": {
      "displayName": "Tea Toradze",
      "userId": "13683888799925082799"
     },
     "user_tz": 0
    },
    "id": "m9ALWOHXCchM",
    "outputId": "0c9dbf7c-9002-444b-efda-96bdf3875468"
   },
   "outputs": [],
   "source": [
    "print(\n",
    "    \"We have an initial investment in META of $%.2f and in CMG $%.2f\"\n",
    "    % (initialMETA * 100, initialCMG * 100)\n",
    ")"
   ]
  },
  {
   "cell_type": "code",
   "execution_count": null,
   "metadata": {
    "colab": {
     "base_uri": "https://localhost:8080/"
    },
    "executionInfo": {
     "elapsed": 4,
     "status": "ok",
     "timestamp": 1698951535354,
     "user": {
      "displayName": "Tea Toradze",
      "userId": "13683888799925082799"
     },
     "user_tz": 0
    },
    "id": "Ldkdx5TxCchN",
    "outputId": "7446c2f8-2277-4811-dca3-a9a51741442d"
   },
   "outputs": [],
   "source": [
    "print(\n",
    "    \"This would make the weights %.2f and %.2f for META and CMG respectively\"\n",
    "    % (METAWeight, CMGWeight)\n",
    ")"
   ]
  },
  {
   "cell_type": "markdown",
   "metadata": {
    "id": "kdSh1W7-CchN"
   },
   "source": [
    "### 1.3 Final Returns\n"
   ]
  },
  {
   "cell_type": "markdown",
   "metadata": {
    "id": "LPsHFMZbCchN"
   },
   "source": [
    "In order to calculate the final portfolio percentage returns, we need to find the returns of each asset individually, multiply the return by the weight in our portfolio, and then add them together. The formula to calculate this for two assets is:\n",
    "\n",
    "$\\text{Portfolio Return} = w_1 R_1 + w_2 R_2$"
   ]
  },
  {
   "cell_type": "code",
   "execution_count": null,
   "metadata": {
    "executionInfo": {
     "elapsed": 189,
     "status": "ok",
     "timestamp": 1698951539424,
     "user": {
      "displayName": "Tea Toradze",
      "userId": "13683888799925082799"
     },
     "user_tz": 0
    },
    "id": "r1tCJchPCchO"
   },
   "outputs": [],
   "source": [
    "returnMETA = 100 * (finalMETA - initialMETA) / initialMETA\n",
    "returnCMG = 100 * (finalCMG - initialCMG) / initialCMG"
   ]
  },
  {
   "cell_type": "code",
   "execution_count": null,
   "metadata": {
    "colab": {
     "base_uri": "https://localhost:8080/"
    },
    "executionInfo": {
     "elapsed": 3,
     "status": "ok",
     "timestamp": 1698951541068,
     "user": {
      "displayName": "Tea Toradze",
      "userId": "13683888799925082799"
     },
     "user_tz": 0
    },
    "id": "g5ZnmzrvCchO",
    "outputId": "86b04520-7662-42b4-972f-5d71d7504f89"
   },
   "outputs": [],
   "source": [
    "print(\n",
    "    \"This return over this period for Facebook is %.2f%% and %.2f%% for Chipotle\"\n",
    "    % (returnMETA, returnCMG)\n",
    ")"
   ]
  },
  {
   "cell_type": "code",
   "execution_count": null,
   "metadata": {
    "colab": {
     "base_uri": "https://localhost:8080/"
    },
    "executionInfo": {
     "elapsed": 195,
     "status": "ok",
     "timestamp": 1698951543872,
     "user": {
      "displayName": "Tea Toradze",
      "userId": "13683888799925082799"
     },
     "user_tz": 0
    },
    "id": "jBE7OGZuCchO",
    "outputId": "6f60f11c-452f-42fa-82ea-e565dd5a5e3f"
   },
   "outputs": [],
   "source": [
    "print(\n",
    "    \"Multiplying these individual returns by their weights gives %.2f (META) and %.2f (CMG)\"\n",
    "    % (returnMETA * METAWeight, returnCMG * CMGWeight)\n",
    ")"
   ]
  },
  {
   "cell_type": "code",
   "execution_count": null,
   "metadata": {
    "colab": {
     "base_uri": "https://localhost:8080/"
    },
    "executionInfo": {
     "elapsed": 261,
     "status": "ok",
     "timestamp": 1698951545432,
     "user": {
      "displayName": "Tea Toradze",
      "userId": "13683888799925082799"
     },
     "user_tz": 0
    },
    "id": "S0Mt-db7CchO",
    "outputId": "8dad08a9-9781-48ec-a660-4f2af1174e05"
   },
   "outputs": [],
   "source": [
    "returnMETA * METAWeight + returnCMG * CMGWeight"
   ]
  },
  {
   "cell_type": "markdown",
   "metadata": {
    "id": "lWmLB-UVCchO"
   },
   "source": [
    "Adding these weighted returns together gives us a portfolio return of 41.14% + 250.35% = 291.49%"
   ]
  },
  {
   "cell_type": "markdown",
   "metadata": {
    "id": "MujmWzbgCchO"
   },
   "source": [
    "Our portfolio would have returned 291.49% over the last five years, assuming we invested in both assets on the same starting date and with our weights.\n",
    "\n",
    "In the first video of this lesson, we show how to transition from calculating an individual security's returns to calculating the returns of a portfolio of assets.<span style='color: transparent; font-size:1%'>All rights reserved WQU WorldQuant University QQQQ</span>"
   ]
  },
  {
   "cell_type": "code",
   "execution_count": null,
   "metadata": {
    "colab": {
     "base_uri": "https://localhost:8080/",
     "height": 321
    },
    "executionInfo": {
     "elapsed": 266,
     "status": "ok",
     "timestamp": 1698919035482,
     "user": {
      "displayName": "Christos Koutkos",
      "userId": "05788829401179389824"
     },
     "user_tz": -120
    },
    "id": "zCh2zf0SCchO",
    "outputId": "1c03f3c8-d89b-4ff3-8dd4-4d58a466d1c0"
   },
   "outputs": [],
   "source": [
    "VimeoVideo(\"706655699\", h=\"1a478ba2bf\", width=600)"
   ]
  },
  {
   "cell_type": "markdown",
   "metadata": {
    "id": "Jq2aAkwbCchP"
   },
   "source": [
    "##### [Access video transcript here](https://drive.google.com/file/d/1XBLrPLm9xtBfS74KK2xve2TuU5Ci9ZOf/view?usp=sharing)"
   ]
  },
  {
   "cell_type": "markdown",
   "metadata": {
    "id": "BSDmiZY4CchP"
   },
   "source": [
    "## 2. Calculating Portfolio Variance\n",
    "This was discussed at a high level during the Financial Markets course, but here, we will show how to calculate variance in Python with empirical data. While returns are important, investors are also concerned about risk or volatility. We will use variance of returns to determine risk. Once again, we will use an example, using the same data as before to drive the point home. A bit of linear algebra is needed, but luckily, we have Python to do the tough calculations for us.\n",
    "\n",
    "If we were to calculate this for two assets using pencil and paper, we could use the following formula:\n",
    "\n",
    "$$\\textrm{Portfolio variance} = w_1^2 \\sigma_1^2 + w_2^2\\sigma_2^2 + 2 w_1 w_2 Cov_{1,2}$$\n",
    "\n",
    "Where:\n",
    "\n",
    "$w_1$ = the portfolio weight of the first asset  </br>\n",
    "$w_2$ = the portfolio weight of the second asset  </br>\n",
    "$\\sigma_1$ = the standard deviation of the first asset  </br>\n",
    "$\\sigma_2$ = the standard deviation of the second asset  </br>\n",
    "$Cov_{1,2}$ = the covariance of the two assets, which can thus be expressed as $\\rho_{_{(1,2)}} \\sigma_1 \\sigma_2$, where $\\rho_{_{(1,2)}}$ is the correlation coefficient between the two assets  </br>\n",
    "\n",
    "\n",
    "Luckily, Python makes it easy for us to expand the formula to $n$ number of assets. This formula is better expressed in matrix notation since it's easier to apply this way in Python:\n",
    "\n",
    "$$\\text{Portfolio Variance} = \\text{Weights transposed} \\times (\\text{covariance matrix}) \\times \\text{weights}$$\n",
    "\n"
   ]
  },
  {
   "cell_type": "markdown",
   "metadata": {
    "id": "y_q7hwiiCchP"
   },
   "source": [
    "### 2.1 Defining Variables\n",
    "\n",
    "Let's put those portfolio weights we calculated before into an array and also calculate the simple daily returns of our asset along with a covariance matrix of these daily returns. Keep in mind that we will multiply the daily returns covariance matrix by 252 to measure annual variance.\n"
   ]
  },
  {
   "cell_type": "code",
   "execution_count": null,
   "metadata": {
    "executionInfo": {
     "elapsed": 201,
     "status": "ok",
     "timestamp": 1698951598627,
     "user": {
      "displayName": "Tea Toradze",
      "userId": "13683888799925082799"
     },
     "user_tz": 0
    },
    "id": "VpUYLHMACchP"
   },
   "outputs": [],
   "source": [
    "weights_stocks = np.array([0.77, 0.23])\n",
    "returns_stocks = prices_stocks.pct_change()\n",
    "covariance_stocks = 252 * returns_stocks.cov()"
   ]
  },
  {
   "cell_type": "markdown",
   "metadata": {
    "id": "2nhGPrAGCchP"
   },
   "source": [
    "After defining these, we simply need to take the dot product of the transposed weights with the dot product of the covariance matrix and weights to get the annual variance of our portfolio. Note: The t-method in numpy just transposes the array."
   ]
  },
  {
   "cell_type": "code",
   "execution_count": null,
   "metadata": {
    "colab": {
     "base_uri": "https://localhost:8080/"
    },
    "executionInfo": {
     "elapsed": 342,
     "status": "ok",
     "timestamp": 1698951601202,
     "user": {
      "displayName": "Tea Toradze",
      "userId": "13683888799925082799"
     },
     "user_tz": 0
    },
    "id": "e4UOnVu8CchP",
    "outputId": "012666e9-935f-4dc8-fb8c-3d40b719668d"
   },
   "outputs": [],
   "source": [
    "variance_stocks = np.dot(weights_stocks.T, np.dot(covariance_stocks, weights_stocks))\n",
    "\n",
    "# Print the result\n",
    "print(f\"The portfolio variance is {np.round(variance_stocks, 4)}\")"
   ]
  },
  {
   "cell_type": "markdown",
   "metadata": {
    "id": "LRQ5c3v6CchP"
   },
   "source": [
    "We determine that the annual variance of our portfolio is 0.1033. Let's compare this to the variance of each individual asset.\n",
    "\n",
    "### 2.2 Comparing Portfolio Variance to Individual Stock Variance\n",
    "This shows the annual variance of a portfolio with META and CMG weighted 23% and 77% respectively has shown a 0.1033 annual variance over the last five years.\n",
    "\n",
    "One extremely interesting byproduct of this result can be seen when calculating variance of the equities individually. One of the main pillars of modern portfolio theory is about how diversification reduces risk. We can see this clear as day by looking at each stock's variance over the same time period."
   ]
  },
  {
   "cell_type": "code",
   "execution_count": null,
   "metadata": {
    "colab": {
     "base_uri": "https://localhost:8080/"
    },
    "executionInfo": {
     "elapsed": 201,
     "status": "ok",
     "timestamp": 1698951611991,
     "user": {
      "displayName": "Tea Toradze",
      "userId": "13683888799925082799"
     },
     "user_tz": 0
    },
    "id": "1P_vqKljCchQ",
    "outputId": "3bc4171c-f96d-44e0-e082-3af35fdad4cf"
   },
   "outputs": [],
   "source": [
    "returns_stocks.var() * 252"
   ]
  },
  {
   "cell_type": "markdown",
   "metadata": {
    "id": "4sh_-UlwCchQ"
   },
   "source": [
    "We can see in above that both stocks' variance is higher than that of our portfolio, and even though CMG has a 77% weighting and a 13.7% variance, our portfolio's variance is more than 5 percentage points lower. This is because, if assets are not perfectly correlated, there will be some diversification benefit to risk by investing in multiple securities."
   ]
  },
  {
   "cell_type": "markdown",
   "metadata": {
    "id": "FyFKzwhXCchQ"
   },
   "source": [
    "### 2.3 Calculating Standard Deviation of the Portfolio\n",
    "Taking this a step further, since we know standard deviation is just the square root of variance, we can also calculate that here.\n",
    "\n",
    "The below calculation shows the annual standard deviation of our portfolio to be about 32%:"
   ]
  },
  {
   "cell_type": "code",
   "execution_count": null,
   "metadata": {
    "colab": {
     "base_uri": "https://localhost:8080/"
    },
    "executionInfo": {
     "elapsed": 242,
     "status": "ok",
     "timestamp": 1698951628058,
     "user": {
      "displayName": "Tea Toradze",
      "userId": "13683888799925082799"
     },
     "user_tz": 0
    },
    "id": "vqGMUfC2CchQ",
    "outputId": "00960ef4-cb08-44e9-b9f5-a7de55dd6d8c"
   },
   "outputs": [],
   "source": [
    "np.round(math.sqrt(variance_stocks) * 100, 2)"
   ]
  },
  {
   "cell_type": "markdown",
   "metadata": {
    "id": "XKFoK3bXCchQ"
   },
   "source": [
    "Just like with the last video where we moved from thinking about individual stocks to a basket of stocks, we do the same here in order to calculate variance and standard deviation of returns for a portfolio."
   ]
  },
  {
   "cell_type": "code",
   "execution_count": null,
   "metadata": {
    "colab": {
     "base_uri": "https://localhost:8080/",
     "height": 321
    },
    "executionInfo": {
     "elapsed": 6,
     "status": "ok",
     "timestamp": 1698844827720,
     "user": {
      "displayName": "Christos Koutkos",
      "userId": "05788829401179389824"
     },
     "user_tz": -120
    },
    "id": "28-ghN-wCchR",
    "outputId": "4468b81b-7f57-483f-a4eb-e555f99e6a37"
   },
   "outputs": [],
   "source": [
    "VimeoVideo(\"706655745\", h=\"8aa2f6d895\", width=600)"
   ]
  },
  {
   "cell_type": "markdown",
   "metadata": {
    "id": "vFaYaJOwCchR"
   },
   "source": [
    "##### [Access video transcript here](https://drive.google.com/file/d/1GJfJMRmDvKy1Hd8eUWL8VeGQcuwAsR-I/view?usp=sharing)"
   ]
  },
  {
   "cell_type": "markdown",
   "metadata": {
    "id": "HGMNLt3kCchR"
   },
   "source": [
    "## 3. Sharpe Ratio of Portfolio\n",
    "Calculating the Sharpe ratio of a portfolio is pretty easy at this point since we have all the variables we need at our disposal. As a recap, the Sharpe ratio is just:\n",
    "\n",
    "$$\\frac{\\text{Portfolio Return} - \\text{risk-free rate}}{\\text{Portfolio Standard Dev}}$$\n",
    "\n",
    "Since interest rates have been near 0 for a while now, we will assume 0 for the risk-free rate. Our formula is now:\n",
    "\n",
    "$$\\frac{\\text{Portfolio Return}}{\\text{Portfolio Standard Dev}}$$\n",
    "\n",
    "We have calculated the total return of our portfolio over five years to be 291.49%. To get a single-year return, we can divide this number by 5 to get 58.298%. Considering our annual standard deviation is 32.14%, we can get the Sharpe ratio by dividing these two numbers to get 1.8138 as the Sharpe ratio for our portfolio. In most cases, a Sharpe ratio over 1 is an exceptional risk/return metric. This makes sense considering how advantageous investments in Chipotle or Facebook would have been if you had invested in them five years ago.\n"
   ]
  },
  {
   "cell_type": "markdown",
   "metadata": {
    "id": "H044EcjNCchR"
   },
   "source": [
    "## 4. Performing Similar Analysis on Cryptocurrencies\n",
    "\n",
    "We will use the two most popular cryptocurrencies to perform a similar analysis, and we will compare and contrast them to the equity results we have obtained. We'll perform the analysis over the same time frame (the last five years) for the two most popular cryptocurrencies: Bitcoin and Ethereum. This time, let's say we bought five Bitcoin and 100 Ethereum five years ago.\n"
   ]
  },
  {
   "cell_type": "code",
   "execution_count": null,
   "metadata": {
    "colab": {
     "base_uri": "https://localhost:8080/"
    },
    "executionInfo": {
     "elapsed": 1047,
     "status": "ok",
     "timestamp": 1698951635173,
     "user": {
      "displayName": "Tea Toradze",
      "userId": "13683888799925082799"
     },
     "user_tz": 0
    },
    "id": "S_9LLWFECchR",
    "outputId": "8442b09c-c306-4f4d-9557-d7f491a51a96"
   },
   "outputs": [],
   "source": [
    "# Define all initial variables\n",
    "# start = datetime.date.today()-datetime.timedelta(365*5)\n",
    "# end = datetime.date.today()\n",
    "\n",
    "start_crypto = datetime.date(2017, 11, 29)\n",
    "end_crypto = datetime.date(2022, 11, 28)\n",
    "\n",
    "prices_crypto = web.DataReader([\"BTC-USD\", \"ETH-USD\"], start_crypto, end_crypto)[\n",
    "    \"Adj Close\"\n",
    "]\n",
    "prices_crypto = prices_crypto.rename(\n",
    "    columns={\"BTC-USD\": \"Bitcoin\", \"ETH-USD\": \"Ethereum\"}\n",
    ")\n",
    "\n",
    "initialBTC = 5 * prices_crypto.Bitcoin[0]\n",
    "initialETH = 100 * prices_crypto.Ethereum[0]\n",
    "finalBTC = 5 * prices_crypto.Bitcoin[-1]\n",
    "finalETH = 100 * prices_crypto.Ethereum[-1]\n",
    "BTCWeight = initialBTC / (initialBTC + initialETH)\n",
    "ETHWeight = initialETH / (initialBTC + initialETH)"
   ]
  },
  {
   "cell_type": "code",
   "execution_count": null,
   "metadata": {
    "colab": {
     "base_uri": "https://localhost:8080/"
    },
    "executionInfo": {
     "elapsed": 8,
     "status": "ok",
     "timestamp": 1698951656357,
     "user": {
      "displayName": "Tea Toradze",
      "userId": "13683888799925082799"
     },
     "user_tz": 0
    },
    "id": "6cJrxSnQCchR",
    "outputId": "0c59132b-1302-4e59-bb5e-77df4f169141"
   },
   "outputs": [],
   "source": [
    "print(\n",
    "    \"This would make the weights %.2f and %.2f for Bitcoin and Ethereum respectively\"\n",
    "    % (BTCWeight, ETHWeight)\n",
    ")"
   ]
  },
  {
   "cell_type": "code",
   "execution_count": null,
   "metadata": {
    "executionInfo": {
     "elapsed": 234,
     "status": "ok",
     "timestamp": 1698951659194,
     "user": {
      "displayName": "Tea Toradze",
      "userId": "13683888799925082799"
     },
     "user_tz": 0
    },
    "id": "5zE32AgeCchS"
   },
   "outputs": [],
   "source": [
    "returnBTC = 100 * (finalBTC - initialBTC) / initialBTC\n",
    "returnETH = 100 * (finalETH - initialETH) / initialETH"
   ]
  },
  {
   "cell_type": "code",
   "execution_count": null,
   "metadata": {
    "colab": {
     "base_uri": "https://localhost:8080/"
    },
    "executionInfo": {
     "elapsed": 9,
     "status": "ok",
     "timestamp": 1698951660789,
     "user": {
      "displayName": "Tea Toradze",
      "userId": "13683888799925082799"
     },
     "user_tz": 0
    },
    "id": "QzDSG6DbCchS",
    "outputId": "3c582c24-977e-40f4-d372-ac6791642e0d"
   },
   "outputs": [],
   "source": [
    "np.round(returnBTC, 5)"
   ]
  },
  {
   "cell_type": "code",
   "execution_count": null,
   "metadata": {
    "colab": {
     "base_uri": "https://localhost:8080/"
    },
    "executionInfo": {
     "elapsed": 4,
     "status": "ok",
     "timestamp": 1698951662871,
     "user": {
      "displayName": "Tea Toradze",
      "userId": "13683888799925082799"
     },
     "user_tz": 0
    },
    "id": "Trxb0-0ACchS",
    "outputId": "3e55e68b-6d23-4809-a28d-1274f414819b"
   },
   "outputs": [],
   "source": [
    "np.round(returnETH, 5)"
   ]
  },
  {
   "cell_type": "markdown",
   "metadata": {
    "id": "615pARm2CchS"
   },
   "source": [
    "Bitcoin returned 66.30% and Ethereum has returned 179.55%. If we keep using our portfolio weights from before, our portfolio would have returned 118.81%."
   ]
  },
  {
   "cell_type": "code",
   "execution_count": null,
   "metadata": {
    "colab": {
     "base_uri": "https://localhost:8080/"
    },
    "executionInfo": {
     "elapsed": 204,
     "status": "ok",
     "timestamp": 1698951672444,
     "user": {
      "displayName": "Tea Toradze",
      "userId": "13683888799925082799"
     },
     "user_tz": 0
    },
    "id": "c88r2duOCchT",
    "outputId": "230a6906-d985-40e1-f7d4-e13c17abb58f"
   },
   "outputs": [],
   "source": [
    "np.round(returnBTC * BTCWeight + returnETH * ETHWeight, 5)"
   ]
  },
  {
   "cell_type": "markdown",
   "metadata": {
    "id": "96CWDJamCchT"
   },
   "source": [
    "### 4.1 Calculating Variance for Cryptos\n",
    "Notice instead of multiplying by 252 like we did previously to annualize our variance, we use 365 here since cryptos trade seven days a week:"
   ]
  },
  {
   "cell_type": "code",
   "execution_count": null,
   "metadata": {
    "colab": {
     "base_uri": "https://localhost:8080/"
    },
    "executionInfo": {
     "elapsed": 244,
     "status": "ok",
     "timestamp": 1698951677320,
     "user": {
      "displayName": "Tea Toradze",
      "userId": "13683888799925082799"
     },
     "user_tz": 0
    },
    "id": "kAotHVqgCchT",
    "outputId": "bf35e9b2-8c6b-40a7-efd4-08f64d734f35"
   },
   "outputs": [],
   "source": [
    "# Calculating portfolio variance\n",
    "weights_crypto = np.array([BTCWeight, ETHWeight])\n",
    "returns_crypto = prices_crypto.pct_change()\n",
    "covariance = 365 * returns_crypto.cov()\n",
    "variance_crypto = np.dot(weights_crypto.T, np.dot(covariance, weights_crypto))\n",
    "print(\n",
    "    f\"The variance of the portfolio consisting of BTC and ETH is: {np.round(variance_crypto, 3)}\"\n",
    ")"
   ]
  },
  {
   "cell_type": "markdown",
   "metadata": {
    "id": "4yHkc-ERCchT"
   },
   "source": [
    "We get 0.661 variance for our portfolio, which translates to an annual standard deviation of 81.30%. Even though we were in relatively risky stocks, the standard deviation of that portfolio (32.14%) pales in comparison to this.\n",
    "\n",
    "Lets now calculate the Sharpe ratio."
   ]
  },
  {
   "cell_type": "markdown",
   "metadata": {
    "id": "exPudizuCchT"
   },
   "source": [
    "### 4.2 Sharpe Ratio Comparison\n",
    "The Sharpe ratio of our stock portfolio was 1.8138. If we run the same calculation on our crypto portfolio we get:\n",
    "\n",
    "118.81 / 5 = 23.76% as our annual percentage return. If we divide this by the standard deviation we get:\n",
    "\n",
    "23.76% / 81.30% = 0.2922 Sharpe Ratio\n",
    "\n",
    "We observe that the Sharpe Ratio of the Crypto portfolio is lower than the one of the stocks. This is somewhat different from what we got used to reading in the news and blogs concerning the amazing returns of the crypto assets in general. Of course, the choice of the 5 years is very important since the volatility and price swings throughout this period are much greater. For example, if the end date for the crypto portfolio was chosen at the top of the bull market, the Sharpe ratio would have been a lot greater."
   ]
  },
  {
   "cell_type": "markdown",
   "metadata": {
    "id": "Z2OVeZhmCchT"
   },
   "source": [
    "## 5. Conclusion\n",
    "\n",
    "During this lesson, we hint and imply that diversifying reduces risk in a portfolio. In the next lesson, we will prove it by quantifying the benefits of diversification."
   ]
  },
  {
   "cell_type": "markdown",
   "metadata": {
    "deletable": false,
    "editable": false,
    "id": "TFC9eupHCchT"
   },
   "source": [
    "---\n",
    "Copyright 2023 WorldQuant University. This\n",
    "content is licensed solely for personal use. Redistribution or\n",
    "publication of this material is strictly prohibited.\n"
   ]
  }
 ],
 "metadata": {
  "colab": {
   "provenance": []
  },
  "kernelspec": {
   "display_name": "Python 3 (ipykernel)",
   "language": "python",
   "name": "python3"
  },
  "language_info": {
   "codemirror_mode": {
    "name": "ipython",
    "version": 3
   },
   "file_extension": ".py",
   "mimetype": "text/x-python",
   "name": "python",
   "nbconvert_exporter": "python",
   "pygments_lexer": "ipython3",
   "version": "3.9.13"
  }
 },
 "nbformat": 4,
 "nbformat_minor": 4
}
