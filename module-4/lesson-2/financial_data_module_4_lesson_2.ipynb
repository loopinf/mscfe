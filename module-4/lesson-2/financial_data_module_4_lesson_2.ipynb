{
 "cells": [
  {
   "cell_type": "markdown",
   "metadata": {
    "id": "V5iiz3y44bdE"
   },
   "source": [
    "\n",
    "## FINANCIAL DATA\n",
    "MODULE 4 | LESSON 2\n",
    "\n",
    "\n",
    "---\n"
   ]
  },
  {
   "cell_type": "markdown",
   "metadata": {
    "id": "T9BuCplFt7z7"
   },
   "source": [
    "# **OPTION DEPENDENCIES**"
   ]
  },
  {
   "cell_type": "markdown",
   "metadata": {
    "id": "MfYoEKT2DtCm"
   },
   "source": [
    "|  |  |\n",
    "|:---|:---|\n",
    "|**Reading Time** |  40-60 minutes |\n",
    "|**Prior Knowledge** |Python package opstrat, Python package optionprice, ATM, ITM, OTM, Analytic   |\n",
    "|**Keywords** |Option Dependencies, Early Exercise, Stochastic Dominance   |\n",
    "\n",
    "\n",
    "---\n",
    "<span style='color: transparent; font-size:1%'>All rights reserved WQU WorldQuant University QQQQ</span>"
   ]
  },
  {
   "cell_type": "markdown",
   "metadata": {
    "id": "y13GG3Qztz9k"
   },
   "source": [
    "*In the previous lesson, we covered the basics of option payoffs for single and multiple option strategies. In this lesson, we examine how options depend on their various components: stock prices, expiry times, volatilities, and interest rates.*  "
   ]
  },
  {
   "cell_type": "code",
   "execution_count": null,
   "metadata": {
    "executionInfo": {
     "elapsed": 1568,
     "status": "ok",
     "timestamp": 1698953812098,
     "user": {
      "displayName": "Tea Toradze",
      "userId": "13683888799925082799"
     },
     "user_tz": 0
    },
    "id": "P-purqaqiJOa"
   },
   "outputs": [],
   "source": [
    "import matplotlib.patches as mpatches\n",
    "import pandas as pd\n",
    "from matplotlib import pyplot as plt\n",
    "from optionprice import Option"
   ]
  },
  {
   "cell_type": "markdown",
   "metadata": {
    "id": "dk1sxt_CiJOb"
   },
   "source": [
    "## 1. Creating Objects\n",
    "\n",
    "Recall from the previous lesson that we used the Python package `optionprice`.\n",
    "This has a function called `Option()`. We can use that function to create vanilla calls and puts."
   ]
  },
  {
   "cell_type": "code",
   "execution_count": null,
   "metadata": {
    "colab": {
     "base_uri": "https://localhost:8080/"
    },
    "executionInfo": {
     "elapsed": 235,
     "status": "ok",
     "timestamp": 1698953813825,
     "user": {
      "displayName": "Tea Toradze",
      "userId": "13683888799925082799"
     },
     "user_tz": 0
    },
    "id": "8oY0pas2iJOb",
    "outputId": "0e1c9fb0-4aab-4d4d-ddf3-22648befc527"
   },
   "outputs": [],
   "source": [
    "myCall = Option(\n",
    "    european=True, kind=\"call\", s0=100, k=100, t=30, sigma=0.20, r=0.05, dv=0\n",
    ")\n",
    "print(myCall)\n",
    "round(myCall.getPrice(), 4)"
   ]
  },
  {
   "cell_type": "markdown",
   "metadata": {
    "id": "G4K4J2usiJOd"
   },
   "source": [
    "While this was helpful to see payoffs, we want to use more common data structures to study the features of options. In this lesson, we'll use data frames, lists, and dictionaries. You should be familiar with all these data structures.\n",
    "Be sure to complete the assigned reading for this lesson. Reading the chapters in *Quantitative Economics* can refresh your memory\n",
    "with the creation, subsetting, and usage of data frames.\n",
    "\n",
    "Let's get ready to save a bunch of stock prices and the corresponding option prices in a pandas data frame. We'll create a data frame with a column called Stock and a column called Option."
   ]
  },
  {
   "cell_type": "code",
   "execution_count": null,
   "metadata": {
    "executionInfo": {
     "elapsed": 199,
     "status": "ok",
     "timestamp": 1698953816387,
     "user": {
      "displayName": "Tea Toradze",
      "userId": "13683888799925082799"
     },
     "user_tz": 0
    },
    "id": "b7stWjfliJOd"
   },
   "outputs": [],
   "source": [
    "df = pd.DataFrame(columns=[\"Stock\", \"Option\"])"
   ]
  },
  {
   "cell_type": "markdown",
   "metadata": {
    "id": "GujdFELxiJOd"
   },
   "source": [
    "## 2. Comparing Option Prices to Stock Prices\n",
    "Now, let's define a wrapper function to the opstrat function Option. We want to price an option using different stock prices, but keeping all other variables the same.\n",
    "Our `CallOptionVsStock()` function will use default values for everything except the stock price.\n",
    "It is not our intent to write a very general function, but just one that can help create plots that show how the option price varies with the underlying stock price."
   ]
  },
  {
   "cell_type": "code",
   "execution_count": null,
   "metadata": {
    "executionInfo": {
     "elapsed": 218,
     "status": "ok",
     "timestamp": 1698953818460,
     "user": {
      "displayName": "Tea Toradze",
      "userId": "13683888799925082799"
     },
     "user_tz": 0
    },
    "id": "alA_bntiiJOf"
   },
   "outputs": [],
   "source": [
    "def CallOptionVsStock(S, k=100, t=30, sigma=0.20, r=0.05, dv=0):\n",
    "    myCall = Option(european=True, kind=\"call\", s0=S, k=k, t=t, sigma=sigma, r=r, dv=0)\n",
    "    return myCall.getPrice()"
   ]
  },
  {
   "cell_type": "markdown",
   "metadata": {
    "id": "vU8wu4lTiJOg"
   },
   "source": [
    "This is an easy function to understand. We give it a descriptive, albeit somewhat long, function name that indicates we will be able to price options given stock prices.\n",
    "\n",
    "Notice that we use default for the other five variables: strike, expiry, volatility, risk-free rate, and dividend yield. The function merely passes these arguments to the `optionprice` function `Option()`. The function then returns the price of that option using the analytical method.\n",
    "\n",
    "We'll define two more simple functions. First, we'll define a function, `getCallPayoff()`, that determines the call's payoff, which is the non-negative value of S-K or 0.\n",
    "\n",
    "Second, we'll define a function, `addCallPayoff()`, that will add the call payoff to the price chart. Note, in `addCallPayoff()`, we take advantage of the Python function map, by mapping the `getCallPayoff()` function over each of the stock prices, and storing the results in a list of option prices.\n",
    "\n",
    "Just like data frames, these data structures should be familiar. Please see the required reading on lists in the textbook.\n"
   ]
  },
  {
   "cell_type": "code",
   "execution_count": null,
   "metadata": {
    "executionInfo": {
     "elapsed": 343,
     "status": "ok",
     "timestamp": 1698953826974,
     "user": {
      "displayName": "Tea Toradze",
      "userId": "13683888799925082799"
     },
     "user_tz": 0
    },
    "id": "bn7EM-tfiJOh"
   },
   "outputs": [],
   "source": [
    "def getCallPayoff(S, K=100):\n",
    "    if S > K:\n",
    "        return S - K\n",
    "    return 0\n",
    "\n",
    "\n",
    "def addCallPayoff(K, rng=21):\n",
    "    stockP = range(K - 21, K + 21)\n",
    "    OptionP = list(map(getCallPayoff, stockP))\n",
    "    plt.plot(stockP, OptionP, linestyle=\"dotted\")"
   ]
  },
  {
   "cell_type": "markdown",
   "metadata": {
    "id": "GoxmxNZLiJOi"
   },
   "source": [
    "Next, we create a list of the stock prices.  To create a smooth graph, we would like to have, say, about 40 different stock prices.  So we'll create a sequence of stock prices that span values centered around the strike level. Suppose the strike is 90.  We'll have stock prices at 70, 71, 72, ..., 90, 91, ..., 108, 109, and 110.  Likewise, we'll initialize a list of the option prices. Again, we make good use of the map function by mapping the `CallOptionVsStock()` function over each of the stock prices and storing the results in a list of option prices."
   ]
  },
  {
   "cell_type": "code",
   "execution_count": null,
   "metadata": {
    "executionInfo": {
     "elapsed": 209,
     "status": "ok",
     "timestamp": 1698953829101,
     "user": {
      "displayName": "Tea Toradze",
      "userId": "13683888799925082799"
     },
     "user_tz": 0
    },
    "id": "oc0gad-WiJOj"
   },
   "outputs": [],
   "source": [
    "StockPrices = list(range(80, 120))\n",
    "OptionPrices = list(map(CallOptionVsStock, StockPrices))"
   ]
  },
  {
   "cell_type": "markdown",
   "metadata": {
    "id": "9VuXmyt5iJOj"
   },
   "source": [
    "It's time to graph. Let's use the `matplotlib` package. Please read the chapter in *Quantitative Economics* to understand this extremely useful package for graphing."
   ]
  },
  {
   "cell_type": "code",
   "execution_count": null,
   "metadata": {
    "colab": {
     "base_uri": "https://localhost:8080/",
     "height": 472
    },
    "executionInfo": {
     "elapsed": 665,
     "status": "ok",
     "timestamp": 1698953830634,
     "user": {
      "displayName": "Tea Toradze",
      "userId": "13683888799925082799"
     },
     "user_tz": 0
    },
    "id": "ckp62q3jiJOj",
    "outputId": "f5da917e-6245-406a-dfaf-d6375f2e0fe2"
   },
   "outputs": [],
   "source": [
    "plt.plot(StockPrices, OptionPrices)\n",
    "plt.title(\"Call Option vs. Stock Price\")\n",
    "plt.xlabel(\"Stock Price\")\n",
    "plt.ylabel(\"Call Price\")\n",
    "addCallPayoff(100)"
   ]
  },
  {
   "cell_type": "markdown",
   "metadata": {
    "id": "6HG_D1lqiJOk"
   },
   "source": [
    "Be sure to distinguish between the two curves. The blue line represents the option's price. The price applies during the option's lifetime. The orange line represents the option's payoff. The payoff applies only at the option's expiration.\n",
    "\n",
    "Let's repeat the same process for puts. First, we'll define functions for `PutOptionsVsStock()`, `getPutPayoff()`, and `addPutPayoff()`."
   ]
  },
  {
   "cell_type": "code",
   "execution_count": null,
   "metadata": {
    "executionInfo": {
     "elapsed": 212,
     "status": "ok",
     "timestamp": 1698953840306,
     "user": {
      "displayName": "Tea Toradze",
      "userId": "13683888799925082799"
     },
     "user_tz": 0
    },
    "id": "kIZrcLnYiJOk"
   },
   "outputs": [],
   "source": [
    "def PutOptionVsStock(S, k=100, t=30, sigma=0.20, r=0.05, dv=0):\n",
    "    myPut = Option(s0=S, european=True, kind=\"put\", k=k, t=t, sigma=sigma, r=r, dv=0)\n",
    "    return myPut.getPrice()\n",
    "\n",
    "\n",
    "def getPutPayoff(S, K=100):\n",
    "    if S < K:\n",
    "        return K - S\n",
    "    return 0\n",
    "\n",
    "\n",
    "def addPutPayoff(K, rng=21):\n",
    "    stockP = range(K - 21, K + 21)\n",
    "    optionP = list(map(getPutPayoff, stockP))\n",
    "    plt.plot(stockP, optionP, linestyle=\"dotted\")"
   ]
  },
  {
   "cell_type": "markdown",
   "metadata": {
    "id": "xy_HNRGEiJOl"
   },
   "source": [
    "Now we can reuse the list of the stock prices, ranging 20% from the strike."
   ]
  },
  {
   "cell_type": "code",
   "execution_count": null,
   "metadata": {
    "colab": {
     "base_uri": "https://localhost:8080/",
     "height": 472
    },
    "executionInfo": {
     "elapsed": 645,
     "status": "ok",
     "timestamp": 1698953843325,
     "user": {
      "displayName": "Tea Toradze",
      "userId": "13683888799925082799"
     },
     "user_tz": 0
    },
    "id": "zfPDXG_NiJOl",
    "outputId": "486c5c0c-34ce-4f0a-b5b0-1c9acbde15ee"
   },
   "outputs": [],
   "source": [
    "StockPrices = list(range(80, 120))\n",
    "OptionPrices = list(map(PutOptionVsStock, StockPrices))\n",
    "\n",
    "plt.plot(StockPrices, OptionPrices)\n",
    "plt.title(\"Put Option vs. Stock Price\")\n",
    "plt.xlabel(\"Stock Price\")\n",
    "plt.ylabel(\"Put Price\")\n",
    "addPutPayoff(100)"
   ]
  },
  {
   "cell_type": "code",
   "execution_count": null,
   "metadata": {
    "colab": {
     "base_uri": "https://localhost:8080/"
    },
    "executionInfo": {
     "elapsed": 310,
     "status": "ok",
     "timestamp": 1698953846375,
     "user": {
      "displayName": "Tea Toradze",
      "userId": "13683888799925082799"
     },
     "user_tz": 0
    },
    "id": "374YMNPwiJOm",
    "outputId": "a29c78bf-3656-4de2-bafc-e39d0f8fabf7"
   },
   "outputs": [],
   "source": [
    "myCall = Option(\n",
    "    european=True, kind=\"call\", s0=100, k=100, t=30, sigma=0.20, r=0.05, dv=0\n",
    ")\n",
    "print(myCall)\n",
    "round(myCall.getPrice(), 4)"
   ]
  },
  {
   "cell_type": "markdown",
   "metadata": {
    "id": "6GIL22JciJOn"
   },
   "source": [
    "## 3. Time Value of Calls and Puts\n",
    "In each of these plots, the orange dotted line represents the option's payoff. This is the value of the option at expiration. The blue line represents the option's price.\n",
    "There is a subtle point to notice regarding the relative location. When we are out of the money, the blue line exceeds the option payoff. Why?\n",
    "\n",
    "Recall from Module 4 in Financial Markets that an option's value equals its intrinsic value plus its time value.\n",
    "Out-of-the-money options do not have intrinsic value. All their value comes from having more time.\n",
    "\n",
    "Generally, more time means more chances to get in the money!\n",
    "\n",
    "However, look at the difference when in the money.\n",
    "In fact, the effect will be even more pronounced if we increase the time to expiration.\n"
   ]
  },
  {
   "cell_type": "code",
   "execution_count": null,
   "metadata": {
    "colab": {
     "base_uri": "https://localhost:8080/",
     "height": 472
    },
    "executionInfo": {
     "elapsed": 743,
     "status": "ok",
     "timestamp": 1698953852226,
     "user": {
      "displayName": "Tea Toradze",
      "userId": "13683888799925082799"
     },
     "user_tz": 0
    },
    "id": "ePOjJ3YNiJOn",
    "outputId": "5a0256ab-4ad8-4985-d530-02f4d3be1715"
   },
   "outputs": [],
   "source": [
    "def CallOptionVsStock(S, k=100, t=180, sigma=0.20, r=0.05, dv=0):\n",
    "    myCall = Option(european=True, kind=\"call\", s0=S, k=k, t=t, sigma=sigma, r=r, dv=0)\n",
    "    return myCall.getPrice()\n",
    "\n",
    "\n",
    "OptionPrices = list(map(CallOptionVsStock, StockPrices))\n",
    "plt.plot(StockPrices, OptionPrices)\n",
    "plt.title(\"6-month Call Option vs. Stock Price\")\n",
    "plt.xlabel(\"Stock Price\")\n",
    "plt.ylabel(\"Call Price\")\n",
    "addCallPayoff(100)"
   ]
  },
  {
   "cell_type": "code",
   "execution_count": null,
   "metadata": {
    "colab": {
     "base_uri": "https://localhost:8080/",
     "height": 472
    },
    "executionInfo": {
     "elapsed": 399,
     "status": "ok",
     "timestamp": 1698953857754,
     "user": {
      "displayName": "Tea Toradze",
      "userId": "13683888799925082799"
     },
     "user_tz": 0
    },
    "id": "XeU9TTPsiJOo",
    "outputId": "6cfda509-4507-4ec6-d9a2-2643261395c2"
   },
   "outputs": [],
   "source": [
    "def PutOptionVsStock(S, k=100, t=180, sigma=0.20, r=0.05, dv=0):\n",
    "    myPut = Option(european=True, kind=\"put\", s0=S, k=k, t=t, sigma=sigma, r=r, dv=0)\n",
    "    return myPut.getPrice()\n",
    "\n",
    "\n",
    "OptionPrices = list(map(PutOptionVsStock, StockPrices))\n",
    "plt.plot(StockPrices, OptionPrices)\n",
    "plt.title(\"6-month Put Option vs. Stock Price\")\n",
    "plt.xlabel(\"Stock Price\")\n",
    "plt.ylabel(\"Put Price\")\n",
    "addPutPayoff(100)"
   ]
  },
  {
   "cell_type": "markdown",
   "metadata": {
    "id": "ElH2mt5SiJOo"
   },
   "source": [
    "## 4. Time Value Can Hurt European Puts\n",
    "With more time, a significant difference appears. Recall that\n",
    "\n",
    "$$\\text{option value} = \\text{intrinsic value} + \\text{time value}$$\n",
    "\n",
    "The option value is the blue curve. The intrinsic value is the orange curve; it is the same as the payoff. The time value is therefore the vertical distance between these two curves.\n",
    "\n",
    "$$\\text{time value} = \\text{option value} - \\text{intrinsic value}$$\n",
    "\n",
    "For a deep in-the-money (ITM) call, the time value is positive. In other words, the blue curve (option price) exceeds the orange curve (option payoff). More time for a call can lead to higher payoffs. Calls have unlimited payoffs.\n",
    "\n",
    "However, for a deep ITM put, the time value is negative. In other words, the blue curve (option price) is less than the orange curve (option payoff). More time for a put may not be good. Why?\n",
    "\n",
    "Remember that the exercise style is European. When a put is deep ITM, we would probably want to exercise right away.\n",
    "\n",
    "If we could, we would collect the difference between the strike and stock, and we can invest those proceeds at the risk-free rate. Unlike long calls, long put positions have a bounded profit. The most they could make is the strike, and that assumes the stock prices go to zero. If we were able to exercise that sooner (as in an American exercise style) rather than later (as in a European exercise style), we could earn even more by earning the risk-free rate. But all the graphs we have presented here are for European options. This is the beauty of graphing.\n"
   ]
  },
  {
   "cell_type": "markdown",
   "metadata": {
    "id": "OAAjcNW4iJOp"
   },
   "source": [
    "## 5. Difference between European and American Puts\n",
    "\n",
    "So what if we switched the exercise style to American?\n",
    "We have to make a few changes.\n",
    "\n",
    "First, we'll define a new function, `AmericanPutOptionVsStock()`, that uses the American style of exercise.\n",
    "Second, we have to use a different pricing methodology.  Due to the path-dependence of the American option, we have no analytical solution to price it.  Instead, we can only use a numerical solution.  In this case, we'll use binomial trees, with a small number of iterations, so we can produce the graph quickly."
   ]
  },
  {
   "cell_type": "code",
   "execution_count": null,
   "metadata": {
    "colab": {
     "base_uri": "https://localhost:8080/",
     "height": 472
    },
    "executionInfo": {
     "elapsed": 1641,
     "status": "ok",
     "timestamp": 1698953863980,
     "user": {
      "displayName": "Tea Toradze",
      "userId": "13683888799925082799"
     },
     "user_tz": 0
    },
    "id": "MBVmXzGuiJOp",
    "outputId": "3ca52baa-9c5f-48da-87b3-295c9b2c311c"
   },
   "outputs": [],
   "source": [
    "def AmericanPutOptionVsStock(S, k=100, t=180, sigma=0.20, r=0.05, dv=0):\n",
    "    myPut = Option(european=False, kind=\"put\", s0=S, k=k, t=t, sigma=sigma, r=r, dv=0)\n",
    "    return myPut.getPrice(method=\"BT\", iteration=500)\n",
    "\n",
    "\n",
    "OptionPrices = list(map(AmericanPutOptionVsStock, StockPrices))\n",
    "\n",
    "# Graph the American option\n",
    "plt.plot(StockPrices, OptionPrices)\n",
    "plt.title(\"American and European Put Options vs. Stock Price\")\n",
    "plt.xlabel(\"Stock Price\")\n",
    "plt.ylabel(\"Put Price\")\n",
    "addPutPayoff(100)"
   ]
  },
  {
   "cell_type": "code",
   "execution_count": null,
   "metadata": {
    "colab": {
     "base_uri": "https://localhost:8080/",
     "height": 472
    },
    "executionInfo": {
     "elapsed": 618,
     "status": "ok",
     "timestamp": 1698953867610,
     "user": {
      "displayName": "Tea Toradze",
      "userId": "13683888799925082799"
     },
     "user_tz": 0
    },
    "id": "eFPfM4v8iJOp",
    "outputId": "72ba2edf-0c99-4971-fd82-bafd6af2b7a9"
   },
   "outputs": [],
   "source": [
    "# Graph the American option\n",
    "plt.plot(StockPrices, OptionPrices)\n",
    "\n",
    "# Graph the European option\n",
    "plt.plot(StockPrices, list(map(PutOptionVsStock, StockPrices)))\n",
    "\n",
    "# Add titles, payoff, labels and a legend\n",
    "plt.title(\"American and European Put Options vs. Stock Price\")\n",
    "addPutPayoff(100)\n",
    "plt.xlabel(\"Stock Price\")\n",
    "plt.ylabel(\"Put Price\")\n",
    "patch1 = mpatches.Patch(color=\"blue\", label=\"American\")\n",
    "patch2 = mpatches.Patch(color=\"green\", label=\"European\")\n",
    "plt.legend(handles=[patch1, patch2]);"
   ]
  },
  {
   "cell_type": "markdown",
   "metadata": {
    "id": "W1uqrLogiJOq"
   },
   "source": [
    "Notice how the American option's value is always above the payoff.\n",
    "Notice how the European option's value is not above the payoff when it is deep ITM.\n",
    "Conceptually, this is critical.\n",
    "This means there is never a time value that hurts the American option because the option can simply be exercised early.\n",
    "But there is a time value that hurts the European option because its price is actually less than its payoff is, simply because early exercise is prohibited.\n",
    "When the put is deep ITM, it would make sense to exercise early, and that is why the option's price is basically its payoff value.\n",
    "When the put is close to ATM or OTM, there is very little difference between the two options.\n",
    "\n",
    "Another important finding is that we can see an important mathematical relationship. Mathematically, the American option stochastically dominates the European option.  Stochastic dominance is an important tool that will show up in later courses. In layman's terms, it is always better to have the American option than the European option because it is always worth at least as much as the European option and in some cases, it's worth more.  \n",
    "\n",
    "This example demonstrates how Python can be used to not only examine basic payoffs and prices but also to understand more complex and elusive relationships that exist between options and their sensitivities and exercise styles.  \n",
    "\n",
    "Think of Python as a tool that allows you to get deeper into the mathematics, relationships, and intricacies of options. This module focuses on options, but imagine how Python can do this for all areas of this program.  \n",
    "\n",
    "Indeed, as a financial engineer, you will be \"engineering\" models. Even before you get deep into the data, it helps to understand how the models work. For our program, the primary language you will use to create these models is Python. Of course, you could build models in R or Julia or C#, but it is beneficial to focus on one first. That is, it helps to be proficient and fluent in a single language rather than just having some knowledge in a lot of languages.\n",
    "\n",
    "Be sure to study not only the behavior of options here but also how Python is being used to illustrate this behavior.  From this point forward, every course will require you to work with Python, including reading other code, modifying existing code, creating your own code and debugging it, and learning to use numerous packages and frameworks.  \n",
    "\n",
    "However, learning Python is not the end goal because you are trying to do more than become a Python programmer. You are using Python as a tool to engineer models that provide solutions to pricing, hedging, and allocation problems in many different asset classes.\n",
    "\n",
    "We'll continue this illustration by graphing how the option price depends on the time to expiration."
   ]
  },
  {
   "cell_type": "markdown",
   "metadata": {
    "id": "ElSCHnt4iJOq"
   },
   "source": [
    "## 6. Time Value of Options"
   ]
  },
  {
   "cell_type": "code",
   "execution_count": null,
   "metadata": {
    "colab": {
     "base_uri": "https://localhost:8080/",
     "height": 472
    },
    "executionInfo": {
     "elapsed": 673,
     "status": "ok",
     "timestamp": 1698953887097,
     "user": {
      "displayName": "Tea Toradze",
      "userId": "13683888799925082799"
     },
     "user_tz": 0
    },
    "id": "MbTQ-OefiJOq",
    "outputId": "73650b7c-0994-4ec5-e76b-857f4be4ff1e"
   },
   "outputs": [],
   "source": [
    "StockPrices = list(range(80, 120))\n",
    "\n",
    "\n",
    "def CallOptionVsStock(S, k=100, t=30, sigma=0.30, r=0.05, dv=0):\n",
    "    myCall = Option(european=True, kind=\"call\", s0=S, k=k, t=t, sigma=sigma, r=r, dv=0)\n",
    "    return myCall.getPrice()\n",
    "\n",
    "\n",
    "OptionPrices = list(map(CallOptionVsStock, StockPrices))\n",
    "plt.plot(StockPrices, OptionPrices)\n",
    "plt.title(\"Call Option vs. Strike Level\")\n",
    "plt.xlabel(\"Stock Price\")\n",
    "plt.ylabel(\"Call Price\")\n",
    "\n",
    "\n",
    "def CallOptionVsStock(S, k=100, t=90, sigma=0.30, r=0.05, dv=0):\n",
    "    myCall = Option(european=True, kind=\"call\", s0=S, k=k, t=t, sigma=sigma, r=r, dv=0)\n",
    "    return myCall.getPrice()\n",
    "\n",
    "\n",
    "OptionPrices = list(map(CallOptionVsStock, StockPrices))\n",
    "plt.plot(StockPrices, OptionPrices)\n",
    "addCallPayoff(100)\n",
    "\n",
    "\n",
    "def CallOptionVsStock(S, k=100, t=180, sigma=0.30, r=0.05, dv=0):\n",
    "    myCall = Option(european=True, kind=\"call\", s0=S, k=k, t=t, sigma=sigma, r=r, dv=0)\n",
    "    return myCall.getPrice()\n",
    "\n",
    "\n",
    "OptionPrices = list(map(CallOptionVsStock, StockPrices))\n",
    "plt.plot(StockPrices, OptionPrices)\n",
    "patch1 = mpatches.Patch(color=\"blue\", label=\"1 months\")\n",
    "patch2 = mpatches.Patch(color=\"orange\", label=\"3 months\")\n",
    "patch3 = mpatches.Patch(color=\"red\", label=\"6 months\")\n",
    "plt.legend(handles=[patch1, patch2, patch3]);"
   ]
  },
  {
   "cell_type": "markdown",
   "metadata": {
    "id": "rgxvit7biJOq"
   },
   "source": [
    "With more time to expiry, the call options increase in value. Therefore, 6-month call options are more valuable than 3-month call options, which are more valuable than 1-month call options."
   ]
  },
  {
   "cell_type": "markdown",
   "metadata": {
    "id": "MnfxC2oQiJOr"
   },
   "source": [
    "For puts, ATM and OTM behave like calls, but deep ITM options are virtually indistinguishable from each other and have negative time value.\n"
   ]
  },
  {
   "cell_type": "code",
   "execution_count": null,
   "metadata": {
    "colab": {
     "base_uri": "https://localhost:8080/",
     "height": 472
    },
    "executionInfo": {
     "elapsed": 622,
     "status": "ok",
     "timestamp": 1698953904021,
     "user": {
      "displayName": "Tea Toradze",
      "userId": "13683888799925082799"
     },
     "user_tz": 0
    },
    "id": "SPvM75oYiJOr",
    "outputId": "585b9308-7844-4259-fad1-c58aa28612bd"
   },
   "outputs": [],
   "source": [
    "StockPrices = list(range(80, 120))\n",
    "\n",
    "\n",
    "def PutOptionVsStock(S, k=100, t=31, sigma=0.30, r=0.05, dv=0):\n",
    "    myCall = Option(european=True, kind=\"put\", s0=S, k=k, t=t, sigma=sigma, r=r, dv=0)\n",
    "    return myCall.getPrice()\n",
    "\n",
    "\n",
    "plt.plot(StockPrices, list(map(PutOptionVsStock, StockPrices)))\n",
    "plt.title(\"Put Option vs. Stock Price for different expirations\")\n",
    "plt.xlabel(\"Stock Price\")\n",
    "plt.ylabel(\"Call Price\")\n",
    "\n",
    "\n",
    "def PutOptionVsStock(S, k=100, t=62, sigma=0.30, r=0.05, dv=0):\n",
    "    myCall = Option(european=True, kind=\"put\", s0=S, k=k, t=t, sigma=sigma, r=r, dv=0)\n",
    "    return myCall.getPrice()\n",
    "\n",
    "\n",
    "plt.plot(StockPrices, list(map(PutOptionVsStock, StockPrices)))\n",
    "\n",
    "\n",
    "def PutOptionVsStock(S, k=100, t=93, sigma=0.30, r=0.05, dv=0):\n",
    "    myCall = Option(european=True, kind=\"put\", s0=S, k=k, t=t, sigma=sigma, r=r, dv=0)\n",
    "    return myCall.getPrice()\n",
    "\n",
    "\n",
    "plt.plot(StockPrices, list(map(PutOptionVsStock, StockPrices)))\n",
    "addPutPayoff(100)\n",
    "patch1 = mpatches.Patch(color=\"blue\", label=\"1 month\")\n",
    "patch2 = mpatches.Patch(color=\"orange\", label=\"2 months\")\n",
    "patch3 = mpatches.Patch(color=\"green\", label=\"3 months\")\n",
    "plt.legend(handles=[patch1, patch2, patch3]);"
   ]
  },
  {
   "cell_type": "markdown",
   "metadata": {
    "id": "ilqetwIxiJOs"
   },
   "source": [
    "## 7. Option Prices for Different Volatilities\n",
    "\n",
    "We've compared options with different expirations. Now let's compare options with different volatilities.\n",
    "\n",
    "Before writing code like we did in the last section, notice the duplication in the functions. `CallOptionVsStock()` was written as a new function each time, and we simply changed some of the default arguments because map was already iterating over S. Ideally, we'd like the map function to iterate over more than just one argument. We can easily iterate over other lists if we pass additional arguments to map.\n",
    "\n",
    "Let's write `CallOptionVsStock()` to take two required arguments: the stock price and the volatility. Then, we'll pass lists (of the appropriate length) to the map function."
   ]
  },
  {
   "cell_type": "code",
   "execution_count": null,
   "metadata": {
    "colab": {
     "base_uri": "https://localhost:8080/",
     "height": 430
    },
    "executionInfo": {
     "elapsed": 585,
     "status": "ok",
     "timestamp": 1698953912442,
     "user": {
      "displayName": "Tea Toradze",
      "userId": "13683888799925082799"
     },
     "user_tz": 0
    },
    "id": "Gu07Q4eRiJOs",
    "outputId": "328a88b0-9642-4c72-e231-b48c961014f6"
   },
   "outputs": [],
   "source": [
    "def CallOptionVsStock(S, sigma, k=100, t=30, r=0.05, dv=0):\n",
    "    myCall = Option(s0=S, sigma=sigma, european=True, kind=\"call\", k=k, t=t, r=r, dv=0)\n",
    "    return myCall.getPrice()\n",
    "\n",
    "\n",
    "for i in range(1, 4):\n",
    "    sigmas = [0.20 * i] * len(StockPrices)\n",
    "    OptionPrices = list(map(CallOptionVsStock, StockPrices, sigmas))\n",
    "    plt.plot(StockPrices, OptionPrices)\n",
    "\n",
    "patch1 = mpatches.Patch(color=\"blue\", label=r\"$\\sigma$=20%\")\n",
    "patch2 = mpatches.Patch(color=\"orange\", label=r\"$\\sigma$=40%\")\n",
    "patch3 = mpatches.Patch(color=\"green\", label=r\"$\\sigma$=60%\")\n",
    "plt.legend(handles=[patch1, patch2, patch3])\n",
    "addCallPayoff(100)"
   ]
  },
  {
   "cell_type": "markdown",
   "metadata": {
    "id": "eZS62CZGiJOs"
   },
   "source": [
    "Notice two features.\n",
    "1. The higher the volatility, the greater the option's value.  This is true at all locations: ITM, ATM, and OTM.\n",
    "2. The difference is more pronounced when we are close to the strike and less so when we are either deep OTM or deep ITM. In other words, the lines are maximally separated when we are closer to the strike level of 100; the lines are closer together when we are further from the strike, in either direction.\n",
    "\n",
    "Let's see how puts behave. It turns out they behave the same."
   ]
  },
  {
   "cell_type": "code",
   "execution_count": null,
   "metadata": {
    "colab": {
     "base_uri": "https://localhost:8080/",
     "height": 430
    },
    "executionInfo": {
     "elapsed": 634,
     "status": "ok",
     "timestamp": 1698953918764,
     "user": {
      "displayName": "Tea Toradze",
      "userId": "13683888799925082799"
     },
     "user_tz": 0
    },
    "id": "KPlhHTqniJOu",
    "outputId": "c00b0cf5-0e74-4566-e1e6-f875c83137a2"
   },
   "outputs": [],
   "source": [
    "def PutOptionVsStock(S, sigma, k=100, t=30, r=0.05, dv=0):\n",
    "    myPut = Option(s0=S, sigma=sigma, european=True, kind=\"put\", k=k, t=t, r=r, dv=0)\n",
    "    return myPut.getPrice()\n",
    "\n",
    "\n",
    "for i in range(1, 4):\n",
    "    sigmas = [0.20 * i] * len(StockPrices)\n",
    "    OptionPrices = list(map(PutOptionVsStock, StockPrices, sigmas))\n",
    "    plt.plot(StockPrices, OptionPrices)\n",
    "\n",
    "patch1 = mpatches.Patch(color=\"blue\", label=r\"$\\sigma$=20%\")\n",
    "patch2 = mpatches.Patch(color=\"orange\", label=r\"$\\sigma$=40%\")\n",
    "patch3 = mpatches.Patch(color=\"green\", label=r\"$\\sigma$=60%\")\n",
    "plt.legend(handles=[patch1, patch2, patch3])\n",
    "addPutPayoff(100)"
   ]
  },
  {
   "cell_type": "markdown",
   "metadata": {
    "id": "bH6WxwXfiJOu"
   },
   "source": [
    "When you are long a vanilla option (call or put), volatility is your friend.  The greater the volatility, the greater the option is worth."
   ]
  },
  {
   "cell_type": "markdown",
   "metadata": {
    "id": "XHanEDa7iJOu"
   },
   "source": [
    "## 8. Option Prices for Different Interest Rates\n",
    "\n",
    "Let's examine one more sensitivity: how the option prices vary with interest rates.\n",
    "Imagine we have three different interest rates: 5%, 10%, and 15%:"
   ]
  },
  {
   "cell_type": "code",
   "execution_count": null,
   "metadata": {
    "colab": {
     "base_uri": "https://localhost:8080/",
     "height": 430
    },
    "executionInfo": {
     "elapsed": 470,
     "status": "ok",
     "timestamp": 1698953923888,
     "user": {
      "displayName": "Tea Toradze",
      "userId": "13683888799925082799"
     },
     "user_tz": 0
    },
    "id": "PthmXkpEiJOv",
    "outputId": "5797c080-1533-4ce8-e438-371297dd48f9"
   },
   "outputs": [],
   "source": [
    "def CallOptionVsStock(S, r, k=100, t=91, sigma=0.50, dv=0):\n",
    "    myCall = Option(s0=S, r=r, sigma=sigma, european=True, kind=\"call\", k=k, t=t, dv=0)\n",
    "    return myCall.getPrice()\n",
    "\n",
    "\n",
    "for i in range(1, 4):\n",
    "    rates = [0.05 * i] * len(StockPrices)\n",
    "    OptionPrices = list(map(CallOptionVsStock, StockPrices, rates))\n",
    "    plt.plot(StockPrices, OptionPrices)\n",
    "\n",
    "patch1 = mpatches.Patch(color=\"blue\", label=\"rate=5%\")\n",
    "patch2 = mpatches.Patch(color=\"orange\", label=\"rate=10%\")\n",
    "patch3 = mpatches.Patch(color=\"green\", label=\"rate=15%\")\n",
    "plt.legend(handles=[patch1, patch2, patch3])\n",
    "addCallPayoff(100)"
   ]
  },
  {
   "cell_type": "code",
   "execution_count": null,
   "metadata": {
    "colab": {
     "base_uri": "https://localhost:8080/",
     "height": 430
    },
    "executionInfo": {
     "elapsed": 457,
     "status": "ok",
     "timestamp": 1698953928173,
     "user": {
      "displayName": "Tea Toradze",
      "userId": "13683888799925082799"
     },
     "user_tz": 0
    },
    "id": "mA9oh0hriJOv",
    "outputId": "ddcefc31-6658-433c-e6d3-ce532ce7f4b8"
   },
   "outputs": [],
   "source": [
    "def PutOptionVsStock(S, r, k=100, t=91, sigma=0.50, dv=0):\n",
    "    myPut = Option(s0=S, r=r, sigma=sigma, european=True, kind=\"put\", k=k, t=t, dv=0)\n",
    "    return myPut.getPrice()\n",
    "\n",
    "\n",
    "for i in range(1, 4):\n",
    "    rates = [0.05 * i] * len(StockPrices)\n",
    "    OptionPrices = list(map(PutOptionVsStock, StockPrices, rates))\n",
    "    plt.plot(StockPrices, OptionPrices)\n",
    "\n",
    "patch1 = mpatches.Patch(color=\"blue\", label=\"rate=5%\")\n",
    "patch2 = mpatches.Patch(color=\"orange\", label=\"rate=10%\")\n",
    "patch3 = mpatches.Patch(color=\"green\", label=\"rate=15%\")\n",
    "plt.legend(handles=[patch1, patch2, patch3])\n",
    "addPutPayoff(100)"
   ]
  },
  {
   "cell_type": "markdown",
   "metadata": {
    "id": "CkMm0wWwiJOw"
   },
   "source": [
    "Notice the difference!  For call options, the green curve is above the orange curve, which is above the blue curve.  In other words, the higher the interest rate, the more valuable the call option.\n",
    "\n",
    "For put options, the blue curve is above the orange curve, which is above the green curve. In other words, the lower the interest rate, the more valuable the put option.\n",
    "\n",
    "Using Python, we visually conclude some stylized facts about options:\n",
    "1. More volatility makes calls and puts more valuable.\n",
    "2. More time tends to make calls and puts more valuable: however, more time may be detrimental to deep ITM puts.\n",
    "3. Higher interest rates make calls more expensive and make puts less expensive.\n",
    "\n",
    "Of course, in the \"Derivative Pricing\" course, we will examine these sensitivities using analytical mathematics by defining partial derivatives and labeling them with their appropriate Greek notation. For now, the idea is that Python computations can lead to understanding stylized facts."
   ]
  },
  {
   "cell_type": "markdown",
   "metadata": {
    "id": "-WGXlBTjtpUO"
   },
   "source": [
    "## 9. Conclusion\n",
    "\n",
    "In this lesson, we examined how options depend on their various components: stock prices, expiry times, volatilities, and interest rates. In the next lesson, we'll learn how to import option prices into Python."
   ]
  },
  {
   "cell_type": "markdown",
   "metadata": {
    "deletable": false,
    "editable": false,
    "id": "Ru_lYW9tCVpb"
   },
   "source": [
    "---\n",
    "Copyright 2023 WorldQuant University. This\n",
    "content is licensed solely for personal use. Redistribution or\n",
    "publication of this material is strictly prohibited.\n"
   ]
  }
 ],
 "metadata": {
  "colab": {
   "provenance": [],
   "toc_visible": true
  },
  "kernelspec": {
   "display_name": "Python 3 (ipykernel)",
   "language": "python",
   "name": "python3"
  },
  "language_info": {
   "codemirror_mode": {
    "name": "ipython",
    "version": 3
   },
   "file_extension": ".py",
   "mimetype": "text/x-python",
   "name": "python",
   "nbconvert_exporter": "python",
   "pygments_lexer": "ipython3",
   "version": "3.9.6"
  }
 },
 "nbformat": 4,
 "nbformat_minor": 4
}
