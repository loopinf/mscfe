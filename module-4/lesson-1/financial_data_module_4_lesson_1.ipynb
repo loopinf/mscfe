{
 "cells": [
  {
   "cell_type": "markdown",
   "metadata": {
    "id": "1eZXCUPY3SEk"
   },
   "source": [
    "\n",
    "## FINANCIAL DATA\n",
    "MODULE 4 | LESSON 1\n",
    "\n",
    "\n",
    "---\n"
   ]
  },
  {
   "cell_type": "markdown",
   "metadata": {
    "id": "SbTr1tB0FsYT"
   },
   "source": [
    "# **OPTION PAYOFFS AND STRATEGIES**"
   ]
  },
  {
   "cell_type": "markdown",
   "metadata": {
    "id": "SjLQbTrwDFzE"
   },
   "source": [
    "|  |  |\n",
    "|:---|:---|\n",
    "|**Reading Time** |  30 minutes |\n",
    "|**Prior Knowledge** | Calls, Puts, Strikes, Volatility, Option payoffs  |\n",
    "|**Keywords** |Break-even levels, Straddle, Strangle, Iron condor   |\n",
    "\n",
    "\n",
    "---\n"
   ]
  },
  {
   "cell_type": "markdown",
   "metadata": {
    "id": "7l8PAwWzsSCZ"
   },
   "source": [
    "*In the previous module, we examined stocks and cryptocurrencies.  In this module, we will examine the use of Python to compute and visualize option payoffs and prices, from single options to multi-option strategies.*"
   ]
  },
  {
   "cell_type": "code",
   "execution_count": null,
   "metadata": {
    "executionInfo": {
     "elapsed": 907,
     "status": "ok",
     "timestamp": 1698952938733,
     "user": {
      "displayName": "Tea Toradze",
      "userId": "13683888799925082799"
     },
     "user_tz": 0
    },
    "id": "QeRPyJ6gvKkt"
   },
   "outputs": [],
   "source": [
    "import math\n",
    "\n",
    "from optionprice import Option"
   ]
  },
  {
   "cell_type": "markdown",
   "metadata": {
    "id": "tIXs_dCVvKku"
   },
   "source": [
    "## 1. Options\n",
    "In this lesson, we'll use a Python package called `optionprice`.  This has a class called `Option` (for simplicity we will call it function in this lesson). As you recall from Module 4 of Financial Markets, there are two fields that describe the type of option:\n",
    "1. The type of option: call or put. In the Option function, this is specified by the argument kind.\n",
    "2. The style of exercise: European or American. In the Option function, this is specified with the European argument set to True or False.\n",
    "\n",
    "There are also six numerical values that allow us to value the option:\n",
    "1. Stock Price: s0\n",
    "2. Strike Level: k\n",
    "3. Time to expiration (here, this is given in calendar days): t\n",
    "4. Volatility: sigma (which is annualized)\n",
    "5. Risk-Free rate: r (which is annualized)\n",
    "6. Dividend-Yield: dv (which is annualized)\n",
    "Let's import the package and create an ATM European call option. The function `Option()` helps us to do that. Notice that we have to specify all eight of these fields as arguments to the `Option()` function."
   ]
  },
  {
   "cell_type": "code",
   "execution_count": null,
   "metadata": {
    "colab": {
     "base_uri": "https://localhost:8080/"
    },
    "executionInfo": {
     "elapsed": 325,
     "status": "ok",
     "timestamp": 1698952943692,
     "user": {
      "displayName": "Tea Toradze",
      "userId": "13683888799925082799"
     },
     "user_tz": 0
    },
    "id": "89HuWOhwvKkv",
    "outputId": "4b05d01b-faf6-4964-f4b5-f59f92ae48e5"
   },
   "outputs": [],
   "source": [
    "myCall = Option(\n",
    "    european=True, kind=\"call\", s0=100, k=100, t=30, sigma=0.20, r=0.05, dv=0\n",
    ")\n",
    "print(myCall)"
   ]
  },
  {
   "cell_type": "code",
   "execution_count": null,
   "metadata": {
    "colab": {
     "base_uri": "https://localhost:8080/"
    },
    "executionInfo": {
     "elapsed": 290,
     "status": "ok",
     "timestamp": 1698952953073,
     "user": {
      "displayName": "Tea Toradze",
      "userId": "13683888799925082799"
     },
     "user_tz": 0
    },
    "id": "olpZaxI9vKkw",
    "outputId": "d2f9c99c-bb42-459a-d840-4ef01cd6bd2a"
   },
   "outputs": [],
   "source": [
    "type(myCall)"
   ]
  },
  {
   "cell_type": "markdown",
   "metadata": {
    "id": "zT7EYi8BvKkw"
   },
   "source": [
    "Similarly, to create a put, we merely need to change the type to put."
   ]
  },
  {
   "cell_type": "code",
   "execution_count": null,
   "metadata": {
    "colab": {
     "base_uri": "https://localhost:8080/"
    },
    "executionInfo": {
     "elapsed": 279,
     "status": "ok",
     "timestamp": 1698952954805,
     "user": {
      "displayName": "Tea Toradze",
      "userId": "13683888799925082799"
     },
     "user_tz": 0
    },
    "id": "JSuRtsdBvKkw",
    "outputId": "a9c915f6-9120-4365-b9ad-f85c57eb1c96"
   },
   "outputs": [],
   "source": [
    "myPut = Option(european=True, kind=\"put\", s0=100, k=100, t=30, sigma=0.20, r=0.05, dv=0)\n",
    "print(myPut)"
   ]
  },
  {
   "cell_type": "markdown",
   "metadata": {
    "id": "xDD5j6_UvKkx"
   },
   "source": [
    "If we want a single attribute, we can just query it from the option."
   ]
  },
  {
   "cell_type": "code",
   "execution_count": null,
   "metadata": {
    "colab": {
     "base_uri": "https://localhost:8080/"
    },
    "executionInfo": {
     "elapsed": 283,
     "status": "ok",
     "timestamp": 1698952958817,
     "user": {
      "displayName": "Tea Toradze",
      "userId": "13683888799925082799"
     },
     "user_tz": 0
    },
    "id": "7nNkvrgHvKkx",
    "outputId": "459c9cf0-7f55-4bb3-887f-f4bdb9e37cf4"
   },
   "outputs": [],
   "source": [
    "myCall.european"
   ]
  },
  {
   "cell_type": "code",
   "execution_count": null,
   "metadata": {
    "colab": {
     "base_uri": "https://localhost:8080/"
    },
    "executionInfo": {
     "elapsed": 7,
     "status": "ok",
     "timestamp": 1698952960656,
     "user": {
      "displayName": "Tea Toradze",
      "userId": "13683888799925082799"
     },
     "user_tz": 0
    },
    "id": "J1yJwj2xvKky",
    "outputId": "beda91f6-5f67-4f6e-ec30-153903605516"
   },
   "outputs": [],
   "source": [
    "myCall.k"
   ]
  },
  {
   "cell_type": "code",
   "execution_count": null,
   "metadata": {
    "colab": {
     "base_uri": "https://localhost:8080/"
    },
    "executionInfo": {
     "elapsed": 3,
     "status": "ok",
     "timestamp": 1698952961734,
     "user": {
      "displayName": "Tea Toradze",
      "userId": "13683888799925082799"
     },
     "user_tz": 0
    },
    "id": "rootVA0GvKky",
    "outputId": "757c01f1-f1f3-4a28-9c6a-cc0b8799a6a6"
   },
   "outputs": [],
   "source": [
    "myCall.kind  # 1 for calls, and 2 for puts"
   ]
  },
  {
   "cell_type": "code",
   "execution_count": null,
   "metadata": {
    "colab": {
     "base_uri": "https://localhost:8080/"
    },
    "executionInfo": {
     "elapsed": 267,
     "status": "ok",
     "timestamp": 1698952963178,
     "user": {
      "displayName": "Tea Toradze",
      "userId": "13683888799925082799"
     },
     "user_tz": 0
    },
    "id": "P6wtot4KvKky",
    "outputId": "d7b3a34b-b9a3-4c19-cea5-9f57d99bc981"
   },
   "outputs": [],
   "source": [
    "myCall.s0"
   ]
  },
  {
   "cell_type": "code",
   "execution_count": null,
   "metadata": {
    "colab": {
     "base_uri": "https://localhost:8080/"
    },
    "executionInfo": {
     "elapsed": 380,
     "status": "ok",
     "timestamp": 1698952964461,
     "user": {
      "displayName": "Tea Toradze",
      "userId": "13683888799925082799"
     },
     "user_tz": 0
    },
    "id": "WOFMafjJvKkz",
    "outputId": "7f7118ee-556f-40ae-ce0e-d26de3598965"
   },
   "outputs": [],
   "source": [
    "myCall.sigma"
   ]
  },
  {
   "cell_type": "code",
   "execution_count": null,
   "metadata": {
    "colab": {
     "base_uri": "https://localhost:8080/"
    },
    "executionInfo": {
     "elapsed": 291,
     "status": "ok",
     "timestamp": 1698952966629,
     "user": {
      "displayName": "Tea Toradze",
      "userId": "13683888799925082799"
     },
     "user_tz": 0
    },
    "id": "GdmwEcylvKkz",
    "outputId": "ac55944f-d1d8-4e99-f3e0-9399124dda2a"
   },
   "outputs": [],
   "source": [
    "myCall.r"
   ]
  },
  {
   "cell_type": "markdown",
   "metadata": {
    "id": "Ml0M2ZrfvKkz"
   },
   "source": [
    "## 2. Getting the Option's Price"
   ]
  },
  {
   "cell_type": "markdown",
   "metadata": {
    "id": "09jN5A1BvKkz"
   },
   "source": [
    "As you first learn options, be sure to distinguish the price from the payoff.  \n",
    "\n",
    "The option's payoff is known precisely at expiration. Indeed, the payoff only applies at an option's expiration.\n",
    "The option's price applies at every time from inception up until the payoff.\n",
    "Clearly, pricing is a much more difficult undertaking than figuring out the payoff.\n",
    "\n",
    "Let's learn to use pricing functions that are part of this Python module.\n",
    "It is one thing to use a function to get an option's price.  \n",
    "It's another to understand what that function does.\n",
    "Keep in mind that there is an entire course, Derivative Pricing, that will provide the mathematics and intuition behind the pricing of these securities.\n",
    "For now, let's just outline that there are two methods for pricing an option:\n",
    "1. Analytic\n",
    "2. Numeric\n",
    "\n",
    "An analytic method uses mathematics, such as stochastic calculus, Fourier transforms, stochastic dominance, and other analytical methods, to develop a pricing equation.\n",
    "A numeric method uses numerical or computational techniques, such as discretization (binomial trees, finite difference methods, finite element methods) or randomization (Monte Carlo sampling, agent-based models) to develop a numerical method through which the option price can be found.\n",
    "\n",
    "Let's run one example of an analytical model called Black Scholes.\n",
    "Let's run two examples of numerical models: binomial tree and Monte Carlo.\n",
    "\n",
    "In the following code excerpt, we price our call three different ways:\n",
    "1. Analytically with the Black Scholes model.\n",
    "2. Numerically with a binomial tree.\n",
    "3. Numerically with a Monte Carlo simulation."
   ]
  },
  {
   "cell_type": "code",
   "execution_count": null,
   "metadata": {
    "colab": {
     "base_uri": "https://localhost:8080/"
    },
    "executionInfo": {
     "elapsed": 308,
     "status": "ok",
     "timestamp": 1698952971242,
     "user": {
      "displayName": "Tea Toradze",
      "userId": "13683888799925082799"
     },
     "user_tz": 0
    },
    "id": "d10J0wOGvKk0",
    "outputId": "d3e00ffe-df0c-4a3c-cc37-e2df74c72ca5"
   },
   "outputs": [],
   "source": [
    "callBS = round(myCall.getPrice(), 4)\n",
    "callBT = round(myCall.getPrice(method=\"BT\", iteration=5000), 4)\n",
    "callMC = round(myCall.getPrice(method=\"MC\", iteration=500000), 4)\n",
    "[callBS, callBT, callMC]"
   ]
  },
  {
   "cell_type": "markdown",
   "metadata": {
    "id": "ASHHvXmCvKk0"
   },
   "source": [
    "As we can see, the prices are fairly close. This is to be expected. If we use the methods properly, the prices should not vary depending on which method we use.  Keep in mind that the numeric methods (e.g., Monte Carlo simulation) require a sufficiently high number of iterations so that they can converge to the proper solutions.\n",
    "Now that we've priced the call option, let's price the put using these three methods."
   ]
  },
  {
   "cell_type": "code",
   "execution_count": null,
   "metadata": {
    "colab": {
     "base_uri": "https://localhost:8080/"
    },
    "executionInfo": {
     "elapsed": 4,
     "status": "ok",
     "timestamp": 1698952973849,
     "user": {
      "displayName": "Tea Toradze",
      "userId": "13683888799925082799"
     },
     "user_tz": 0
    },
    "id": "IJ0DfRBVvKk0",
    "outputId": "eddd4c7c-f645-493b-8a32-69184e931193"
   },
   "outputs": [],
   "source": [
    "putBS = round(myPut.getPrice(), 4)\n",
    "putBT = round(myPut.getPrice(method=\"BT\", iteration=5000), 4)\n",
    "putMC = round(myPut.getPrice(method=\"MC\", iteration=500000), 4)\n",
    "[putBS, putBT, putMC]"
   ]
  },
  {
   "cell_type": "markdown",
   "metadata": {
    "id": "fNMHVKiXvKk0"
   },
   "source": [
    "Again, we have good agreement among the prices. Intentionally, we did not run a high number of iterations for the Monte Carlo method to illustrate how the results can be slightly off.\n",
    "\n",
    "Whenever we compute option prices, we should get in the habit of checking our prices using put-call parity. Module 4 of Financial Markets showed us that:\n",
    "$$\\text{call} - \\text{put} = S - Ke^{-(rt)}$$  \n",
    "Let's check this for ourselves.  \n",
    "Going forward, we'll use the option prices from the analytical form.\n",
    "First, let's calculate the left-hand side of the put-call parity equation."
   ]
  },
  {
   "cell_type": "code",
   "execution_count": null,
   "metadata": {
    "colab": {
     "base_uri": "https://localhost:8080/"
    },
    "executionInfo": {
     "elapsed": 278,
     "status": "ok",
     "timestamp": 1698952978521,
     "user": {
      "displayName": "Tea Toradze",
      "userId": "13683888799925082799"
     },
     "user_tz": 0
    },
    "id": "hCy_jQXxvKk0",
    "outputId": "d115ba4a-7154-40da-d9e3-36bb169db808"
   },
   "outputs": [],
   "source": [
    "c = callBS\n",
    "p = putBS\n",
    "round(c - p, 6)"
   ]
  },
  {
   "cell_type": "code",
   "execution_count": null,
   "metadata": {
    "colab": {
     "base_uri": "https://localhost:8080/"
    },
    "executionInfo": {
     "elapsed": 277,
     "status": "ok",
     "timestamp": 1698952979945,
     "user": {
      "displayName": "Tea Toradze",
      "userId": "13683888799925082799"
     },
     "user_tz": 0
    },
    "id": "V0F6Ypr9vKk0",
    "outputId": "fb4d14c3-5b33-4bf8-ae10-8f3af3052b50"
   },
   "outputs": [],
   "source": [
    "S = 100\n",
    "K = 100\n",
    "r = 0.05\n",
    "t = 30 / 365\n",
    "round(S - K * math.exp(-r * t), 6)"
   ]
  },
  {
   "cell_type": "markdown",
   "metadata": {
    "id": "EdBG-o_9vKk1"
   },
   "source": [
    "The difference is small, likely due to rounding and not an actual arbitrage.  Ensuring put-call parity holds means that our calculations have a consistency. Whenever you are asked to compute option prices, always check put-call parity. It avoids your making a careless mistake.\n",
    "For any questions you see on CRTs or GWPs, be sure to apply put-call parity.\n",
    "As you can see, it is computationally very easy.\n",
    "Conceptually, it is quite intriguing.\n",
    "It says that at any given time, a relationship among three different markets exists.\n",
    "The 3 markets are:\n",
    "1. options market: calls and puts\n",
    "2. stock market: underlying stock\n",
    "3. bond market: a risk-free bond whose term is the option's expiration\n",
    "\n",
    "Now that we've seen some option payoffs and prices, let's continue our applied treatment of options by examining some of the strategies."
   ]
  },
  {
   "cell_type": "markdown",
   "metadata": {
    "id": "Uu-5RmhRvKk1"
   },
   "source": [
    "## 3. Option Strategies"
   ]
  },
  {
   "cell_type": "markdown",
   "metadata": {
    "id": "yDxZ-6eKvKk1"
   },
   "source": [
    "We've been using an option package called `optionprice` for creating options and examining their prices.  In fact, there are several Python packages available for handling options.  We now turn to one called `opstrat` that is useful for illustrating option strategies."
   ]
  },
  {
   "cell_type": "code",
   "execution_count": null,
   "metadata": {
    "executionInfo": {
     "elapsed": 1194,
     "status": "ok",
     "timestamp": 1698952985218,
     "user": {
      "displayName": "Tea Toradze",
      "userId": "13683888799925082799"
     },
     "user_tz": 0
    },
    "id": "gPCfC0AbvKk1"
   },
   "outputs": [],
   "source": [
    "import opstrat as op"
   ]
  },
  {
   "cell_type": "markdown",
   "metadata": {
    "id": "M61J3oVSvKk1"
   },
   "source": [
    "Let's graph the call option's payoff. Let's assume that we paid nothing for the option to see its payoff.\n",
    "The function `single_plotter()` will take the following arguments:\n",
    "\n",
    "1. spot: current stock price\n",
    "2. strike: strike level\n",
    "3. op_type: option type, either \"c\" for call or \"p\" for put\n",
    "4. tr_type: side of trade, either \"b\" for buying/long or \"s\" for selling/short\n",
    "5. op_pr: option price\n"
   ]
  },
  {
   "cell_type": "code",
   "execution_count": null,
   "metadata": {
    "colab": {
     "base_uri": "https://localhost:8080/",
     "height": 592
    },
    "executionInfo": {
     "elapsed": 839,
     "status": "ok",
     "timestamp": 1698952988178,
     "user": {
      "displayName": "Tea Toradze",
      "userId": "13683888799925082799"
     },
     "user_tz": 0
    },
    "id": "KcwbhV7uvKk1",
    "outputId": "a854fbc5-0b1a-45ca-c078-9a15e5e9a4e6"
   },
   "outputs": [],
   "source": [
    "op.single_plotter(spot=100, strike=100, op_type=\"c\", tr_type=\"b\", op_pr=0)"
   ]
  },
  {
   "cell_type": "markdown",
   "metadata": {
    "id": "TF86zDtJvKk1"
   },
   "source": [
    "Remember, that the option's payoff you see in books tends to neglect the premium you paid. Once you buy an option, you can not lose any additional money. However, long option positions can lose money if the options expires OTM.\n",
    "Since we bought the call, we paid the $2.49 premium. Let's redraw the payoff taking the premium into account.\n"
   ]
  },
  {
   "cell_type": "code",
   "execution_count": null,
   "metadata": {
    "colab": {
     "base_uri": "https://localhost:8080/",
     "height": 592
    },
    "executionInfo": {
     "elapsed": 719,
     "status": "ok",
     "timestamp": 1698952992471,
     "user": {
      "displayName": "Tea Toradze",
      "userId": "13683888799925082799"
     },
     "user_tz": 0
    },
    "id": "BbkXScWpvKk1",
    "outputId": "10104772-ad7f-46af-86e8-86d113b7d683"
   },
   "outputs": [],
   "source": [
    "op.single_plotter(spot=100, strike=100, op_type=\"c\", tr_type=\"b\", op_pr=callBS)"
   ]
  },
  {
   "cell_type": "markdown",
   "metadata": {
    "id": "V7dq4lp4vKk1"
   },
   "source": [
    "Clearly, the option is unprofitable not only if the stock price is below the strike level but also if the stock price is less than the sum of the strike and premium. So even if the option ends up ITM, we have to cover the cost of the premium to have a positive P&L.  \n",
    "\n",
    "In fact, we can compute a break-even stock level for a call option.\n",
    "The **break-even stock level** is the price at which the option holder has a net payoff of 0.\n",
    "Call Break-Even Stock Level = Strike + Option Premium\n",
    "In our example, this is\n",
    "Call Break-Even Stock Level  = 100 + 2.49\n",
    "                             = \\$102.49\n",
    "The break-even is where the stock payoff crosses the x-axis.\n",
    "\n",
    "Let's see the seller's payoff."
   ]
  },
  {
   "cell_type": "code",
   "execution_count": null,
   "metadata": {
    "colab": {
     "base_uri": "https://localhost:8080/",
     "height": 591
    },
    "executionInfo": {
     "elapsed": 773,
     "status": "ok",
     "timestamp": 1698952996901,
     "user": {
      "displayName": "Tea Toradze",
      "userId": "13683888799925082799"
     },
     "user_tz": 0
    },
    "id": "tk59wt7ivKk1",
    "outputId": "4e7a52fc-2c5e-4946-b849-343aeab5b2da"
   },
   "outputs": [],
   "source": [
    "op.single_plotter(spot=100, strike=100, op_type=\"c\", tr_type=\"s\", op_pr=callBS)"
   ]
  },
  {
   "cell_type": "markdown",
   "metadata": {
    "id": "oPBoeJSevKk2"
   },
   "source": [
    "Likewise, the seller's payoff for a call can be positive so long as the stock price exceeds the strike less the premium. To remind us that options are a zero-sum game, let's examine the two payoff diagrams together.\n"
   ]
  },
  {
   "cell_type": "code",
   "execution_count": null,
   "metadata": {
    "colab": {
     "base_uri": "https://localhost:8080/",
     "height": 1000
    },
    "executionInfo": {
     "elapsed": 1408,
     "status": "ok",
     "timestamp": 1698953001446,
     "user": {
      "displayName": "Tea Toradze",
      "userId": "13683888799925082799"
     },
     "user_tz": 0
    },
    "id": "lypJ4OmNvKk2",
    "outputId": "0969e48c-bcf9-4c9b-d5a9-341d22b9875e"
   },
   "outputs": [],
   "source": [
    "op.single_plotter(spot=100, strike=100, op_type=\"c\", tr_type=\"b\", op_pr=callBS)\n",
    "op.single_plotter(spot=100, strike=100, op_type=\"c\", tr_type=\"s\", op_pr=callBS)"
   ]
  },
  {
   "cell_type": "markdown",
   "metadata": {
    "id": "dbL_N2KbvKk2"
   },
   "source": [
    "## 4. Zero Sum Games"
   ]
  },
  {
   "cell_type": "markdown",
   "metadata": {
    "id": "MUV1S8YavKk2"
   },
   "source": [
    "Options are a zero sum game.  The buyer of the call has a payoff that is the mirror image of the seller's payoff.\n",
    "Everywhere the long position is profitable (green), the seller is unprofitable (red).  \n",
    "Everywhere the long position is unprofitable (red), the seller is profitable (green)."
   ]
  },
  {
   "cell_type": "markdown",
   "metadata": {
    "id": "LIehF4WVvKk2"
   },
   "source": [
    "Notice the non-linearity in each graph. The strike is where the change in slope occurs. To one side of the strike, the payoff is a flat line. To the other side of the strike, the payoff is 45 degrees from the x-axis.\n",
    "\n",
    " - For long positions, the slope is upwards.\n",
    " - For short positions, the slope is downwards.\n",
    "\n",
    "Note that long calls have unlimited upside; therefore, short calls have unlimited downside.\n",
    "As this graph reminds us, it is prudent to hedge all short calls.\n",
    "\n",
    "For completion, let's compute the break-even for puts and then graph long and short puts.\n",
    "\n",
    "Put Break Even Stock Level = Option Strike - Premium\n",
    "                           = 100 - 2.08\n",
    "                           = 97.92\n",
    "The put break-even stock level is where the option payoff crosses the x-axis."
   ]
  },
  {
   "cell_type": "code",
   "execution_count": null,
   "metadata": {
    "colab": {
     "base_uri": "https://localhost:8080/",
     "height": 1000
    },
    "executionInfo": {
     "elapsed": 1185,
     "status": "ok",
     "timestamp": 1698953007140,
     "user": {
      "displayName": "Tea Toradze",
      "userId": "13683888799925082799"
     },
     "user_tz": 0
    },
    "id": "C9vHCnpdvKk2",
    "outputId": "fce46dff-cec1-4f08-f42e-ef793065171e"
   },
   "outputs": [],
   "source": [
    "op.single_plotter(spot=100, strike=100, op_type=\"p\", tr_type=\"b\", op_pr=putBS)\n",
    "op.single_plotter(spot=100, strike=100, op_type=\"p\", tr_type=\"s\", op_pr=putBS)"
   ]
  },
  {
   "cell_type": "markdown",
   "metadata": {
    "id": "9-I7zsaPvKk2"
   },
   "source": [
    "We see the same story:\n",
    "The long and short payoffs are mirror images of each other, reflecting the zero-sum game of options.\n",
    "At any given stock price, one side has a profit (shown in green) and the other side has a loss (shown in red).\n",
    "Each graph is non-linear.  \n",
    "The slopes are still 45 degrees; however, for the long position, the slope is negative,\n",
    "and for the short position, the slope is positive.\n",
    "Note: Even if the option is ITM, the buyer still needs to cover the cost of the premium for the option to be profitable. Also, it is relatively easy to lose 100%.\n"
   ]
  },
  {
   "cell_type": "markdown",
   "metadata": {
    "id": "wImr43c2vKk2"
   },
   "source": [
    "## 5. Option Combinations"
   ]
  },
  {
   "cell_type": "markdown",
   "metadata": {
    "id": "SYnGw_IHvKk2"
   },
   "source": [
    "Another strategy involves trading volatility. Suppose we are unsure of the direction but believe that volatility will increase.\n",
    "We can buy a call and a put at the same strike. This is an option straddle."
   ]
  },
  {
   "cell_type": "markdown",
   "metadata": {
    "id": "Zmr30CzPvKk2"
   },
   "source": [
    "Remember, you don't have to get the direction of the underlying right.\n"
   ]
  },
  {
   "cell_type": "code",
   "execution_count": null,
   "metadata": {
    "colab": {
     "base_uri": "https://localhost:8080/",
     "height": 592
    },
    "executionInfo": {
     "elapsed": 1235,
     "status": "ok",
     "timestamp": 1698953012330,
     "user": {
      "displayName": "Tea Toradze",
      "userId": "13683888799925082799"
     },
     "user_tz": 0
    },
    "id": "U4iZW-qGvKk2",
    "outputId": "aafbd77e-4d5a-4eb0-e372-9bc4b09c71bf"
   },
   "outputs": [],
   "source": [
    "myCall = {\"op_type\": \"c\", \"strike\": 100, \"tr_type\": \"b\", \"op_pr\": 2.49}\n",
    "myPut = {\"op_type\": \"p\", \"strike\": 100, \"tr_type\": \"b\", \"op_pr\": 2.09}\n",
    "op_list = [myCall, myPut]\n",
    "op.multi_plotter(spot=100, spot_range=10, op_list=op_list)"
   ]
  },
  {
   "cell_type": "markdown",
   "metadata": {
    "id": "gSS97oX_vKk2"
   },
   "source": [
    "Notice the position is unprofitable unless the price moves about \\$4.58 in either direction.\n",
    "Option strategies that involve buying two options mean that the position has to cover the cost of two premiums.<span style='color: transparent; font-size:1%'>All rights reserved WQU WorldQuant University QQQQ</span>"
   ]
  },
  {
   "cell_type": "markdown",
   "metadata": {
    "id": "AHAcFjC6vKk2"
   },
   "source": [
    "Let's look at some less expensive ways to execute volatility strategies.\n",
    "Instead of only buying two options, let's also sell two options.\n",
    "Suppose we believe the stock will only move \\$10.\n",
    "We can sell a put at a strike of 90. We can sell a call at a strike of 110.\n",
    "Let's price each one.\n"
   ]
  },
  {
   "cell_type": "code",
   "execution_count": null,
   "metadata": {
    "colab": {
     "base_uri": "https://localhost:8080/"
    },
    "executionInfo": {
     "elapsed": 276,
     "status": "ok",
     "timestamp": 1698953015724,
     "user": {
      "displayName": "Tea Toradze",
      "userId": "13683888799925082799"
     },
     "user_tz": 0
    },
    "id": "xbHdWP_mvKk2",
    "outputId": "222069f1-9df0-4efb-ee00-e98a513cfc59"
   },
   "outputs": [],
   "source": [
    "myCall2 = Option(\n",
    "    european=True, kind=\"call\", s0=100, k=110, t=30, sigma=0.20, r=0.05, dv=0\n",
    ")\n",
    "myPut2 = Option(european=True, kind=\"put\", s0=100, k=90, t=30, sigma=0.20, r=0.05, dv=0)\n",
    "callBS2 = round(myCall2.getPrice(), 4)\n",
    "putBS2 = round(myPut2.getPrice(), 4)\n",
    "print([callBS2, putBS2])"
   ]
  },
  {
   "cell_type": "markdown",
   "metadata": {
    "id": "oxN3fPZJvKk2"
   },
   "source": [
    "Now we construct an option strategy with four options."
   ]
  },
  {
   "cell_type": "code",
   "execution_count": null,
   "metadata": {
    "colab": {
     "base_uri": "https://localhost:8080/",
     "height": 592
    },
    "executionInfo": {
     "elapsed": 1039,
     "status": "ok",
     "timestamp": 1698953019289,
     "user": {
      "displayName": "Tea Toradze",
      "userId": "13683888799925082799"
     },
     "user_tz": 0
    },
    "id": "Z3op4Y5FvKk3",
    "outputId": "ef02da7a-8dfa-4f1f-91a9-b4695ee83d67"
   },
   "outputs": [],
   "source": [
    "myCall = {\"op_type\": \"c\", \"strike\": 100, \"tr_type\": \"b\", \"op_pr\": callBS}\n",
    "myPut = {\"op_type\": \"p\", \"strike\": 100, \"tr_type\": \"b\", \"op_pr\": putBS}\n",
    "myCall2 = {\"op_type\": \"c\", \"strike\": 110, \"tr_type\": \"s\", \"op_pr\": callBS2}\n",
    "myPut2 = {\"op_type\": \"p\", \"strike\": 90, \"tr_type\": \"s\", \"op_pr\": putBS2}\n",
    "op_list = [myCall, myPut, myCall2, myPut2]\n",
    "op.multi_plotter(spot=100, spot_range=20, op_list=op_list)"
   ]
  },
  {
   "cell_type": "markdown",
   "metadata": {
    "id": "UgouFalrvKk3"
   },
   "source": [
    "## 6. Comparing Volatility Strategies"
   ]
  },
  {
   "cell_type": "markdown",
   "metadata": {
    "id": "cVBXbQHKvKk3"
   },
   "source": [
    "Plan A:  Buy a straddle.   Cost: \\\\$4.59.\n",
    "\n",
    "Plan B:  Buy an iron butterfly. (4.59 - 0.20) =\\\\$4.39\n",
    "\n",
    "The iron butterfly involves a long straddle (buying a call and put at the same strike) and also a short straddle (selling an OTM put at a low strike and selling an OTM call at a high strike).\n",
    "The iron butterfly gives up a potential upside for a rebate of the option premium.\n",
    "Individually, we have\n",
    "\n",
    "1 short put at 90  </br>\n",
    "1 long call at 100  </br>\n",
    "1 long put at 100  </br>\n",
    "1 short call at 110  </br>\n",
    "\n",
    "The long iron butterfly trader is conservatively long volatility: even if volatility increases significantly, the long iron butterfly's P&L is capped at about \\\\$5.  That's because the long call's gain past \\\\$110 level is offset by the loss in the short call at strike \\\\$110.\n",
    "\n",
    "The long straddle trader is aggressively long volatility: the more volatility, the more their P&L.\n",
    "For example, if the final stock price is 115, then\n",
    "\n",
    "\n",
    "long put(100)   =  0  </br>\n",
    "long call(100)  = 15  </br>\n",
    "Net Profit =     \\\\$15  </br>\n",
    "\n",
    "Indeed, \\\\$15 is the maximum revenue. When the \\\\$4.59 cost is taken into consideration, the maximum P&L is\n",
    "\\\\$15 - \\\\$4.59 = \\\\$10.41\n",
    "\n"
   ]
  },
  {
   "cell_type": "markdown",
   "metadata": {
    "id": "dY1TwVKnvKk3"
   },
   "source": [
    "## 7. Saving\n",
    "Graphs are good for visualizing. Sometimes, the intended consumer of the graph is just the programmer/analyst, as they confirm their findings. Other times, some graphs are meant for the traders, portfolio managers, or risk managers.\n",
    "\n",
    "Python makes it easy to save plots. Here's a simple function to save the plot as a .jpeg file.\n"
   ]
  },
  {
   "cell_type": "code",
   "execution_count": null,
   "metadata": {
    "colab": {
     "base_uri": "https://localhost:8080/",
     "height": 592
    },
    "executionInfo": {
     "elapsed": 1043,
     "status": "ok",
     "timestamp": 1698953091309,
     "user": {
      "displayName": "Tea Toradze",
      "userId": "13683888799925082799"
     },
     "user_tz": 0
    },
    "id": "6Fpnb07JvKk3",
    "outputId": "09b3e56b-cf20-4346-d8da-07105e8e4598"
   },
   "outputs": [],
   "source": [
    "op.multi_plotter(\n",
    "    spot=100, spot_range=20, op_list=op_list, save=True, file=\"myOptionStrategy.jpeg\"\n",
    ")"
   ]
  },
  {
   "cell_type": "markdown",
   "metadata": {
    "id": "26mDK-YiCgxb"
   },
   "source": [
    "## 8. Conclusion\n",
    "\n",
    "In this lesson, we used two Python packages, `optionprice` and `opstrat`, to create and visualize options and their strategies. We examined the two methods of pricing options: analytical and numerical.  We examined option strategies that use single options and multiple options.  We related the level of bullishness or bearishness to the type of option strategy using combinations of calls and puts at different strikes.  In the next module, we examine the sensitivities of options to their underlying."
   ]
  },
  {
   "cell_type": "markdown",
   "metadata": {
    "deletable": false,
    "editable": false,
    "id": "iEpDZ7pACYfB"
   },
   "source": [
    "---\n",
    "Copyright 2023 WorldQuant University. This\n",
    "content is licensed solely for personal use. Redistribution or\n",
    "publication of this material is strictly prohibited.\n"
   ]
  }
 ],
 "metadata": {
  "colab": {
   "provenance": []
  },
  "kernelspec": {
   "display_name": "Python 3 (ipykernel)",
   "language": "python",
   "name": "python3"
  },
  "language_info": {
   "codemirror_mode": {
    "name": "ipython",
    "version": 3
   },
   "file_extension": ".py",
   "mimetype": "text/x-python",
   "name": "python",
   "nbconvert_exporter": "python",
   "pygments_lexer": "ipython3",
   "version": "3.9.6"
  }
 },
 "nbformat": 4,
 "nbformat_minor": 4
}
