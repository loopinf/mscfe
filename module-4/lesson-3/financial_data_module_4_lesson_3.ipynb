{
 "cells": [
  {
   "cell_type": "markdown",
   "metadata": {
    "id": "ZsVRqyeT4i3U"
   },
   "source": [
    "\n",
    "## FINANCIAL DATA\n",
    "MODULE 4 | LESSON 3\n",
    "\n",
    "\n",
    "---\n"
   ]
  },
  {
   "cell_type": "markdown",
   "metadata": {
    "id": "veh7OORSFfpt"
   },
   "source": [
    "# **OPTION DATA AND ATTRIBUTES**"
   ]
  },
  {
   "cell_type": "markdown",
   "metadata": {
    "id": "J0Eiapu8FKcD"
   },
   "source": [
    "|  |  |\n",
    "|:---|:---|\n",
    "|**Reading Time** |  30- 40 minutes |\n",
    "|**Prior Knowledge** |Calls and Puts, Option Parameters, Option Payoffs, Option Prices, Option Strategies    |\n",
    "|**Keywords** |Open Interest, Put Call Parity Ratios, Bid-Ask Spread    |\n",
    "\n",
    "\n",
    "---"
   ]
  },
  {
   "cell_type": "markdown",
   "metadata": {
    "id": "3hBjA2Jk8Ulz"
   },
   "source": [
    "*In the previous lesson, we studied how options depend on the underlying parameters. In this lesson, we'll import option data: real-time pricing and attributes. We'll see the types of metadata available and how they relate to each other and option prices.*"
   ]
  },
  {
   "cell_type": "code",
   "execution_count": null,
   "metadata": {
    "executionInfo": {
     "elapsed": 215,
     "status": "ok",
     "timestamp": 1698954300258,
     "user": {
      "displayName": "Tea Toradze",
      "userId": "13683888799925082799"
     },
     "user_tz": 0
    },
    "id": "exE9eVte8L0Z"
   },
   "outputs": [],
   "source": [
    "import datetime\n",
    "\n",
    "import matplotlib.patches as mpatches\n",
    "import matplotlib.pyplot as plt\n",
    "import pandas as pd\n",
    "import yfinance as yf\n",
    "from yahoo_fin import options"
   ]
  },
  {
   "cell_type": "markdown",
   "metadata": {
    "id": "XM40l0Lp8L0b"
   },
   "source": [
    "## 1. Handling Option Complexity\n",
    "As an asset, options are N times more complicated than stocks\n",
    "(where N > 1 and is left up to you to determine the effects of\n",
    "non-linearity, leverage, kurtosis, hedging, model risk, and other issues).\n",
    "\n",
    "One of the reasons options are more complicated than stocks is the abundant array of options to choose from.\n",
    "\n",
    "Suppose you are bullish on Netflix (symbol = NFLX).\n",
    "(You may like the original series, and the wide variety of films, television series, and documentaries.)\n",
    "You can decide to buy the stock.\n",
    "But what if you decide to buy the option?\n",
    "Well, you will soon realize there are a multitude of options.\n",
    "\n",
    "So, the question is better phrased as, what if you decide to buy an option? Or even a set of options because some strategies involve multiple options?\n",
    "\n",
    "Remember, unless you are a volatility trader, when you trade options you need to get three things correct:\n",
    "1. Direction: based on what you choose between calls or puts\n",
    "2. Size: based on what you choose among strike levels\n",
    "3. Timing: based on what you choose among different expirations\n",
    "Let's count how many there are of each!"
   ]
  },
  {
   "cell_type": "markdown",
   "metadata": {
    "id": "5Yt4bql-8L0c"
   },
   "source": [
    "## 2. Importing Option Data"
   ]
  },
  {
   "cell_type": "markdown",
   "metadata": {
    "id": "Et7cMiTc8L0d"
   },
   "source": [
    "First, we'll refer to a function that helps not only to import option chain data but also to categorize and store it neatly.\n",
    "\n",
    "The function uses the Python package `yfinance`.\n",
    "It works with pandas Data Frames.\n",
    "It is used for loops, basic subsetting, and even lambda functions.\n",
    "Please do the required reading to ensure your knowledge of Python is complete and up-to-date.\n"
   ]
  },
  {
   "cell_type": "code",
   "execution_count": null,
   "metadata": {
    "executionInfo": {
     "elapsed": 219,
     "status": "ok",
     "timestamp": 1698954312417,
     "user": {
      "displayName": "Tea Toradze",
      "userId": "13683888799925082799"
     },
     "user_tz": 0
    },
    "id": "5lw0WuyL8L0e"
   },
   "outputs": [],
   "source": [
    "# https://medium.com/@txlian13/webscrapping-options-data-with-python-and-yfinance-e4deb0124613\n",
    "\n",
    "\n",
    "def options_chain(symbol):\n",
    "    tk = yf.Ticker(symbol)\n",
    "    # Expiration dates\n",
    "    exps = tk.options\n",
    "\n",
    "    # Get options for each expiration\n",
    "    options = pd.DataFrame()\n",
    "    for e in exps:\n",
    "        opt = tk.option_chain(e)\n",
    "        opt = pd.DataFrame().append(opt.calls).append(opt.puts)\n",
    "        opt[\"expirationDate\"] = e\n",
    "        options = options.append(opt, ignore_index=True)\n",
    "\n",
    "    # Bizarre error in `yfinance` that gives the wrong expiration date\n",
    "    # Add 1 day to get the correct expiration date\n",
    "    options[\"expirationDate\"] = pd.to_datetime(\n",
    "        options[\"expirationDate\"]\n",
    "    ) + datetime.timedelta(days=1)\n",
    "    options[\"dte\"] = (\n",
    "        options[\"expirationDate\"] - datetime.datetime.today()\n",
    "    ).dt.days / 365\n",
    "\n",
    "    # Boolean column if the option is a CALL\n",
    "    options[\"CALL\"] = options[\"contractSymbol\"].str[4:].apply(lambda x: \"C\" in x)\n",
    "\n",
    "    # options[['bid', 'ask', 'strike']] = options[['bid', 'ask', 'strike']].apply(pd.to_numeric)\n",
    "    options[[\"bid\", \"ask\", \"strike\", \"volume\", \"Implied Volatility\"]] = options[\n",
    "        [\"bid\", \"ask\", \"strike\", \"volume\", \"Implied Volatility\"]\n",
    "    ].apply(pd.to_numeric)\n",
    "    options[\"mark\"] = (\n",
    "        options[\"bid\"] + options[\"ask\"]\n",
    "    ) / 2  # Calculate the midpoint of the bid-ask\n",
    "\n",
    "    # Drop unnecessary and meaningless columns\n",
    "    options = options.drop(\n",
    "        columns=[\n",
    "            \"contractSize\",\n",
    "            \"currency\",\n",
    "            \"change\",\n",
    "            \"percentChange\",\n",
    "            \"lastTradeDate\",\n",
    "            \"lastPrice\",\n",
    "        ]\n",
    "    )\n",
    "\n",
    "    return options"
   ]
  },
  {
   "cell_type": "markdown",
   "metadata": {
    "id": "EM_r-FzO8L0f"
   },
   "source": [
    "## 3. Options Come in a Variety of Expiration Dates"
   ]
  },
  {
   "cell_type": "markdown",
   "metadata": {
    "id": "97u_1t0b8L0g"
   },
   "source": [
    "Now, let's count the number of different expiration dates."
   ]
  },
  {
   "cell_type": "code",
   "execution_count": null,
   "metadata": {
    "colab": {
     "base_uri": "https://localhost:8080/"
    },
    "executionInfo": {
     "elapsed": 1248,
     "status": "ok",
     "timestamp": 1698954317055,
     "user": {
      "displayName": "Tea Toradze",
      "userId": "13683888799925082799"
     },
     "user_tz": 0
    },
    "id": "XwctHul38L0h",
    "outputId": "33dde325-b8ef-448e-a707-ff3bab48d478"
   },
   "outputs": [],
   "source": [
    "nflx_dates = options.get_expiration_dates(\"nflx\")\n",
    "len(nflx_dates)"
   ]
  },
  {
   "cell_type": "markdown",
   "metadata": {
    "id": "FK-X3rz58L0i"
   },
   "source": [
    "As of the time we ran this code, we have 17 different expiration dates.\n",
    "(You may have a different number.)\n",
    "Let's see how varied the dates are."
   ]
  },
  {
   "cell_type": "code",
   "execution_count": null,
   "metadata": {
    "colab": {
     "base_uri": "https://localhost:8080/"
    },
    "executionInfo": {
     "elapsed": 174,
     "status": "ok",
     "timestamp": 1698954325134,
     "user": {
      "displayName": "Tea Toradze",
      "userId": "13683888799925082799"
     },
     "user_tz": 0
    },
    "id": "q83QmW5-8L0i",
    "outputId": "7355e3f8-9308-4101-8970-49595df0f7c5"
   },
   "outputs": [],
   "source": [
    "list(nflx_dates)"
   ]
  },
  {
   "cell_type": "markdown",
   "metadata": {
    "id": "0ND5cnZU8L0i"
   },
   "source": [
    "We notice that there are about six expiration dates that occur in 1-week intervals: 1-week options, 2-week options, 3-week options, 4-week options, 5-week options, and 6-week options. Then, they appear to be monthly, typically expiring the third Friday of the month. Then, there appear to be 1-year and perhaps even 2-year options. When you're bullish on Netflix, you will certainly want to know if you think the stock will increase within a few weeks for short-dated options or over longer periods of time for the longer-dated options.\n",
    "\n",
    "Next, let's get all the calls."
   ]
  },
  {
   "cell_type": "code",
   "execution_count": null,
   "metadata": {
    "colab": {
     "base_uri": "https://localhost:8080/"
    },
    "executionInfo": {
     "elapsed": 1500,
     "status": "ok",
     "timestamp": 1698954330054,
     "user": {
      "displayName": "Tea Toradze",
      "userId": "13683888799925082799"
     },
     "user_tz": 0
    },
    "id": "fGZZBnGM8L0j",
    "outputId": "253f71d7-90c7-48e6-b2b1-c40796a17b36"
   },
   "outputs": [],
   "source": [
    "try:\n",
    "    callsNflx = options.get_calls(\"nflx\")\n",
    "except:  # noQA E722\n",
    "    # to load data from local file in case of any disruptions\n",
    "    callsNflx = pd.read_csv(\"nflx_calls.csv\")\n",
    "\n",
    "callsNflx[\"Open Interest\"] = (\n",
    "    callsNflx[\"Open Interest\"].astype(str).str.replace(\"-\", \"0\").astype(float)\n",
    ")\n",
    "list(callsNflx.columns)"
   ]
  },
  {
   "cell_type": "code",
   "execution_count": null,
   "metadata": {
    "colab": {
     "base_uri": "https://localhost:8080/",
     "height": 206
    },
    "executionInfo": {
     "elapsed": 202,
     "status": "ok",
     "timestamp": 1698954332729,
     "user": {
      "displayName": "Tea Toradze",
      "userId": "13683888799925082799"
     },
     "user_tz": 0
    },
    "id": "wJmb_Sox8L0j",
    "outputId": "51e164a6-5f46-41e5-b108-fe80943f670f"
   },
   "outputs": [],
   "source": [
    "callsNflx.head()"
   ]
  },
  {
   "cell_type": "code",
   "execution_count": null,
   "metadata": {
    "colab": {
     "base_uri": "https://localhost:8080/"
    },
    "executionInfo": {
     "elapsed": 4,
     "status": "ok",
     "timestamp": 1698954335297,
     "user": {
      "displayName": "Tea Toradze",
      "userId": "13683888799925082799"
     },
     "user_tz": 0
    },
    "id": "0MM3kZLV8L0j",
    "outputId": "2fe26c85-bcf6-4940-b17c-10ec0b21c241"
   },
   "outputs": [],
   "source": [
    "callsNflx.dtypes"
   ]
  },
  {
   "cell_type": "markdown",
   "metadata": {
    "id": "uD_tazgm8L0k"
   },
   "source": [
    "There's lots of information available on options. Keep in mind the function used to collect them dropped some other columns that are not shown in this list.  The data we have on options includes:\n",
    "1. The Contract Name. This is similar to a CUSIP, ISIN, SEDOL, ticker, or identifier.\n",
    "2. The Last Trade Date. This is the date of the most recent activity. If an option is inactive, you may encounter a date from a long time ago.\n",
    "3. Strike. The strike level of the option.\n",
    "4. Last Price. Trades in the market occur at a specific price. This is the most recent one.\n",
    "5. Bid. Market participants willing to buy agree to do so at the bid price. This is a quote rather than a trade.\n",
    "6. Ask. Market participants willing to sell agree to do so at the ask price. This is also known as the offer price.  Again, this is quote data rather than trade data.\n",
    "Just to clarify: Last Price refers to data that actually traded. Bid and Ask refer to price levels offered by market makers to buy and sell, respectively.\n",
    "7. Change. This gives the change in price on the day.  Positive change means prices increased on the day; negative changes mean prices decreased.\n",
    "8. % Chg. This gives the percent change. This is usually more helpful than the level change because it is scaled relative to the option's price.\n",
    "9. Volume. This gives the number of contracts that traded today.\n",
    "10. Open Interest. This gives the number of contracts outstanding for that particular option. This is sometimes confused with volume.  \n",
    "11. Implied Volatility. Of all the option's inputs, volatility is the most important. The other numeric inputs, stock price, strike level, risk-free rate, and dividend yield, are easily observed in the market. The volatility is the one number that is key to the option's price. If we are given the price of an option, we can imply what volatility was used to achieve that price. This means that we had agreement on all the other parameters. When we imply the volatility from the option's price, we compute the implied probability.\n",
    "\n",
    "Let's start counting."
   ]
  },
  {
   "cell_type": "markdown",
   "metadata": {
    "id": "RDQQu5-j8L0k"
   },
   "source": [
    "## 4. Options Come in a Variety of Strikes"
   ]
  },
  {
   "cell_type": "markdown",
   "metadata": {
    "id": "mHrvTHRS8L0l"
   },
   "source": [
    "How many different strike levels are there?"
   ]
  },
  {
   "cell_type": "code",
   "execution_count": null,
   "metadata": {
    "colab": {
     "base_uri": "https://localhost:8080/"
    },
    "executionInfo": {
     "elapsed": 200,
     "status": "ok",
     "timestamp": 1698954339506,
     "user": {
      "displayName": "Tea Toradze",
      "userId": "13683888799925082799"
     },
     "user_tz": 0
    },
    "id": "SjRIWGrM8L0l",
    "outputId": "1b86f7ea-080e-4df2-ac65-afeef41ee74a"
   },
   "outputs": [],
   "source": [
    "numStrikes = callsNflx[\"Strike\"].count()\n",
    "numStrikes"
   ]
  },
  {
   "cell_type": "markdown",
   "metadata": {
    "id": "7L-09sEP8L0l"
   },
   "source": [
    "This great number of strikes is bewildering.  It can make the specific selection of an option's strike a daunting process.  Fortunately, if we  investigate the strikes, we see a lot of them are deep OTM or deep ITM."
   ]
  },
  {
   "cell_type": "code",
   "execution_count": null,
   "metadata": {
    "colab": {
     "base_uri": "https://localhost:8080/"
    },
    "executionInfo": {
     "elapsed": 182,
     "status": "ok",
     "timestamp": 1698954341755,
     "user": {
      "displayName": "Tea Toradze",
      "userId": "13683888799925082799"
     },
     "user_tz": 0
    },
    "id": "HmmbWs1U8L0l",
    "outputId": "74128e7e-18bd-44af-fab1-80a0e43188d0"
   },
   "outputs": [],
   "source": [
    "callsNflx[\"Strike\"]"
   ]
  },
  {
   "cell_type": "markdown",
   "metadata": {
    "id": "OfvI9v9b8L0m"
   },
   "source": [
    "At the time of writing, NFLX is 340.  However, you can find strikes ranging from 10 to 1050. The overwhelming majority of these are OTM."
   ]
  },
  {
   "cell_type": "markdown",
   "metadata": {
    "id": "jcURw4b-8L0m"
   },
   "source": [
    "## 5. Options Have Different Amounts of Open Interest"
   ]
  },
  {
   "cell_type": "markdown",
   "metadata": {
    "id": "1QryDlXH8L0m"
   },
   "source": [
    "An easy way to filter options is to examine their open interest.\n",
    "The open interest refers to the number of contracts in existence.  \n",
    "Unlike stocks, the open interest of options can change moment by moment.\n",
    "To issue a new option, a buyer and seller simply come to terms.  \n",
    "Effectively, there is as much supply as the sellers are willing to write.\n",
    "(Practically, they will want to have access to the underlying so they can properly hedge their exposures).\n",
    "Many of the strikes we examined have little or no open interest.\n",
    "That means, market makers are offering these securities, but there have been no contracts written yet.  Perhaps the combination of being far from the strike and the time to expiration being too soon means that there is little interest in hedging or speculating with these options."
   ]
  },
  {
   "cell_type": "code",
   "execution_count": null,
   "metadata": {
    "executionInfo": {
     "elapsed": 188,
     "status": "ok",
     "timestamp": 1698954345228,
     "user": {
      "displayName": "Tea Toradze",
      "userId": "13683888799925082799"
     },
     "user_tz": 0
    },
    "id": "jrDeSbtA8L0m"
   },
   "outputs": [],
   "source": [
    "callStrikes = list(callsNflx[\"Strike\"])\n",
    "callOpenInt = list(callsNflx[\"Open Interest\"])"
   ]
  },
  {
   "cell_type": "code",
   "execution_count": null,
   "metadata": {
    "colab": {
     "base_uri": "https://localhost:8080/",
     "height": 449
    },
    "executionInfo": {
     "elapsed": 429,
     "status": "ok",
     "timestamp": 1698954347186,
     "user": {
      "displayName": "Tea Toradze",
      "userId": "13683888799925082799"
     },
     "user_tz": 0
    },
    "id": "0JVRhqs_8L0m",
    "outputId": "eac3f4a9-f5f8-426c-88e1-22f6ae3e4ef9"
   },
   "outputs": [],
   "source": [
    "plt.plot(callStrikes, callOpenInt)\n",
    "plt.xlabel(\"Call Strikes\")\n",
    "plt.ylabel(\"Call Open Interest\");"
   ]
  },
  {
   "cell_type": "code",
   "execution_count": null,
   "metadata": {
    "colab": {
     "base_uri": "https://localhost:8080/",
     "height": 449
    },
    "executionInfo": {
     "elapsed": 511,
     "status": "ok",
     "timestamp": 1698954350376,
     "user": {
      "displayName": "Tea Toradze",
      "userId": "13683888799925082799"
     },
     "user_tz": 0
    },
    "id": "yuIuMaOo8L0m",
    "outputId": "f9bf1aa5-ddf6-45b1-8f8b-a53d5750ad3a"
   },
   "outputs": [],
   "source": [
    "plt.xlim([300, 500])\n",
    "plt.plot(callStrikes, callOpenInt)\n",
    "plt.xlabel(\"Strike\")\n",
    "plt.ylabel(\"Open Interest\");"
   ]
  },
  {
   "cell_type": "markdown",
   "metadata": {
    "id": "4Idvr9018L0n"
   },
   "source": [
    "A handful of options have the vast majority of open interest.  This means that when we move far from the strike, we see much less open activity."
   ]
  },
  {
   "cell_type": "markdown",
   "metadata": {
    "id": "0iEWpu_z8L0n"
   },
   "source": [
    "Options with low amounts of open interest are not liquid.  Recall from Financial Markets that we studied liquidity.  Think of each option as a vendor at an outdoor market.  Think of open interest as the number of customers who bought fruits and vegetables at this market.  \n",
    "\n",
    "A vendor with no customers is like an option with insufficient open interest.\n",
    "There are little to no option contracts written.\n",
    "Therefore, the markets are illiquid.  \n",
    "\n",
    "Unlike our outdoor market, the options market allows participants to buy and sell. For illiquid securities, there is likely going to be a large bid-ask spread. Those options will be unfavorable to trade due to the illiquidity."
   ]
  },
  {
   "cell_type": "markdown",
   "metadata": {
    "id": "gx5gm78s8L0n"
   },
   "source": [
    "So we have lots of calls. We could run through the same exercise for puts, but the results should be similar.  There would be a lot of strikes."
   ]
  },
  {
   "cell_type": "code",
   "execution_count": null,
   "metadata": {
    "colab": {
     "base_uri": "https://localhost:8080/"
    },
    "executionInfo": {
     "elapsed": 1802,
     "status": "ok",
     "timestamp": 1698954355780,
     "user": {
      "displayName": "Tea Toradze",
      "userId": "13683888799925082799"
     },
     "user_tz": 0
    },
    "id": "f7g7DpeP8L0n",
    "outputId": "75a77354-748d-4eb4-ce68-a841be961fd4"
   },
   "outputs": [],
   "source": [
    "try:\n",
    "    putsNflx = options.get_puts(\"nflx\")\n",
    "except:  # noqa E722\n",
    "    # to load data from local file in case of any disruptions\n",
    "    putsNflx = pd.read_csv(\"nflx_puts.csv\")\n",
    "\n",
    "for index in putsNflx.index:\n",
    "    if \"-\" == putsNflx[\"Volume\"][index]:\n",
    "        putsNflx.loc[index, \"Volume\"] = 0\n",
    "\n",
    "putsNflx[\"Open Interest\"] = (\n",
    "    putsNflx[\"Open Interest\"].astype(str).str.replace(\"-\", \"0\").astype(float)\n",
    ")\n",
    "numPutStrikes = putsNflx[\"Strike\"].count()\n",
    "numPutStrikes"
   ]
  },
  {
   "cell_type": "code",
   "execution_count": null,
   "metadata": {
    "colab": {
     "base_uri": "https://localhost:8080/",
     "height": 450
    },
    "executionInfo": {
     "elapsed": 668,
     "status": "ok",
     "timestamp": 1698954358741,
     "user": {
      "displayName": "Tea Toradze",
      "userId": "13683888799925082799"
     },
     "user_tz": 0
    },
    "id": "cqykmRv68L0n",
    "outputId": "09886190-3727-498a-d7de-ed5c147cda42"
   },
   "outputs": [],
   "source": [
    "putStrikes = list(putsNflx[\"Strike\"])\n",
    "putOpenInt = list(putsNflx[\"Open Interest\"])\n",
    "plt.plot(putStrikes, putOpenInt)\n",
    "plt.xlabel(\"Put Strikes\")\n",
    "plt.ylabel(\"Put Open Interest\");"
   ]
  },
  {
   "cell_type": "markdown",
   "metadata": {
    "id": "KxQlylQA8L0o"
   },
   "source": [
    "Rather than plot all of the open interest amounts, let's just focus on the options near the current stock price."
   ]
  },
  {
   "cell_type": "code",
   "execution_count": null,
   "metadata": {
    "colab": {
     "base_uri": "https://localhost:8080/",
     "height": 450
    },
    "executionInfo": {
     "elapsed": 585,
     "status": "ok",
     "timestamp": 1698954361869,
     "user": {
      "displayName": "Tea Toradze",
      "userId": "13683888799925082799"
     },
     "user_tz": 0
    },
    "id": "hconJ9Mc8L0o",
    "outputId": "7e91efc5-47f4-481e-f06d-d813c2ac2ecf"
   },
   "outputs": [],
   "source": [
    "plt.xlim([300, 500])\n",
    "plt.plot(putStrikes, putOpenInt)\n",
    "plt.xlabel(\"Strike\")\n",
    "plt.ylabel(\"Open Interest\");"
   ]
  },
  {
   "cell_type": "markdown",
   "metadata": {
    "id": "9dsH-O_88L0o"
   },
   "source": [
    "## 6. Cleaning Volume"
   ]
  },
  {
   "cell_type": "markdown",
   "metadata": {
    "id": "rrMRSr178L0o"
   },
   "source": [
    "There's a problem with volume.  Contracts with no volume used '-' instead of 0.\n",
    "This data cleaning is an important step.  \n",
    "The following for loop will replace instances of '-' with a 0."
   ]
  },
  {
   "cell_type": "code",
   "execution_count": null,
   "metadata": {},
   "outputs": [],
   "source": [
    "callsNflx[\"Volume\"] = callsNflx[\"Volume\"].replace(\"-\", 0)"
   ]
  },
  {
   "cell_type": "markdown",
   "metadata": {
    "id": "VxiFp0UO8L0o"
   },
   "source": [
    "Now we convert the column to float."
   ]
  },
  {
   "cell_type": "code",
   "execution_count": null,
   "metadata": {
    "executionInfo": {
     "elapsed": 2,
     "status": "ok",
     "timestamp": 1698954367449,
     "user": {
      "displayName": "Tea Toradze",
      "userId": "13683888799925082799"
     },
     "user_tz": 0
    },
    "id": "VLmOYUio8L0o"
   },
   "outputs": [],
   "source": [
    "callsNflx.Volume = callsNflx.Volume.astype(float)"
   ]
  },
  {
   "cell_type": "markdown",
   "metadata": {
    "id": "EMdWNuj-8L0p"
   },
   "source": [
    "Let's do the same for puts: replace dashes and then convert to float."
   ]
  },
  {
   "cell_type": "code",
   "execution_count": null,
   "metadata": {},
   "outputs": [],
   "source": [
    "putsNflx[\"Volume\"] = putsNflx[\"Volume\"].replace(\"-\", 0).astype(float)"
   ]
  },
  {
   "cell_type": "markdown",
   "metadata": {
    "id": "IcJJQpgG8L0p"
   },
   "source": [
    "Let's create simple lists so we can add them to a data frame later."
   ]
  },
  {
   "cell_type": "code",
   "execution_count": null,
   "metadata": {
    "executionInfo": {
     "elapsed": 170,
     "status": "ok",
     "timestamp": 1698954372832,
     "user": {
      "displayName": "Tea Toradze",
      "userId": "13683888799925082799"
     },
     "user_tz": 0
    },
    "id": "qEJJvArz8L0p"
   },
   "outputs": [],
   "source": [
    "callVolume = list(callsNflx[\"Volume\"])\n",
    "putVolume = list(putsNflx[\"Volume\"])"
   ]
  },
  {
   "cell_type": "markdown",
   "metadata": {
    "id": "6c8nOTyb8L0p"
   },
   "source": [
    " ## 7. Diving Deeper into Open Interest"
   ]
  },
  {
   "cell_type": "markdown",
   "metadata": {
    "id": "VOzHipW_8L0p"
   },
   "source": [
    "Let's dive deeper into open interest.\n",
    "We can start by graphing open interest for calls and puts across different strikes."
   ]
  },
  {
   "cell_type": "code",
   "execution_count": null,
   "metadata": {
    "executionInfo": {
     "elapsed": 2,
     "status": "ok",
     "timestamp": 1698954374415,
     "user": {
      "displayName": "Tea Toradze",
      "userId": "13683888799925082799"
     },
     "user_tz": 0
    },
    "id": "2X_NabpF8L0p"
   },
   "outputs": [],
   "source": [
    "callDf = pd.DataFrame()\n",
    "callDf[\"Strikes\"] = callStrikes\n",
    "callDf[\"CallOpenInt\"] = callOpenInt\n",
    "callDf[\"CallVolume\"] = callVolume\n",
    "\n",
    "putDf = pd.DataFrame()\n",
    "putDf[\"Strikes\"] = putStrikes\n",
    "putDf[\"PutOpenInt\"] = putOpenInt\n",
    "putDf[\"PutVolume\"] = putVolume"
   ]
  },
  {
   "cell_type": "markdown",
   "metadata": {
    "id": "MQr5tZLZ8L0p"
   },
   "source": [
    "Now let's merge the two data frames for strikes near the current stock price."
   ]
  },
  {
   "cell_type": "code",
   "execution_count": null,
   "metadata": {
    "colab": {
     "base_uri": "https://localhost:8080/"
    },
    "executionInfo": {
     "elapsed": 261,
     "status": "ok",
     "timestamp": 1698954377077,
     "user": {
      "displayName": "Tea Toradze",
      "userId": "13683888799925082799"
     },
     "user_tz": 0
    },
    "id": "nfwj0OxG8L0p",
    "outputId": "97d8b6f2-7d1c-4394-be7f-dab330352553"
   },
   "outputs": [],
   "source": [
    "df = callDf.merge(putDf)\n",
    "df = df[(df[\"Strikes\"] > 300) & (df[\"Strikes\"] < 400)]\n",
    "list(df.dtypes)"
   ]
  },
  {
   "cell_type": "code",
   "execution_count": null,
   "metadata": {
    "colab": {
     "base_uri": "https://localhost:8080/",
     "height": 472
    },
    "executionInfo": {
     "elapsed": 872,
     "status": "ok",
     "timestamp": 1698954379904,
     "user": {
      "displayName": "Tea Toradze",
      "userId": "13683888799925082799"
     },
     "user_tz": 0
    },
    "id": "U6J52AbZ8L0p",
    "outputId": "3b460b18-4dd8-414b-81d3-91fc1301538a"
   },
   "outputs": [],
   "source": [
    "plt.xlim([300, 400])\n",
    "plt.plot(list(df[\"Strikes\"]), list(df[\"CallOpenInt\"]))\n",
    "plt.plot(list(df[\"Strikes\"]), list(df[\"PutOpenInt\"]))\n",
    "plt.title(\"Open Interest vs. Strike Level\")\n",
    "plt.xlabel(\"Strike\")\n",
    "plt.ylabel(\"Open Interest\")\n",
    "\n",
    "patch1 = mpatches.Patch(color=\"blue\", label=\"Call Open Interest\")\n",
    "patch2 = mpatches.Patch(color=\"orange\", label=\"Put Open Interest\")\n",
    "plt.legend(handles=[patch1, patch2]);"
   ]
  },
  {
   "cell_type": "markdown",
   "metadata": {
    "id": "HxmXiS6E8L0q"
   },
   "source": [
    "What is so interesting about open interest?\n",
    "Meaningful data ratios derive from these open interest numbers.\n",
    "Let's define one.\n",
    "\n",
    "$$\\text{Put Call Ratio of Open Interest} = \\frac{\\text{Put Open Interest}}{\\text{Call Open Interest}}$$\n",
    "\n",
    "Read the required reading to see how useful Open Interest can be in predicting the direction of a stock.\n",
    "How can we define a function for put call ratio?"
   ]
  },
  {
   "cell_type": "code",
   "execution_count": null,
   "metadata": {
    "colab": {
     "base_uri": "https://localhost:8080/"
    },
    "executionInfo": {
     "elapsed": 191,
     "status": "ok",
     "timestamp": 1698954385591,
     "user": {
      "displayName": "Tea Toradze",
      "userId": "13683888799925082799"
     },
     "user_tz": 0
    },
    "id": "X3DhiXaB8L0q",
    "outputId": "522078e9-e7d2-42d8-94cf-24e7c0ff6a4a"
   },
   "outputs": [],
   "source": [
    "def PutCallRatioOpenInterest(df):\n",
    "    pcroi = sum(df[\"PutOpenInt\"]) / sum(df[\"CallOpenInt\"])\n",
    "    return round(pcroi, 4)\n",
    "\n",
    "\n",
    "PutCallRatioOpenInterest(df)"
   ]
  },
  {
   "cell_type": "code",
   "execution_count": null,
   "metadata": {
    "colab": {
     "base_uri": "https://localhost:8080/"
    },
    "executionInfo": {
     "elapsed": 186,
     "status": "ok",
     "timestamp": 1698954388104,
     "user": {
      "displayName": "Tea Toradze",
      "userId": "13683888799925082799"
     },
     "user_tz": 0
    },
    "id": "15n1ERSR8L0q",
    "outputId": "795d008f-e850-4e6d-8b47-45df186a767a"
   },
   "outputs": [],
   "source": [
    "def PutCallRatioVolume(df):\n",
    "    pcv = sum(df[\"PutVolume\"]) / sum(df[\"CallVolume\"])\n",
    "    return round(pcv, 4)\n",
    "\n",
    "\n",
    "PutCallRatioVolume(df)"
   ]
  },
  {
   "cell_type": "markdown",
   "metadata": {
    "id": "ZlB_9OW38L0q"
   },
   "source": [
    "## 8. Handling Python Data Structures"
   ]
  },
  {
   "cell_type": "code",
   "execution_count": null,
   "metadata": {
    "colab": {
     "base_uri": "https://localhost:8080/"
    },
    "executionInfo": {
     "elapsed": 20136,
     "status": "ok",
     "timestamp": 1698954411213,
     "user": {
      "displayName": "Tea Toradze",
      "userId": "13683888799925082799"
     },
     "user_tz": 0
    },
    "id": "bxnUG8928L0q",
    "outputId": "a89a1a5c-1b2f-4acc-c3fd-2af34a1d6c78"
   },
   "outputs": [],
   "source": [
    "info = {}\n",
    "for date in nflx_dates:\n",
    "    info[date] = options.get_options_chain(\"nflx\")\n",
    "type(info)"
   ]
  },
  {
   "cell_type": "markdown",
   "metadata": {
    "id": "0F4ORjU18L0q"
   },
   "source": [
    "Notice the familiar data structures.  Info is a dictionary.  It is keyed by the expiration date."
   ]
  },
  {
   "cell_type": "code",
   "execution_count": null,
   "metadata": {
    "colab": {
     "base_uri": "https://localhost:8080/"
    },
    "executionInfo": {
     "elapsed": 177,
     "status": "ok",
     "timestamp": 1698954413972,
     "user": {
      "displayName": "Tea Toradze",
      "userId": "13683888799925082799"
     },
     "user_tz": 0
    },
    "id": "SJX2418u8L0q",
    "outputId": "52a0ea30-4fed-4365-bc09-28f0b9740d21"
   },
   "outputs": [],
   "source": [
    "exp_dates = list(info.keys())\n",
    "exp_dates"
   ]
  },
  {
   "cell_type": "markdown",
   "metadata": {
    "id": "g5U77ivB8L0r"
   },
   "source": [
    "Let's extract one key by extracting one date."
   ]
  },
  {
   "cell_type": "code",
   "execution_count": null,
   "metadata": {
    "colab": {
     "base_uri": "https://localhost:8080/"
    },
    "executionInfo": {
     "elapsed": 179,
     "status": "ok",
     "timestamp": 1698954417520,
     "user": {
      "displayName": "Tea Toradze",
      "userId": "13683888799925082799"
     },
     "user_tz": 0
    },
    "id": "DEpvCBwS8L0r",
    "outputId": "ca87b2f7-7d25-4f1e-8562-3796567f5c3d"
   },
   "outputs": [],
   "source": [
    "z1 = info[exp_dates[0]]\n",
    "type(z1)"
   ]
  },
  {
   "cell_type": "code",
   "execution_count": null,
   "metadata": {
    "colab": {
     "base_uri": "https://localhost:8080/"
    },
    "executionInfo": {
     "elapsed": 177,
     "status": "ok",
     "timestamp": 1698954420630,
     "user": {
      "displayName": "Tea Toradze",
      "userId": "13683888799925082799"
     },
     "user_tz": 0
    },
    "id": "3SQrh79W8L0r",
    "outputId": "1763bf0e-9e19-41d8-8a8c-80fdd1dfb4fe"
   },
   "outputs": [],
   "source": [
    "z1.keys()"
   ]
  },
  {
   "cell_type": "markdown",
   "metadata": {
    "id": "L-U8_QNS8L0r"
   },
   "source": [
    "We still have a dictionary. Let's get the calls."
   ]
  },
  {
   "cell_type": "code",
   "execution_count": null,
   "metadata": {
    "colab": {
     "base_uri": "https://localhost:8080/"
    },
    "executionInfo": {
     "elapsed": 233,
     "status": "ok",
     "timestamp": 1698954423098,
     "user": {
      "displayName": "Tea Toradze",
      "userId": "13683888799925082799"
     },
     "user_tz": 0
    },
    "id": "ySJuo6hr8L0r",
    "outputId": "43d62754-440a-4831-d0d0-9c23f5c10893"
   },
   "outputs": [],
   "source": [
    "z2 = z1[\"calls\"]\n",
    "type(z2)"
   ]
  },
  {
   "cell_type": "markdown",
   "metadata": {
    "id": "kUgIb9q68L0r"
   },
   "source": [
    "Now, we have a data frame."
   ]
  },
  {
   "cell_type": "code",
   "execution_count": null,
   "metadata": {
    "colab": {
     "base_uri": "https://localhost:8080/"
    },
    "executionInfo": {
     "elapsed": 167,
     "status": "ok",
     "timestamp": 1698954426577,
     "user": {
      "displayName": "Tea Toradze",
      "userId": "13683888799925082799"
     },
     "user_tz": 0
    },
    "id": "0Bvn7TtQ8L0r",
    "outputId": "208317a9-099a-4942-a5f3-d3c357236386"
   },
   "outputs": [],
   "source": [
    "z2[\"Strike\"].count()\n",
    "z2.columns"
   ]
  },
  {
   "cell_type": "code",
   "execution_count": null,
   "metadata": {
    "colab": {
     "base_uri": "https://localhost:8080/",
     "height": 237
    },
    "executionInfo": {
     "elapsed": 169,
     "status": "ok",
     "timestamp": 1698954429107,
     "user": {
      "displayName": "Tea Toradze",
      "userId": "13683888799925082799"
     },
     "user_tz": 0
    },
    "id": "-BEsRQK98L0r",
    "outputId": "54ad0b5f-13fd-4121-ef6b-e557d63b55f0"
   },
   "outputs": [],
   "source": [
    "z3 = z2[(z2[\"Strike\"] >= 330) & (z2[\"Strike\"] <= 350)]\n",
    "z3"
   ]
  },
  {
   "cell_type": "markdown",
   "metadata": {
    "id": "S_50beQZ8L0s"
   },
   "source": [
    "Let's compute the bid-ask spread.<span style='color: transparent; font-size:1%'>All rights reserved WQU WorldQuant University QQQQ</span>"
   ]
  },
  {
   "cell_type": "code",
   "execution_count": null,
   "metadata": {
    "colab": {
     "base_uri": "https://localhost:8080/",
     "height": 472
    },
    "executionInfo": {
     "elapsed": 628,
     "status": "ok",
     "timestamp": 1698954433238,
     "user": {
      "displayName": "Tea Toradze",
      "userId": "13683888799925082799"
     },
     "user_tz": 0
    },
    "id": "z_5kfU5n8L0s",
    "outputId": "9236de61-976a-4cc3-eb87-3de939f13ae5"
   },
   "outputs": [],
   "source": [
    "# Compute the bid-ask spread\n",
    "z4 = z2[(z2[\"Strike\"] >= 300) & (z2[\"Strike\"] <= 400)]\n",
    "plt.plot(list(z4[\"Strike\"]), list(z4[\"Ask\"].astype(float) - z4[\"Bid\"].astype(float)))\n",
    "plt.title(\"Bid-Ask Spread as a Function of Strike\")\n",
    "plt.xlabel(\"Strike\")\n",
    "plt.ylabel(\"Bid-Ask Spread\");"
   ]
  },
  {
   "cell_type": "markdown",
   "metadata": {
    "id": "hnqoauHu8L0s"
   },
   "source": [
    "When we are OTM, the bid-ask spread is considerably higher.\n",
    "OTM calls tend to have very low liquidity.\n"
   ]
  },
  {
   "cell_type": "markdown",
   "metadata": {
    "id": "P_ZC607S8kBX"
   },
   "source": [
    "## 9. Conclusion\n",
    "In this lesson, we introduced Python functions to import option data. Unlike stock data, option data is messier because there are many options for a single stock: calls and puts, different strikes, and different expiration times. In the next lesson, we'll look at option strategies."
   ]
  },
  {
   "cell_type": "markdown",
   "metadata": {
    "deletable": false,
    "editable": false,
    "id": "no1DyvFBGGZg"
   },
   "source": [
    "---\n",
    "Copyright 2023 WorldQuant University. This\n",
    "content is licensed solely for personal use. Redistribution or\n",
    "publication of this material is strictly prohibited.\n"
   ]
  }
 ],
 "metadata": {
  "colab": {
   "collapsed_sections": [
    "RDQQu5-j8L0k",
    "jcURw4b-8L0m",
    "9dsH-O_88L0o",
    "6c8nOTyb8L0p",
    "ZlB_9OW38L0q",
    "P_ZC607S8kBX"
   ],
   "provenance": [],
   "toc_visible": true
  },
  "kernelspec": {
   "display_name": "Python 3 (ipykernel)",
   "language": "python",
   "name": "python3"
  },
  "language_info": {
   "codemirror_mode": {
    "name": "ipython",
    "version": 3
   },
   "file_extension": ".py",
   "mimetype": "text/x-python",
   "name": "python",
   "nbconvert_exporter": "python",
   "pygments_lexer": "ipython3",
   "version": "3.9.6"
  }
 },
 "nbformat": 4,
 "nbformat_minor": 4
}
