{
 "cells": [
  {
   "cell_type": "markdown",
   "metadata": {
    "id": "yERt3vcK4nKy"
   },
   "source": [
    "\n",
    "##FINANCIAL DATA\n",
    "MODULE 4 | LESSON 4\n",
    "\n",
    "\n",
    "---\n"
   ]
  },
  {
   "cell_type": "markdown",
   "metadata": {
    "id": "R1OMoku3H3jb"
   },
   "source": [
    "# **COMPARING LEVERAGED STRATEGIES**"
   ]
  },
  {
   "cell_type": "markdown",
   "metadata": {
    "id": "jPCRyZ1aH9LY"
   },
   "source": [
    "|  |  |\n",
    "|:---|:---|\n",
    "|**Reading Time** |  30 minutes |\n",
    "|**Prior Knowledge** |Option payoffs, Option pricing using Python, Option strategies, P&L concepts, Leverage     |\n",
    "|**Keywords** |Bull Spread    |\n",
    "\n",
    "\n",
    "---"
   ]
  },
  {
   "cell_type": "markdown",
   "metadata": {
    "id": "o_sOpsPh4oOm"
   },
   "source": [
    "\n",
    "*In the previous module, we showed how to get option data imported into Python. This data included not only price, but bid and ask levels, volume and open interest, and implied volatility, among other fields. In this lesson, we compare different ways to enact a bullish trade, using different combinations of stocks, options, and leverage.*"
   ]
  },
  {
   "cell_type": "markdown",
   "metadata": {
    "id": "GdKZVi7O4AWh"
   },
   "source": [
    "## 1. Importing Real-Time Data"
   ]
  },
  {
   "cell_type": "markdown",
   "metadata": {
    "id": "4cNDRHig4AWj"
   },
   "source": [
    "In this lesson, let's get some real-time pricing of stocks and options."
   ]
  },
  {
   "cell_type": "code",
   "execution_count": null,
   "metadata": {
    "executionInfo": {
     "elapsed": 4190,
     "status": "ok",
     "timestamp": 1698954690908,
     "user": {
      "displayName": "Tea Toradze",
      "userId": "13683888799925082799"
     },
     "user_tz": 0
    },
    "id": "TSdptucC4AWk"
   },
   "outputs": [],
   "source": [
    "import math\n",
    "\n",
    "import opstrat as op\n",
    "import pandas as pd\n",
    "import requests\n",
    "import yfinance as yf\n",
    "from optionprice import Option\n",
    "from yahoo_fin import options"
   ]
  },
  {
   "cell_type": "code",
   "execution_count": null,
   "metadata": {
    "id": "IMKdD5qE4AWl"
   },
   "outputs": [],
   "source": [
    "# https://analyticsindiamag.com/top-python-libraries-to-get-historical-stock-data-with-code/\n",
    "\n",
    "# YOU CAN FIND YOUR OWN ALPHAVANTAGE KEY ON YOUR WQU PROFILE SETTINGS PAGE\n",
    "myApiKey = \"960c8de34c8a98412e839a5fbdfe0cd221f1a3c4c8c9d8d325fe57f8075993e906067d2dab584c82d65e03bced836f16a7a13608bd0cea16341dc327e575e7f484bfec871c14ad2efdb4776aa99c2ce8981e7be03467bf5df642de42876df30c32e58bb8084da9be41373c124a846a61aebe01d0321d66aa09dd87a38836e309\"\n",
    "\n",
    "# Endpoint for getting data from AlphaVantage\n",
    "url = (\n",
    "    \"https://www.alphavantage.co/query?\"\n",
    "    \"function=TIME_SERIES_DAILY&\"\n",
    "    \"symbol=NFLX&\"\n",
    "    f\"apikey={myApiKey}\"\n",
    ")\n",
    "\n",
    "# Make GET request\n",
    "response = requests.get(url=url)\n",
    "\n",
    "# Get stock data from response\n",
    "response_data = response.json()\n",
    "stock_data = response_data[\"Time Series (Daily)\"]\n",
    "\n",
    "# Load stock data into DataFrame\n",
    "df = pd.DataFrame.from_dict(stock_data, orient=\"index\", dtype=float)\n",
    "\n",
    "# Rename columns\n",
    "df.columns = [\"open\", \"high\", \"low\", \"close\", \"volume\"]\n",
    "\n",
    "# plotting the opening and closing value\n",
    "df[[\"close\"]].plot();"
   ]
  },
  {
   "cell_type": "markdown",
   "metadata": {
    "id": "MtEgkoRmk6zq"
   },
   "source": [
    "Note: This cell currently results an error due to subscription limitation associated with NFLX endpoint. AlphaVantage often revise API or plans requiring the code modifications after change. NFLX used to be on free plan but moved to premium. You can try for example 'IBM' ticker to test functionality in above code.\n",
    "\n",
    "We can alternatively use `yfinance` to get NFLX data."
   ]
  },
  {
   "cell_type": "code",
   "execution_count": null,
   "metadata": {
    "colab": {
     "base_uri": "https://localhost:8080/",
     "height": 440
    },
    "executionInfo": {
     "elapsed": 1974,
     "status": "ok",
     "timestamp": 1698955398093,
     "user": {
      "displayName": "Tea Toradze",
      "userId": "13683888799925082799"
     },
     "user_tz": 0
    },
    "id": "uiIAi8Cact6O",
    "outputId": "0e22b489-74b9-49b7-b5d9-1b614c09cb7e"
   },
   "outputs": [],
   "source": [
    "# Alternatively, we can use yfinance since NFLX close is given in its adjusted form.\n",
    "\n",
    "ts = yf.download(\"NFLX\")[\"Adj Close\"]\n",
    "\n",
    "ts.plot();"
   ]
  },
  {
   "cell_type": "markdown",
   "metadata": {
    "id": "YEAdGHmf4AWm"
   },
   "source": [
    "## 2. Overview of Strategies"
   ]
  },
  {
   "cell_type": "markdown",
   "metadata": {
    "id": "NTJK-E--4AWm"
   },
   "source": [
    "Suppose we have \\$100,000 to invest in a bullish strategy for Netflix.\n",
    "\n",
    "1. Buy stock using cash.\n",
    "2. Buy stock on margin.\n",
    "3. Buy a call option.\n",
    "4. Buy a bull spread (buy call at K, sell call at K+d).\n",
    "\n",
    "How much data do we need?\n",
    "In all cases, we certainly need to know the current stock price, specifically the ask price.\n",
    "For the cash stock strategies, all we need to know is the current ask price.\n",
    "For the financed stock strategy, we also need to know the financing rate.\n",
    "For the option strategies, we need to know the option chain."
   ]
  },
  {
   "cell_type": "markdown",
   "metadata": {
    "id": "5Hbli7Mo4AWm"
   },
   "source": [
    "## 3. Stock Strategy"
   ]
  },
  {
   "cell_type": "markdown",
   "metadata": {
    "id": "EDGPbwh84AWn"
   },
   "source": [
    "First, we'll begin with the stock strategy.\n",
    "Let's suppose you buy NFLX at 333, and you plan to sell it at 345."
   ]
  },
  {
   "cell_type": "code",
   "execution_count": null,
   "metadata": {
    "executionInfo": {
     "elapsed": 3,
     "status": "ok",
     "timestamp": 1698955403447,
     "user": {
      "displayName": "Tea Toradze",
      "userId": "13683888799925082799"
     },
     "user_tz": 0
    },
    "id": "oXSEvBfl4AWn"
   },
   "outputs": [],
   "source": [
    "nflx0 = 333\n",
    "nflx1 = 345"
   ]
  },
  {
   "cell_type": "code",
   "execution_count": null,
   "metadata": {
    "executionInfo": {
     "elapsed": 2,
     "status": "ok",
     "timestamp": 1698955404764,
     "user": {
      "displayName": "Tea Toradze",
      "userId": "13683888799925082799"
     },
     "user_tz": 0
    },
    "id": "6gVlLQeZ4AWo"
   },
   "outputs": [],
   "source": [
    "def BuyShares(capital, sharePrice):\n",
    "    return math.floor(capital / sharePrice)"
   ]
  },
  {
   "cell_type": "code",
   "execution_count": null,
   "metadata": {
    "colab": {
     "base_uri": "https://localhost:8080/"
    },
    "executionInfo": {
     "elapsed": 3,
     "status": "ok",
     "timestamp": 1698955406087,
     "user": {
      "displayName": "Tea Toradze",
      "userId": "13683888799925082799"
     },
     "user_tz": 0
    },
    "id": "GYkkVlVi4AWo",
    "outputId": "54c60e26-fa74-4b65-cbb6-bbac5d8c4c5d"
   },
   "outputs": [],
   "source": [
    "myCapital = 100000\n",
    "numShares = BuyShares(myCapital, nflx0)\n",
    "numShares"
   ]
  },
  {
   "cell_type": "code",
   "execution_count": null,
   "metadata": {
    "executionInfo": {
     "elapsed": 197,
     "status": "ok",
     "timestamp": 1698955408174,
     "user": {
      "displayName": "Tea Toradze",
      "userId": "13683888799925082799"
     },
     "user_tz": 0
    },
    "id": "yuNTiQfB4AWo"
   },
   "outputs": [],
   "source": [
    "def CalculatePnL(sellPrice, buyPrice, numShares):\n",
    "    return round(numShares * (sellPrice - buyPrice), 2)"
   ]
  },
  {
   "cell_type": "markdown",
   "metadata": {
    "id": "Njk2_V-v4AWp"
   },
   "source": [
    "You can buy 300 shares"
   ]
  },
  {
   "cell_type": "code",
   "execution_count": null,
   "metadata": {
    "colab": {
     "base_uri": "https://localhost:8080/"
    },
    "executionInfo": {
     "elapsed": 186,
     "status": "ok",
     "timestamp": 1698955410472,
     "user": {
      "displayName": "Tea Toradze",
      "userId": "13683888799925082799"
     },
     "user_tz": 0
    },
    "id": "4XO02avO4AWp",
    "outputId": "e554ea1a-8a87-4b99-c4bb-2af353d706d8"
   },
   "outputs": [],
   "source": [
    "cashStockPnL = CalculatePnL(nflx1, nflx0, numShares)\n",
    "cashStockPnL"
   ]
  },
  {
   "cell_type": "markdown",
   "metadata": {
    "id": "J8ATe5oH4AWp"
   },
   "source": [
    "You made \\$3,600. Let's write a quick function to compute percent return."
   ]
  },
  {
   "cell_type": "code",
   "execution_count": null,
   "metadata": {
    "executionInfo": {
     "elapsed": 215,
     "status": "ok",
     "timestamp": 1698955412772,
     "user": {
      "displayName": "Tea Toradze",
      "userId": "13683888799925082799"
     },
     "user_tz": 0
    },
    "id": "aowhIab14AWp"
   },
   "outputs": [],
   "source": [
    "def CalculatePctReturn(fundsOut, fundsIn):\n",
    "    return round(fundsOut / fundsIn * 100, 2)"
   ]
  },
  {
   "cell_type": "code",
   "execution_count": null,
   "metadata": {
    "colab": {
     "base_uri": "https://localhost:8080/"
    },
    "executionInfo": {
     "elapsed": 193,
     "status": "ok",
     "timestamp": 1698955414462,
     "user": {
      "displayName": "Tea Toradze",
      "userId": "13683888799925082799"
     },
     "user_tz": 0
    },
    "id": "wTte4tlL4AWq",
    "outputId": "112d87b2-90c7-4f23-db22-056ec7e6effc"
   },
   "outputs": [],
   "source": [
    "CalculatePctReturn(cashStockPnL, myCapital)"
   ]
  },
  {
   "cell_type": "markdown",
   "metadata": {
    "id": "TJvsG4it4AWq"
   },
   "source": [
    "The stock increased (345-333)/333 = 3.6%\n",
    "You bought the stock cash.\n",
    "Your investment earned 3.6%\n",
    "This is an example of no leverage.\n",
    "All the other examples involve some form of leverage.\n",
    "Consequently, they will have higher returns due to that leverage."
   ]
  },
  {
   "cell_type": "markdown",
   "metadata": {
    "id": "WqKIdMzD4AWq"
   },
   "source": [
    "## 4. Financed Stock Strategy"
   ]
  },
  {
   "cell_type": "markdown",
   "metadata": {
    "id": "6pmInhbX4AWq"
   },
   "source": [
    "Let's write a short function to calculate functions for buying stocks with borrowed funds."
   ]
  },
  {
   "cell_type": "code",
   "execution_count": null,
   "metadata": {
    "executionInfo": {
     "elapsed": 227,
     "status": "ok",
     "timestamp": 1698955418166,
     "user": {
      "displayName": "Tea Toradze",
      "userId": "13683888799925082799"
     },
     "user_tz": 0
    },
    "id": "vWBGvmn-4AWq"
   },
   "outputs": [],
   "source": [
    "def FinanceShares(capital, sharePrice, financePct=0.50):\n",
    "    return BuyShares(capital / financePct, sharePrice)"
   ]
  },
  {
   "cell_type": "code",
   "execution_count": null,
   "metadata": {
    "colab": {
     "base_uri": "https://localhost:8080/"
    },
    "executionInfo": {
     "elapsed": 191,
     "status": "ok",
     "timestamp": 1698955419432,
     "user": {
      "displayName": "Tea Toradze",
      "userId": "13683888799925082799"
     },
     "user_tz": 0
    },
    "id": "CBA9blwQ4AWq",
    "outputId": "261b082a-61e9-4fd4-b839-0ef7ec871fc4"
   },
   "outputs": [],
   "source": [
    "# We can finance 50% of our purchase.\n",
    "numLvgShares = FinanceShares(myCapital, nflx0)\n",
    "lvgPnL = CalculatePnL(nflx1, nflx0, numLvgShares)\n",
    "lvgPnL"
   ]
  },
  {
   "cell_type": "code",
   "execution_count": null,
   "metadata": {
    "colab": {
     "base_uri": "https://localhost:8080/"
    },
    "executionInfo": {
     "elapsed": 190,
     "status": "ok",
     "timestamp": 1698955420962,
     "user": {
      "displayName": "Tea Toradze",
      "userId": "13683888799925082799"
     },
     "user_tz": 0
    },
    "id": "vrUSxlKl4AWq",
    "outputId": "df83c18c-b554-4037-facc-ff0aafd52a8b"
   },
   "outputs": [],
   "source": [
    "CalculatePctReturn(lvgPnL, myCapital)"
   ]
  },
  {
   "cell_type": "markdown",
   "metadata": {
    "id": "-sxFPv8z4AWr"
   },
   "source": [
    "## 5. Call Option Strategy"
   ]
  },
  {
   "cell_type": "markdown",
   "metadata": {
    "id": "CSsew-SD4AWr"
   },
   "source": [
    "For the call option strategy, we have to select a call and an expiration date.\n",
    "Clearly, there are many choices.\n",
    "Suppose we think the stock will increase \\$10.\n",
    "\n",
    "It is prudent to purchase a call that is OTM (strike above the current stock, but not more than \\$10; otherwise, it will not be ITM.\n"
   ]
  },
  {
   "cell_type": "code",
   "execution_count": null,
   "metadata": {
    "colab": {
     "base_uri": "https://localhost:8080/"
    },
    "executionInfo": {
     "elapsed": 1183,
     "status": "ok",
     "timestamp": 1698955425600,
     "user": {
      "displayName": "Tea Toradze",
      "userId": "13683888799925082799"
     },
     "user_tz": 0
    },
    "id": "DUKaMy89CU-S",
    "outputId": "a183976d-98c3-4c0f-c05c-e836a8a355d3"
   },
   "outputs": [],
   "source": [
    "nflx_dates = options.get_expiration_dates(\"nflx\")\n",
    "print(len(nflx_dates))"
   ]
  },
  {
   "cell_type": "code",
   "execution_count": null,
   "metadata": {
    "colab": {
     "base_uri": "https://localhost:8080/"
    },
    "executionInfo": {
     "elapsed": 1213,
     "status": "ok",
     "timestamp": 1698955427828,
     "user": {
      "displayName": "Tea Toradze",
      "userId": "13683888799925082799"
     },
     "user_tz": 0
    },
    "id": "Ib1-qh8D4AWr",
    "outputId": "e919a307-dc7e-45ef-eabe-6a21c6d540f7"
   },
   "outputs": [],
   "source": [
    "try:\n",
    "    callsNflx = options.get_calls(\"nflx\")\n",
    "except:  # noQA E722\n",
    "    # to load data from local file in case of any disruptions\n",
    "    callsNflx = pd.read_csv(\"nflx_calls.csv\")\n",
    "\n",
    "list(callsNflx.columns)"
   ]
  },
  {
   "cell_type": "markdown",
   "metadata": {
    "id": "UEn5GThq4AWr"
   },
   "source": [
    "Let's choose a call option with a strike of 340."
   ]
  },
  {
   "cell_type": "code",
   "execution_count": null,
   "metadata": {
    "colab": {
     "base_uri": "https://localhost:8080/",
     "height": 115
    },
    "executionInfo": {
     "elapsed": 232,
     "status": "ok",
     "timestamp": 1698955430173,
     "user": {
      "displayName": "Tea Toradze",
      "userId": "13683888799925082799"
     },
     "user_tz": 0
    },
    "id": "6axyzp5J4AWr",
    "outputId": "e0097ccf-914a-4757-8d40-c5bf10fb3eb2"
   },
   "outputs": [],
   "source": [
    "myOption = callsNflx[(340 == callsNflx[\"Strike\"])]\n",
    "opt = myOption[\"Last Price\"]\n",
    "myOption"
   ]
  },
  {
   "cell_type": "code",
   "execution_count": null,
   "metadata": {
    "colab": {
     "base_uri": "https://localhost:8080/"
    },
    "executionInfo": {
     "elapsed": 186,
     "status": "ok",
     "timestamp": 1698955432155,
     "user": {
      "displayName": "Tea Toradze",
      "userId": "13683888799925082799"
     },
     "user_tz": 0
    },
    "id": "gYgI5GSH4AWr",
    "outputId": "0a2c023f-c6b2-4738-ec19-6e78213d874c"
   },
   "outputs": [],
   "source": [
    "nflxCall1 = Option(\n",
    "    european=True, kind=\"call\", s0=333, k=340, t=4, sigma=0.573, r=0.0, dv=0\n",
    ")\n",
    "nflxOpt1 = round(nflxCall1.getPrice() * 100, 2)\n",
    "nflxOpt1"
   ]
  },
  {
   "cell_type": "code",
   "execution_count": null,
   "metadata": {
    "colab": {
     "base_uri": "https://localhost:8080/"
    },
    "executionInfo": {
     "elapsed": 193,
     "status": "ok",
     "timestamp": 1698955434325,
     "user": {
      "displayName": "Tea Toradze",
      "userId": "13683888799925082799"
     },
     "user_tz": 0
    },
    "id": "Q4vdymvH4AWs",
    "outputId": "9e72a04c-f404-4485-fabf-c10e4cdf5e9c"
   },
   "outputs": [],
   "source": [
    "# Number of options we can buy\n",
    "numCallOptions = BuyShares(myCapital, nflxOpt1)\n",
    "numCallOptions"
   ]
  },
  {
   "cell_type": "markdown",
   "metadata": {
    "id": "l6-Cn3484AWs"
   },
   "source": [
    "We can buy 198 options; that's a lot of options! Now the stock price jumps to 345. Let's revalue the option at this new price."
   ]
  },
  {
   "cell_type": "code",
   "execution_count": null,
   "metadata": {
    "colab": {
     "base_uri": "https://localhost:8080/"
    },
    "executionInfo": {
     "elapsed": 186,
     "status": "ok",
     "timestamp": 1698955436296,
     "user": {
      "displayName": "Tea Toradze",
      "userId": "13683888799925082799"
     },
     "user_tz": 0
    },
    "id": "9u7ca35F4AWs",
    "outputId": "d27ba411-fb9c-46a8-9337-2d66b7f3092d"
   },
   "outputs": [],
   "source": [
    "nflxCall2 = Option(\n",
    "    european=True, kind=\"call\", s0=345, k=340, t=4, sigma=0.573, r=0.0, dv=0\n",
    ")\n",
    "nflxOpt2 = round(nflxCall2.getPrice() * 100, 2)\n",
    "nflxOpt2"
   ]
  },
  {
   "cell_type": "markdown",
   "metadata": {
    "id": "s9h8vPrE4AWs"
   },
   "source": [
    "Let's calculate the P&L."
   ]
  },
  {
   "cell_type": "code",
   "execution_count": null,
   "metadata": {
    "colab": {
     "base_uri": "https://localhost:8080/"
    },
    "executionInfo": {
     "elapsed": 193,
     "status": "ok",
     "timestamp": 1698955438070,
     "user": {
      "displayName": "Tea Toradze",
      "userId": "13683888799925082799"
     },
     "user_tz": 0
    },
    "id": "A_XVOuWrCU-T",
    "outputId": "222b604b-4089-4225-fa11-c04135f26872"
   },
   "outputs": [],
   "source": [
    "optPnL = CalculatePnL(nflxOpt2, nflxOpt1, numCallOptions)\n",
    "optPnL"
   ]
  },
  {
   "cell_type": "markdown",
   "metadata": {
    "id": "l0l4MDl_4AWs"
   },
   "source": [
    "Now, calculate the return."
   ]
  },
  {
   "cell_type": "code",
   "execution_count": null,
   "metadata": {
    "colab": {
     "base_uri": "https://localhost:8080/"
    },
    "executionInfo": {
     "elapsed": 207,
     "status": "ok",
     "timestamp": 1698955439736,
     "user": {
      "displayName": "Tea Toradze",
      "userId": "13683888799925082799"
     },
     "user_tz": 0
    },
    "id": "FXHBJzn54AWs",
    "outputId": "6d5de6b2-fe1a-4c5f-baf0-31b5731cd26f"
   },
   "outputs": [],
   "source": [
    "CalculatePctReturn(optPnL, myCapital)"
   ]
  },
  {
   "cell_type": "markdown",
   "metadata": {
    "id": "2olIIvTW4AWs"
   },
   "source": [
    "## 6. Bull Spread Strategy"
   ]
  },
  {
   "cell_type": "markdown",
   "metadata": {
    "id": "HXrCh3IJ4AWs"
   },
   "source": [
    "In this strategy, we buy a call option at 340 and sell one at 350.\n",
    "Let's price these options.<span style='color: transparent; font-size:1%'>All rights reserved WQU WorldQuant University QQQQ</span>"
   ]
  },
  {
   "cell_type": "code",
   "execution_count": null,
   "metadata": {
    "colab": {
     "base_uri": "https://localhost:8080/"
    },
    "executionInfo": {
     "elapsed": 185,
     "status": "ok",
     "timestamp": 1698955441708,
     "user": {
      "displayName": "Tea Toradze",
      "userId": "13683888799925082799"
     },
     "user_tz": 0
    },
    "id": "BqvXA-Tg4AWs",
    "outputId": "b1ea06b3-35b6-41d7-be0c-402bacc34522"
   },
   "outputs": [],
   "source": [
    "nflxCall1 = Option(\n",
    "    european=True, kind=\"call\", s0=333, k=340, t=4, sigma=0.573, r=0.0, dv=0\n",
    ")\n",
    "nflxOpt1 = round(nflxCall1.getPrice() * 100, 2)\n",
    "\n",
    "nflxCall2 = Option(\n",
    "    european=True, kind=\"call\", s0=333, k=350, t=4, sigma=0.573, r=0.0, dv=0\n",
    ")\n",
    "nflxOpt2 = round(nflxCall2.getPrice() * 100, 2)\n",
    "\n",
    "print([nflxOpt1, nflxOpt2])\n",
    "nflxSpr1 = nflxOpt1 - nflxOpt2"
   ]
  },
  {
   "cell_type": "markdown",
   "metadata": {
    "id": "TmOqU8bI4AWt"
   },
   "source": [
    "Let's use the `opstrat` package to view the payoff of the bull strategy."
   ]
  },
  {
   "cell_type": "code",
   "execution_count": null,
   "metadata": {
    "colab": {
     "base_uri": "https://localhost:8080/",
     "height": 592
    },
    "executionInfo": {
     "elapsed": 1491,
     "status": "ok",
     "timestamp": 1698955444945,
     "user": {
      "displayName": "Tea Toradze",
      "userId": "13683888799925082799"
     },
     "user_tz": 0
    },
    "id": "Sur7DL9N4AWt",
    "outputId": "ed2d9f90-164c-4dc8-f1fe-a503aa04e902"
   },
   "outputs": [],
   "source": [
    "myCall = {\"op_type\": \"c\", \"strike\": 340, \"tr_type\": \"b\", \"op_pr\": 5.0306}\n",
    "myPut = {\"op_type\": \"c\", \"strike\": 350, \"tr_type\": \"s\", \"op_pr\": 3.4836}\n",
    "op_list = [myCall, myPut]\n",
    "op.multi_plotter(spot=333, spot_range=10, op_list=op_list)"
   ]
  },
  {
   "cell_type": "markdown",
   "metadata": {
    "id": "U3F6c5304AWt"
   },
   "source": [
    "For each call option we buy, we need to sell one.\n",
    "The sale creates \\\\$233.33 per contract.\n",
    "The purchase costs \\\\$503.06 per contract.\n",
    "Therefore, the net price is \\\\$269.73.\n",
    "The bull spread costs a little more than half the amount that the regular call option costs. This is because we are \"rebated\" by selling a call that is further OTM."
   ]
  },
  {
   "cell_type": "code",
   "execution_count": null,
   "metadata": {
    "colab": {
     "base_uri": "https://localhost:8080/"
    },
    "executionInfo": {
     "elapsed": 10,
     "status": "ok",
     "timestamp": 1698955448071,
     "user": {
      "displayName": "Tea Toradze",
      "userId": "13683888799925082799"
     },
     "user_tz": 0
    },
    "id": "WKBeTdZx4AWt",
    "outputId": "28407fd6-7e2e-40bb-9ff4-eb5e009c2dbf"
   },
   "outputs": [],
   "source": [
    "# Number of spread options\n",
    "nflxOptB = nflxOpt1 - nflxOpt2\n",
    "numSpreadOptions = BuyShares(myCapital, nflxOptB)\n",
    "numSpreadOptions"
   ]
  },
  {
   "cell_type": "code",
   "execution_count": null,
   "metadata": {
    "colab": {
     "base_uri": "https://localhost:8080/"
    },
    "executionInfo": {
     "elapsed": 207,
     "status": "ok",
     "timestamp": 1698955449945,
     "user": {
      "displayName": "Tea Toradze",
      "userId": "13683888799925082799"
     },
     "user_tz": 0
    },
    "id": "xOgjNEK04AWt",
    "outputId": "b6ce94e2-9e79-4d65-c4b3-013856ba42b2"
   },
   "outputs": [],
   "source": [
    "nflxCall3 = Option(\n",
    "    european=True, kind=\"call\", s0=345, k=340, t=4, sigma=0.573, r=0.0, dv=0\n",
    ")\n",
    "nflxOpt3 = round(nflxCall3.getPrice() * 100, 2)\n",
    "\n",
    "nflxCall4 = Option(\n",
    "    european=True, kind=\"call\", s0=345, k=350, t=4, sigma=0.573, r=0.0, dv=0\n",
    ")\n",
    "nflxOpt4 = round(nflxCall4.getPrice() * 100, 2)\n",
    "\n",
    "print([nflxOpt3, nflxOpt4])\n",
    "nflxSpr2 = nflxOpt3 - nflxOpt4"
   ]
  },
  {
   "cell_type": "code",
   "execution_count": null,
   "metadata": {
    "colab": {
     "base_uri": "https://localhost:8080/"
    },
    "executionInfo": {
     "elapsed": 214,
     "status": "ok",
     "timestamp": 1698955452623,
     "user": {
      "displayName": "Tea Toradze",
      "userId": "13683888799925082799"
     },
     "user_tz": 0
    },
    "id": "XGdAtmWT4AWt",
    "outputId": "a050f3b5-82d2-49b6-923a-1845679ddb89"
   },
   "outputs": [],
   "source": [
    "sprPnL = CalculatePnL(nflxSpr2, nflxSpr1, numSpreadOptions)\n",
    "sprPnL"
   ]
  },
  {
   "cell_type": "code",
   "execution_count": null,
   "metadata": {
    "colab": {
     "base_uri": "https://localhost:8080/"
    },
    "executionInfo": {
     "elapsed": 188,
     "status": "ok",
     "timestamp": 1698955454091,
     "user": {
      "displayName": "Tea Toradze",
      "userId": "13683888799925082799"
     },
     "user_tz": 0
    },
    "id": "BKufUX6L4AWt",
    "outputId": "aacd07f0-2239-48e2-f974-0467705701af"
   },
   "outputs": [],
   "source": [
    "CalculatePctReturn(sprPnL, myCapital)"
   ]
  },
  {
   "cell_type": "markdown",
   "metadata": {
    "id": "k4rH7uS54AWt"
   },
   "source": [
    "## 7. Leverage"
   ]
  },
  {
   "cell_type": "markdown",
   "metadata": {
    "id": "698xG9CF4AWt"
   },
   "source": [
    "Stock              3.6%  </br>\n",
    "Financed Stock     7.2%  </br>\n",
    "Call Option       116.94%  </br>\n",
    "Bull Spread       80.9%   </br>\n",
    "\n",
    "Keep in mind that these options expire in four days.\n",
    "If the price does not move that much in a short time, we stand to lose 100% of the option investment. This is extremely risky.\n",
    "Of course, we could find options that have more time to expiration, which\n",
    "would be more expensive to buy but less risky since the extra time allows more volatility to take place.\n",
    "\n",
    "Nevertheless, the results are evident.\n",
    "The most leveraged position is the call option: It has the highest return.\n",
    "Options have built-in leverage because they control 100 shares of stock.\n",
    "\n",
    "The next most leveraged position is the bull spread: It has a long call option but is hedged by selling another call option. This limits the upside but is cheaper than merely buying the call option.\n",
    "\n",
    "The next most leveraged position is using the underlying. Borrowing money to buy assets is a different type of leverage; rather than through a multiplier, it is simply through the fact that the invested funds should earn a higher rate of return than the borrowed funds.\n",
    "\n",
    "The unleveraged position is simply trading the underlying without any financing. Leveraged returns attract institutional money for the potential of greater returns. Looking at data, such as the put call open interest ratio, tells us how the option traders are behaving through market data.\n",
    "\n",
    "There is much more data than just prices and returns. When you use derivatives, there are extraordinary amounts of data that indicate both sentiment and fear in the market. In future courses, we'll examine these in more detail, especially when we study implied volatility.\n"
   ]
  },
  {
   "cell_type": "markdown",
   "metadata": {
    "id": "toYWRcC35bJH"
   },
   "source": [
    "## 8. Conclusion\n",
    "\n",
    "In this lesson, we compared different ways to enact a bullish trade, using different combinations of stocks, options, and leverage. Leverage can work through borrowed funds or through a derivative controlling a multitude of underlying assets. In the next module, we expand our knowledge of Python to areas of securitization and credit."
   ]
  },
  {
   "cell_type": "markdown",
   "metadata": {
    "deletable": false,
    "editable": false,
    "id": "iLQXRYc-CU-d"
   },
   "source": [
    "---\n",
    "Copyright 2023 WorldQuant University. This\n",
    "content is licensed solely for personal use. Redistribution or\n",
    "publication of this material is strictly prohibited.\n"
   ]
  }
 ],
 "metadata": {
  "colab": {
   "provenance": [],
   "toc_visible": true
  },
  "kernelspec": {
   "display_name": "Python 3 (ipykernel)",
   "language": "python",
   "name": "python3"
  },
  "language_info": {
   "codemirror_mode": {
    "name": "ipython",
    "version": 3
   },
   "file_extension": ".py",
   "mimetype": "text/x-python",
   "name": "python",
   "nbconvert_exporter": "python",
   "pygments_lexer": "ipython3",
   "version": "3.8.13"
  }
 },
 "nbformat": 4,
 "nbformat_minor": 4
}
