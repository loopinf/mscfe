{
 "cells": [
  {
   "cell_type": "markdown",
   "metadata": {
    "id": "xw4kdyVgCevl"
   },
   "source": [
    "## FINANCIAL DATA\n",
    "\n",
    "MODULE 2 | LESSON 2\n",
    "\n",
    "\n",
    "---\n"
   ]
  },
  {
   "cell_type": "markdown",
   "metadata": {
    "id": "zbRqEDV0Cevn"
   },
   "source": [
    "# IDENTIFYING AND APPLYING RISK METRICS ASSOCIATED WITH FINANCIAL MARKETS"
   ]
  },
  {
   "cell_type": "markdown",
   "metadata": {
    "id": "-Qfetu9LCevn"
   },
   "source": [
    "|  |  |\n",
    "|:---|:---|\n",
    "|**Reading Time** |  30 minutes |\n",
    "|**Prior Knowledge** | Stock indices, Log return calculations  |\n",
    "|**Keywords** | Variance, Volatility, Standard Deviation, Moving Averages |\n",
    "\n",
    "---\n"
   ]
  },
  {
   "cell_type": "markdown",
   "metadata": {
    "id": "nY9d8XvwCevo"
   },
   "source": [
    "*In the previous lesson, we examined the returns of different asset classes and performed some basic price analysis. In this lesson, we will expand on what we learned in the previous lesson with a few custom volatility metrics, along with how to program them in Python. We'll also focus on the risk, or volatility of returns, of financial assets.*"
   ]
  },
  {
   "cell_type": "code",
   "execution_count": null,
   "metadata": {
    "executionInfo": {
     "elapsed": 2395,
     "status": "ok",
     "timestamp": 1698949522622,
     "user": {
      "displayName": "Tea Toradze",
      "userId": "13683888799925082799"
     },
     "user_tz": 0
    },
    "id": "GysJNwisCevo"
   },
   "outputs": [],
   "source": [
    "import datetime\n",
    "from datetime import date\n",
    "\n",
    "import numpy as np\n",
    "import pandas as pd\n",
    "import pandas_datareader.data as web\n",
    "import seaborn as sns\n",
    "import yfinance as yfin\n",
    "from IPython.display import VimeoVideo\n",
    "from matplotlib import pyplot as plt\n",
    "\n",
    "pd.options.display.float_format = \"{:,.3f}\".format\n",
    "yfin.pdr_override()"
   ]
  },
  {
   "cell_type": "markdown",
   "metadata": {
    "id": "oecyhHp-Cevp"
   },
   "source": [
    "## 1. Future Value of an Investment\n",
    "The S&P 500 consists of 500 large-cap companies. The index calculates weights according to market capitalization. This weighting is different from that in the Dow Jones Industrial Average, which is price weighted. The companies that make up this index are chosen by a committee, but companies must fit specific criteria before being included (Standard & Poor's):\n",
    "\n",
    "* Market capitalization must be greater than or equal to \\\\$13.1 billion.\n",
    "* Annual dollar value traded to float-adjusted market capitalization is greater than 1.0.\n",
    "* The minimum monthly trading volume is 250,000 shares in each of the six months leading up to the evaluation date.\n",
    "* The company must be publicly listed on either the New York Stock Exchange (NYSE), including NYSE Arca or NYSE American, or NASDAQ (NASDAQ Global Select Market, NASDAQ Select Market or the NASDAQ Capital Market).\n",
    "* The company should be from the U.S.\n",
    "* Securities that are ineligible for inclusion in the index are limited partnerships, master limited partnerships and their investment trust units, OTC Bulletin Board issues, closed-end funds, exchange-traded funds, exchange-traded notes, royalty trusts, tracking stocks, preferred stock, unit trusts, equity warrants, convertible bonds, investment trusts, American depositary receipts, and American depositary shares.\n",
    "* Since 2017, companies with dual share classes, like Standard & Poor's, are not added to the index.\n",
    "\n",
    "This will be used as our proxy for large-cap stocks.\n",
    "\n",
    "The Russell 2000 is an index that contains 2,000 small-cap companies and is frequently used as a benchmark by small-cap mutual funds for comparison purposes. The Russell 2000 is constructed to provide a barometer for small-cap stocks. It's reconstituted annually to ensure companies from the previous year don't get too large and distort the characteristics of small-caps (Maginn 118).\n",
    "\n",
    "The Russell 2000 Index will be used as our proxy for small-cap companies.\n",
    "\n",
    "One way to compare two investment opportunities is to determine the future value of an investment. There are always risks and many assumptions that need to be made when determining future value, especially for a risky investment like a stock. We will begin by using the average daily rate of return of each index to determine expected return. This is a simple way of thinking because it's impossible to say the next 10 years will be the same as the past 10 years, but it is a starting point when comparing investments. We will delve further into more advanced comparison metrics as the course goes on.\n",
    "\n",
    "**The formula for compound interest is:**\n",
    "\n",
    "$$FV = PV (1+i)^n$$\n",
    "\n",
    "where\n",
    "\n",
    "$FV$ = Future value  </br>\n",
    "$PV$ = Present value  </br>\n",
    "$i$ = Periodic interest rate  </br>\n",
    "$n$ = Number of periods  </br>\n"
   ]
  },
  {
   "cell_type": "markdown",
   "metadata": {
    "id": "df2c2Md6Cevq"
   },
   "source": [
    "### 1.1 Pull 10 years daily price data for S&P 500 and Russell 2000\n",
    "\n",
    "We're going to dig deeper into specific equities asset classes and compare them as potential investments. We will start by comparing large cap to small cap stocks using S&P 500 and the Russell 2000 Index.\n",
    "\n",
    "Throughout this lesson we will build towards a function here which takes a date range and compares two series of returns.\n"
   ]
  },
  {
   "cell_type": "code",
   "execution_count": null,
   "metadata": {
    "colab": {
     "base_uri": "https://localhost:8080/"
    },
    "executionInfo": {
     "elapsed": 1474,
     "status": "ok",
     "timestamp": 1698949528159,
     "user": {
      "displayName": "Tea Toradze",
      "userId": "13683888799925082799"
     },
     "user_tz": 0
    },
    "id": "dq6D4D4oCevq",
    "outputId": "661571d8-866f-4b1b-9f2a-62f015263ce0"
   },
   "outputs": [],
   "source": [
    "# start = datetime.date.today()-datetime.timedelta(365*10)\n",
    "# end = datetime.date.today()\n",
    "start = datetime.date(2011, 11, 25)\n",
    "end = datetime.date(2021, 11, 23)\n",
    "\n",
    "prices = web.DataReader([\"^GSPC\", \"^RUT\"], start, end)[\"Adj Close\"]\n",
    "\n",
    "# Rename column to make names more intuitive\n",
    "prices = prices.rename(columns={\"^GSPC\": \"SP500\", \"^RUT\": \"Russell2000\"})"
   ]
  },
  {
   "cell_type": "code",
   "execution_count": null,
   "metadata": {
    "colab": {
     "base_uri": "https://localhost:8080/",
     "height": 300
    },
    "executionInfo": {
     "elapsed": 224,
     "status": "ok",
     "timestamp": 1698949529842,
     "user": {
      "displayName": "Tea Toradze",
      "userId": "13683888799925082799"
     },
     "user_tz": 0
    },
    "id": "vz5MK1DRCevq",
    "outputId": "0422d138-ca9e-4e41-e44f-a43bf9273826"
   },
   "outputs": [],
   "source": [
    "prices.describe()"
   ]
  },
  {
   "cell_type": "code",
   "execution_count": null,
   "metadata": {
    "colab": {
     "base_uri": "https://localhost:8080/",
     "height": 237
    },
    "executionInfo": {
     "elapsed": 202,
     "status": "ok",
     "timestamp": 1698949532626,
     "user": {
      "displayName": "Tea Toradze",
      "userId": "13683888799925082799"
     },
     "user_tz": 0
    },
    "id": "42-EvnijCevr",
    "outputId": "38b1462c-2819-4b06-9d43-d0c06195ee08"
   },
   "outputs": [],
   "source": [
    "prices.head()"
   ]
  },
  {
   "cell_type": "markdown",
   "metadata": {
    "id": "oivrzt31Cevr"
   },
   "source": [
    "Once again, we can see these datasets have different starting points so the only way we can do a fair comparison is by comparing returns"
   ]
  },
  {
   "cell_type": "markdown",
   "metadata": {
    "id": "gLvlVMD6Cevs"
   },
   "source": [
    "### 1.2 Calculate log returns, remove unused columns, and drop nulls\n",
    "\n",
    "No nulls here for the weekend dates. Since S&P 500 and the Russell 2000 Index are both stock indices, the weekends are automatically removed."
   ]
  },
  {
   "cell_type": "code",
   "execution_count": null,
   "metadata": {
    "executionInfo": {
     "elapsed": 218,
     "status": "ok",
     "timestamp": 1698949536856,
     "user": {
      "displayName": "Tea Toradze",
      "userId": "13683888799925082799"
     },
     "user_tz": 0
    },
    "id": "02x8AvsDCevs"
   },
   "outputs": [],
   "source": [
    "df = np.log(prices) - np.log(prices.shift(1))\n",
    "df = df.iloc[1:, 0:]"
   ]
  },
  {
   "cell_type": "code",
   "execution_count": null,
   "metadata": {
    "colab": {
     "base_uri": "https://localhost:8080/",
     "height": 237
    },
    "executionInfo": {
     "elapsed": 209,
     "status": "ok",
     "timestamp": 1698949538278,
     "user": {
      "displayName": "Tea Toradze",
      "userId": "13683888799925082799"
     },
     "user_tz": 0
    },
    "id": "BcBpvZfDCevs",
    "outputId": "aba62417-2756-47d6-e8bc-b45ee5a7c5ef"
   },
   "outputs": [],
   "source": [
    "df.head()"
   ]
  },
  {
   "cell_type": "markdown",
   "metadata": {
    "id": "Nr8T74cNCevs"
   },
   "source": [
    "### 1.3 Calculating Future Value of each Index\n",
    "\n",
    "Once we get the daily returns in a DataFrame, df, we can use the mean() method in order to determine daily average returns. We calculate this over the last 10 years to determine our expected daily rate of return for our future value calculation. From here, we will assume a \\$1,000 investment for present value and plug these numbers into the interest rate parameter. If we assume a 10-year investment time frame and 252 trading days a year, the periods will be 10*252 = 2520."
   ]
  },
  {
   "cell_type": "code",
   "execution_count": null,
   "metadata": {
    "colab": {
     "base_uri": "https://localhost:8080/"
    },
    "executionInfo": {
     "elapsed": 205,
     "status": "ok",
     "timestamp": 1698949545821,
     "user": {
      "displayName": "Tea Toradze",
      "userId": "13683888799925082799"
     },
     "user_tz": 0
    },
    "id": "sfyB1SgZCevt",
    "outputId": "27c161d9-5495-48af-91f1-e3c02784ddbf"
   },
   "outputs": [],
   "source": [
    "df.mean() * 100"
   ]
  },
  {
   "cell_type": "markdown",
   "metadata": {
    "id": "8nr2DIOyCevt"
   },
   "source": [
    "Assuming mean of daily returns is the daily expected return going forward"
   ]
  },
  {
   "cell_type": "code",
   "execution_count": null,
   "metadata": {
    "colab": {
     "base_uri": "https://localhost:8080/"
    },
    "executionInfo": {
     "elapsed": 235,
     "status": "ok",
     "timestamp": 1698949547907,
     "user": {
      "displayName": "Tea Toradze",
      "userId": "13683888799925082799"
     },
     "user_tz": 0
    },
    "id": "eRshiuYcCevt",
    "outputId": "50667390-b2ff-4809-fd7e-8bbdb6ffa484"
   },
   "outputs": [],
   "source": [
    "np.exp(df.mean() * 252 * 10) * 1000"
   ]
  },
  {
   "cell_type": "markdown",
   "metadata": {
    "id": "CrRO1TnECevt"
   },
   "source": [
    "With our future value calculations, we're predicting a \\\\$1,000 investment in the S&P 500 today would yield a \\\\$4,055.15 future value and for the Russell 2000 a \\\\$3,510.16 future value.\n",
    "\n",
    "While future value is important when comparing investments, we also need to be concerned about how volatile these investment opportunities are. In the next section, we will discuss three different volatility metrics along with how to program them in Python."
   ]
  },
  {
   "cell_type": "markdown",
   "metadata": {
    "id": "PzqQh0D_Cevu"
   },
   "source": [
    "## 2. Investment Opportunities: Volatility\n",
    "### 2.1 Price Volatility: High-Low\n",
    "We will be using the prices DataFrame again to show some simple ways to compare the volatility of certain investments. The first method is comparing the high and low of the index. For this, we use the max() and min() methods to get the high and low over the duration of the DataFrame by column. From here, we can subtract these from each other to get an idea of the potential volatility of each investment."
   ]
  },
  {
   "cell_type": "code",
   "execution_count": null,
   "metadata": {
    "colab": {
     "base_uri": "https://localhost:8080/"
    },
    "executionInfo": {
     "elapsed": 215,
     "status": "ok",
     "timestamp": 1698949572100,
     "user": {
      "displayName": "Tea Toradze",
      "userId": "13683888799925082799"
     },
     "user_tz": 0
    },
    "id": "mGk1XwS5Cevu",
    "outputId": "99c242da-42eb-4b14-9a2a-69ab9f138100"
   },
   "outputs": [],
   "source": [
    "prices.max()"
   ]
  },
  {
   "cell_type": "code",
   "execution_count": null,
   "metadata": {
    "colab": {
     "base_uri": "https://localhost:8080/"
    },
    "executionInfo": {
     "elapsed": 3,
     "status": "ok",
     "timestamp": 1698949573319,
     "user": {
      "displayName": "Tea Toradze",
      "userId": "13683888799925082799"
     },
     "user_tz": 0
    },
    "id": "Xyp_mJ2qCevu",
    "outputId": "47291d2b-e9b3-4baa-c415-242b59eef3eb"
   },
   "outputs": [],
   "source": [
    "prices.min()"
   ]
  },
  {
   "cell_type": "code",
   "execution_count": null,
   "metadata": {
    "colab": {
     "base_uri": "https://localhost:8080/"
    },
    "executionInfo": {
     "elapsed": 271,
     "status": "ok",
     "timestamp": 1698949574713,
     "user": {
      "displayName": "Tea Toradze",
      "userId": "13683888799925082799"
     },
     "user_tz": 0
    },
    "id": "YLyCSpS2Cevu",
    "outputId": "7517c848-bba3-429d-8120-16378bd1bbe5"
   },
   "outputs": [],
   "source": [
    "prices.max() - prices.min()"
   ]
  },
  {
   "cell_type": "markdown",
   "metadata": {
    "id": "cIA6KbbQCevu"
   },
   "source": [
    "While some may find this useful, we definitely need to improve upon this metric to make it more useful when comparing different investments. How do you think we can do this? Let's try out two ideas.\n",
    "\n",
    "The first is changing the time frame slightly. Above, we're looking at the last 10 years of data. Perhaps it will be more useful to analyze more recent data. For this, we will look at the same metric over the last year:"
   ]
  },
  {
   "cell_type": "code",
   "execution_count": null,
   "metadata": {
    "colab": {
     "base_uri": "https://localhost:8080/"
    },
    "executionInfo": {
     "elapsed": 212,
     "status": "ok",
     "timestamp": 1698949584491,
     "user": {
      "displayName": "Tea Toradze",
      "userId": "13683888799925082799"
     },
     "user_tz": 0
    },
    "id": "hqQMuJJ6Cevv",
    "outputId": "2809c2db-79e9-4b1b-fd35-202b36c56643"
   },
   "outputs": [],
   "source": [
    "currYear = prices.loc[\n",
    "    date.today() - datetime.timedelta(365) : date.today()  # noqa E203\n",
    "]\n",
    "currYear.max() - currYear.min()"
   ]
  },
  {
   "cell_type": "markdown",
   "metadata": {
    "id": "ZsoWhCpkCevv"
   },
   "source": [
    "Even when comparing data over the last 365 days, it seems hard to do a comparison of these two datasets since they have different starting points. One final adjustment to this volatility metric could be to standardize it by dividing by the current price of the index:"
   ]
  },
  {
   "cell_type": "code",
   "execution_count": null,
   "metadata": {
    "colab": {
     "base_uri": "https://localhost:8080/"
    },
    "executionInfo": {
     "elapsed": 535,
     "status": "ok",
     "timestamp": 1698949587730,
     "user": {
      "displayName": "Tea Toradze",
      "userId": "13683888799925082799"
     },
     "user_tz": 0
    },
    "id": "peOrJfxWCevv",
    "outputId": "be3ff1d0-3ade-4568-af36-c938f2a6dd4c"
   },
   "outputs": [],
   "source": [
    "(currYear.max() - currYear.min()) / prices.iloc[-1]"
   ]
  },
  {
   "cell_type": "markdown",
   "metadata": {
    "id": "G7ryK4B2Cevv"
   },
   "source": [
    "Now that we have the data standardized by the current price, this high/low metric actually shows the Russell 2000 to be the more volatile investment. This is pretty much in line with what you would expect since the S&P 500 is mostly big established companies while the Russell 2000 is filled with small caps. Accordingly, you would expect business to be more turbulent and the stock prices to be more volatile.\n",
    "\n"
   ]
  },
  {
   "cell_type": "markdown",
   "metadata": {
    "id": "-HvdA1zMCevv"
   },
   "source": [
    "### 2.2 Moving Averages\n",
    "#### 2.2.1 50-Day Moving Average\n",
    "We are going to create a volatility metric that compares each day's price to the moving average. The 50- and 200-day averages are commonly used when comparing investments. For our metric, we will use the 50-day average. Here is an example of how we can chart the S&P 500 along with its 50-day moving average:"
   ]
  },
  {
   "cell_type": "code",
   "execution_count": null,
   "metadata": {
    "colab": {
     "base_uri": "https://localhost:8080/",
     "height": 443
    },
    "executionInfo": {
     "elapsed": 951,
     "status": "ok",
     "timestamp": 1698949594194,
     "user": {
      "displayName": "Tea Toradze",
      "userId": "13683888799925082799"
     },
     "user_tz": 0
    },
    "id": "W9QCtnniCevw",
    "outputId": "0a4bc385-2d71-458c-b4bd-3fe2d3116a9a"
   },
   "outputs": [],
   "source": [
    "prices[\"SP500 50 day_rolling_avg\"] = prices.SP500.rolling(50).mean()\n",
    "\n",
    "# set figure size\n",
    "plt.figure(figsize=(12, 5))\n",
    "\n",
    "# plot a simple time series plot using seaborn.lineplot()\n",
    "sns.lineplot(x=\"Date\", y=\"SP500\", data=prices, label=\"Daily S&P 500 Prices\")\n",
    "\n",
    "# plot rolling average\n",
    "sns.lineplot(x=\"Date\", y=\"SP500 50 day_rolling_avg\", data=prices, label=\"Rollingavg\");"
   ]
  },
  {
   "cell_type": "markdown",
   "metadata": {
    "id": "x3VVcLNUCevw"
   },
   "source": [
    "#### 2.2.2 50-Day Rolling Distance\n",
    "We can create a volatility metric here using this moving average. Let's imagine we were taking the distance between the moving average line and each data point from the S&P 500 chart. We can use this as a proxy for volatility. We also would want to treat the negative differences the same as the positive differences; otherwise, they may cancel each other out. As such, we will use the absolute value of each point. We will divide these differences by the prices in order to standardize these values, and finally, we'll take the average of those values. This can be programmed in Python with this simple line:"
   ]
  },
  {
   "cell_type": "code",
   "execution_count": null,
   "metadata": {
    "colab": {
     "base_uri": "https://localhost:8080/"
    },
    "executionInfo": {
     "elapsed": 273,
     "status": "ok",
     "timestamp": 1698949598607,
     "user": {
      "displayName": "Tea Toradze",
      "userId": "13683888799925082799"
     },
     "user_tz": 0
    },
    "id": "76BvnAmICevw",
    "outputId": "081da305-05d7-48e2-a17c-b120ffc5936f"
   },
   "outputs": [],
   "source": [
    "((abs(prices - prices.rolling(50).mean())) / prices).mean()"
   ]
  },
  {
   "cell_type": "markdown",
   "metadata": {
    "id": "FQTo32hACevw"
   },
   "source": [
    "Even though this is a different metric than the high/low metric we previously calculated, it shows the same result: The Russell 2000 has been more volatile than the S&P 500 over the last 10 years.\n",
    "\n",
    "In the first video of this lesson, we will recap the risk metrics we've written thus far and show how we can use them in Python."
   ]
  },
  {
   "cell_type": "code",
   "execution_count": null,
   "metadata": {
    "colab": {
     "base_uri": "https://localhost:8080/",
     "height": 321
    },
    "executionInfo": {
     "elapsed": 414,
     "status": "ok",
     "timestamp": 1697621624781,
     "user": {
      "displayName": "Christos Koutkos",
      "userId": "05788829401179389824"
     },
     "user_tz": -180
    },
    "id": "sVRjR0I3Cevx",
    "outputId": "3f08c1c5-67cc-464f-9e50-ba8f93293595"
   },
   "outputs": [],
   "source": [
    "VimeoVideo(\"706651510\", h=\"e6511ea8b5\", width=600)"
   ]
  },
  {
   "cell_type": "markdown",
   "metadata": {
    "id": "6AeyM9fRCevx"
   },
   "source": [
    "##### [Access video transcript here](https://drive.google.com/file/d/1a48fxAGWt2gibIXJ7VJD_u2ASuBWIEeC/view?usp=sharing)"
   ]
  },
  {
   "cell_type": "markdown",
   "metadata": {
    "id": "CZgIo0WyCevx"
   },
   "source": [
    "### 2.3 Price Volatility: Standard Deviations\n",
    "Standard deviation is potentially the most popular volatility metric used when looking at an investment opportunity. It's as simple as calling the std() method on a DataFrame."
   ]
  },
  {
   "cell_type": "code",
   "execution_count": null,
   "metadata": {
    "colab": {
     "base_uri": "https://localhost:8080/"
    },
    "executionInfo": {
     "elapsed": 328,
     "status": "ok",
     "timestamp": 1698949603767,
     "user": {
      "displayName": "Tea Toradze",
      "userId": "13683888799925082799"
     },
     "user_tz": 0
    },
    "id": "Qr2pcDPzCevx",
    "outputId": "f4d6b77b-cc98-44cf-d398-39bf2c4bbbc6"
   },
   "outputs": [],
   "source": [
    "prices.std()"
   ]
  },
  {
   "cell_type": "markdown",
   "metadata": {
    "id": "2pWIBgRJCevy"
   },
   "source": [
    "As mentioned before, calling this on the prices is not as intuitive as calling this on the returns since prices start at different points. For a better comparison, we will call this std() method on the daily returns of the last 10 years:"
   ]
  },
  {
   "cell_type": "code",
   "execution_count": null,
   "metadata": {
    "colab": {
     "base_uri": "https://localhost:8080/"
    },
    "executionInfo": {
     "elapsed": 187,
     "status": "ok",
     "timestamp": 1698949605432,
     "user": {
      "displayName": "Tea Toradze",
      "userId": "13683888799925082799"
     },
     "user_tz": 0
    },
    "id": "YQ8ScWzsCevy",
    "outputId": "f571efd1-939a-4478-b14d-0361c0ad8177"
   },
   "outputs": [],
   "source": [
    "df.std()"
   ]
  },
  {
   "cell_type": "markdown",
   "metadata": {
    "id": "tZLNl0S1Cevy"
   },
   "source": [
    "All three of our volatility metrics, albeit slightly similar, show us that the Russell 2000 Index has been more volatile over the last 10 years than the S&P 500.\n",
    "\n"
   ]
  },
  {
   "cell_type": "markdown",
   "metadata": {
    "id": "8HgloBT-Cevz"
   },
   "source": [
    "### 2.4 Writing a Comparison Function in Python\n",
    "To tie it all together, we're going to take the three volatility metrics we've used up to this point, along with average daily return, and write a function, which takes:\n",
    "\n",
    "* `startTime` - `dateTime` format\n",
    "* `endTime` - `dateTime` format\n",
    "* `tickers` - a dictionary of values where the key is the yahoo ticker and the value is the display name i.e. {\"^GSPC\": \"SP500\", \"^RUT\": \"Russell2000\"}\n",
    "\n",
    "By writing a function like this, it allows our research to be reproducible and applicable to many different parameters. In our case, it will be a date range and dictionary of tickers. If you were writing a serious application, you would need to have lots of error handling in this function, such as guaranteeing that parameters passed in are of the correct type. In our case, we will assume the data types of parameters are correct and that the date range is longer than 365 days."
   ]
  },
  {
   "cell_type": "code",
   "execution_count": null,
   "metadata": {
    "executionInfo": {
     "elapsed": 324,
     "status": "ok",
     "timestamp": 1698949610301,
     "user": {
      "displayName": "Tea Toradze",
      "userId": "13683888799925082799"
     },
     "user_tz": 0
    },
    "id": "dGFDOcshCevz"
   },
   "outputs": [],
   "source": [
    "def investCompare(startTime, endTime, tickers):\n",
    "    # pull price data from yahoo -- (list(tickers.keys())) = ['^GSPC','^RUT']\n",
    "    prices = web.DataReader(list(tickers.keys()), startTime, endTime)[\"Adj Close\"]\n",
    "    prices = prices.rename(columns=tickers)\n",
    "    returns = np.log(prices) - np.log(prices.shift(1))\n",
    "    returns = returns.iloc[1:, 0:]\n",
    "\n",
    "    # pull data into separate DataFrame, 52weeks to just look at the last 365 days of\n",
    "    # data for calculating our high/low metric\n",
    "    currYear = prices.loc[\n",
    "        date.today() - datetime.timedelta(365) : date.today()  # noqa E203\n",
    "    ]\n",
    "    highLow = (currYear.max() - currYear.min()) / prices.iloc[-1]\n",
    "    highLow = pd.DataFrame(highLow, columns=[\"HighMinusLow\"])\n",
    "\n",
    "    # Moving average volatility\n",
    "    MA = pd.DataFrame(\n",
    "        ((abs(prices - prices.rolling(50).mean())) / prices).mean(),\n",
    "        columns=[\"MovingAverageVolatility\"],\n",
    "    )\n",
    "\n",
    "    investments = pd.merge(highLow, MA, left_index=True, right_index=True)\n",
    "    investments = pd.merge(\n",
    "        investments,\n",
    "        pd.DataFrame(returns.std(), columns=[\"StandardDeviation\"]),\n",
    "        left_index=True,\n",
    "        right_index=True,\n",
    "    )\n",
    "    investments = pd.merge(\n",
    "        investments,\n",
    "        pd.DataFrame(100 * returns.mean(), columns=[\"Daily Return Percentage\"]),\n",
    "        left_index=True,\n",
    "        right_index=True,\n",
    "    )\n",
    "\n",
    "    return investments.round(3)"
   ]
  },
  {
   "cell_type": "markdown",
   "metadata": {
    "id": "RaxRaNv0Cevz"
   },
   "source": [
    "### 2.5 Trying It Out\n",
    "We will start by calling our function with the two indices we've been examining thus far: the S&P 500 alongside the Russell 2000 Index. As we've seen, the three volatility metrics showed the Russell 2000 to be the more volatile investment. The average daily return is also higher for the S&P 500. Therefore, over the last 10 years not only has the S&P 500 returned better than the Russell 2000, but it was also less volatile. Keep in mind that these different volatility metrics all calculate in some way how turbulently the stock has behaved in the past. This exercise was intended to demonstrate different ways of calculating volatility and how you can be a bit creative with it. This doesn't mean that volatility is constant or easily predictable, behaving the same way going forward; this exercise only reflects the past."
   ]
  },
  {
   "cell_type": "code",
   "execution_count": null,
   "metadata": {
    "colab": {
     "base_uri": "https://localhost:8080/",
     "height": 130
    },
    "executionInfo": {
     "elapsed": 997,
     "status": "ok",
     "timestamp": 1698949615784,
     "user": {
      "displayName": "Tea Toradze",
      "userId": "13683888799925082799"
     },
     "user_tz": 0
    },
    "id": "IzOBFEkLCevz",
    "outputId": "71d5625b-951c-4ef0-95bc-b3733a0108b8"
   },
   "outputs": [],
   "source": [
    "investCompare(\n",
    "    datetime.date(2020, 1, 1),\n",
    "    datetime.date.today(),\n",
    "    {\"^GSPC\": \"SP500\", \"^RUT\": \"Russell2000\"},\n",
    ")"
   ]
  },
  {
   "cell_type": "markdown",
   "metadata": {
    "id": "rd5Y4fBwCevz"
   },
   "source": [
    "This function gives us one clean space to compare investments in one line.\n",
    "\n",
    "We also want to show that we made the function flexible in order to add symbols in the future. In the example below, we added Apple to the DataFrame in order to compare it to the other two indices."
   ]
  },
  {
   "cell_type": "code",
   "execution_count": null,
   "metadata": {
    "colab": {
     "base_uri": "https://localhost:8080/",
     "height": 162
    },
    "executionInfo": {
     "elapsed": 1621,
     "status": "ok",
     "timestamp": 1698949619812,
     "user": {
      "displayName": "Tea Toradze",
      "userId": "13683888799925082799"
     },
     "user_tz": 0
    },
    "id": "UOFL72dGCev0",
    "outputId": "5323a0ef-bf47-4e9d-8f94-95bb53ea7fea"
   },
   "outputs": [],
   "source": [
    "investCompare(\n",
    "    datetime.date(2020, 1, 1),\n",
    "    datetime.date.today(),\n",
    "    {\"^GSPC\": \"SP500\", \"^RUT\": \"Russell2000\", \"AAPL\": \"Apple\"},\n",
    ")"
   ]
  },
  {
   "cell_type": "markdown",
   "metadata": {
    "id": "NG5bTUwkCev0"
   },
   "source": [
    "These metrics show Apple to be a better investment in terms of daily return, but they also show that Apple is significantly more volatile than the two indices. This is expected, since the indices represent vast baskets of stock. With many stocks moving in different directions, you'd expect the indices to be less volatile than an individual stock, even a blue-chip stock like Apple.\n",
    "\n",
    "In the next video, we will combine all of the risk metrics we've created so far and wrap them up tidily into a function that can be reused going forward."
   ]
  },
  {
   "cell_type": "code",
   "execution_count": null,
   "metadata": {
    "colab": {
     "base_uri": "https://localhost:8080/",
     "height": 321
    },
    "executionInfo": {
     "elapsed": 408,
     "status": "ok",
     "timestamp": 1697553988706,
     "user": {
      "displayName": "Tea Toradze",
      "userId": "13683888799925082799"
     },
     "user_tz": -60
    },
    "id": "u1K3IBD2Cev0",
    "outputId": "c7d9e0ef-f1c5-4ba0-e95a-11ac6e247e46"
   },
   "outputs": [],
   "source": [
    "VimeoVideo(\"706651724\", h=\"836ae485f0\", width=600)"
   ]
  },
  {
   "cell_type": "markdown",
   "metadata": {
    "id": "d7ATWPr0Cev0"
   },
   "source": [
    "##### [Access video transcript here](https://drive.google.com/file/d/1na-nRzhNunGctPmXHUKAwAuASjxF3d3x/view?usp=sharing)"
   ]
  },
  {
   "cell_type": "markdown",
   "metadata": {
    "id": "bkddbakGCev0"
   },
   "source": [
    "## 2.6 Comparing Growth vs. Value stocks\n",
    "We can continue using the function we just wrote to examine and compare different categories of investments, starting here with growth vs. value stocks. As a proxy for growth stocks, we will use the Vanguard Growth ETF (VUG). VUG is one of the biggest growth ETFs with around \\\\$87 billion in assets under management. For value stocks, we will use the Vanguard Value ETF (VTV). VTV is the most prominent value ETF with \\\\$88 billion in assets under management. As you may imagine by now, Vanguard is a popular purveyor of ETFs and has some of the lowest expense ratios in the industry."
   ]
  },
  {
   "cell_type": "code",
   "execution_count": null,
   "metadata": {
    "colab": {
     "base_uri": "https://localhost:8080/",
     "height": 130
    },
    "executionInfo": {
     "elapsed": 919,
     "status": "ok",
     "timestamp": 1698949624434,
     "user": {
      "displayName": "Tea Toradze",
      "userId": "13683888799925082799"
     },
     "user_tz": 0
    },
    "id": "mMp3gCGtCev0",
    "outputId": "8a0b0d51-949c-4d8b-86cc-89e1d33254a0"
   },
   "outputs": [],
   "source": [
    "investCompare(\n",
    "    datetime.date(2020, 1, 1), datetime.date.today(), {\"VUG\": \"Growth\", \"VTV\": \"Value\"}\n",
    ")"
   ]
  },
  {
   "cell_type": "markdown",
   "metadata": {
    "id": "_F3bQ6d8Cev1"
   },
   "source": [
    "Running `investCompare` over the last two years for these ETFs shows that growth stocks have clearly outperformed value stocks in terms of returns—but not without increased volatility. We need to keep in mind that time frames have a large influence on our results here. Let's take a look at the data since 2010:"
   ]
  },
  {
   "cell_type": "code",
   "execution_count": null,
   "metadata": {
    "colab": {
     "base_uri": "https://localhost:8080/",
     "height": 130
    },
    "executionInfo": {
     "elapsed": 833,
     "status": "ok",
     "timestamp": 1698949628881,
     "user": {
      "displayName": "Tea Toradze",
      "userId": "13683888799925082799"
     },
     "user_tz": 0
    },
    "id": "-TR4OPVyCev1",
    "outputId": "dfa052f6-564d-4fad-c157-add436fb244e"
   },
   "outputs": [],
   "source": [
    "investCompare(\n",
    "    datetime.date(2010, 1, 1), datetime.date.today(), {\"VUG\": \"Growth\", \"VTV\": \"Value\"}\n",
    ")"
   ]
  },
  {
   "cell_type": "markdown",
   "metadata": {
    "id": "dZLETrgmCev1"
   },
   "source": [
    "We do see quite similar results here, with the daily returns of the growth ETF coming down to earth a bit. Growth stocks tend to be more volatile in general, and the proof can be seen empirically here."
   ]
  },
  {
   "cell_type": "markdown",
   "metadata": {
    "id": "D2JFyfgcCev1"
   },
   "source": [
    "## 2.7 Comparing Domestic vs. Foreign Stocks\n",
    "We will use the S&P 500 once again for U.S. stocks while finding an ETF for the foreign stocks. There are tons of options to choose from in this space.\n",
    "\n",
    "The first question you need to ask yourself is where do you want to invest? It could be emerging markets, Europe, China, etc. To make things simple, we will use one example that is specific to Europe, ETF: SPDR Portfolio Europe ETF (SPEU), and one example that is specific to China, ETF: SPDR S&P China ETF (GXC)."
   ]
  },
  {
   "cell_type": "code",
   "execution_count": null,
   "metadata": {
    "colab": {
     "base_uri": "https://localhost:8080/",
     "height": 162
    },
    "executionInfo": {
     "elapsed": 1148,
     "status": "ok",
     "timestamp": 1698949633768,
     "user": {
      "displayName": "Tea Toradze",
      "userId": "13683888799925082799"
     },
     "user_tz": 0
    },
    "id": "eCFjZd_ZCev2",
    "outputId": "c5d60f30-bd73-4176-8d52-36c50e2860c4"
   },
   "outputs": [],
   "source": [
    "investCompare(\n",
    "    datetime.date(2020, 1, 1),\n",
    "    datetime.date.today(),\n",
    "    {\"^GSPC\": \"SP500\", \"SPEU\": \"Europe ETF\", \"GXC\": \"China ETF\"},\n",
    ")"
   ]
  },
  {
   "cell_type": "markdown",
   "metadata": {
    "id": "vN6JhbFJCev2"
   },
   "source": [
    "Since the start of 2020, U.S. stocks have had the best daily returns by a solid margin with lower volatility than Europe and China. Hindsight is 20/20, but this makes a clear case for U.S. equities being the best investment over the last two years. If we zoom out and look at the data since 2010, we'll see the following:"
   ]
  },
  {
   "cell_type": "code",
   "execution_count": null,
   "metadata": {
    "colab": {
     "base_uri": "https://localhost:8080/",
     "height": 162
    },
    "executionInfo": {
     "elapsed": 1171,
     "status": "ok",
     "timestamp": 1698949638044,
     "user": {
      "displayName": "Tea Toradze",
      "userId": "13683888799925082799"
     },
     "user_tz": 0
    },
    "id": "L2pKVLu1Cev2",
    "outputId": "f6d08cf9-8e5d-4e28-d98d-994e5b5677f9"
   },
   "outputs": [],
   "source": [
    "investCompare(\n",
    "    datetime.date(2010, 1, 1),\n",
    "    datetime.date.today(),\n",
    "    {\"^GSPC\": \"SP500\", \"SPEU\": \"Europe ETF\", \"GXC\": \"China ETF\"},\n",
    ")"
   ]
  },
  {
   "cell_type": "markdown",
   "metadata": {
    "id": "FVv_ytyeCev2"
   },
   "source": [
    "The above makes an even better case for U.S. equities over the last 10 years. That being said, this is no guarantee that the next 10 years will look the same. Past performance is no guarantee of future results."
   ]
  },
  {
   "cell_type": "markdown",
   "metadata": {
    "id": "EHcVv9zhCev2"
   },
   "source": [
    "## 3. Conclusion\n",
    "\n",
    "In this lesson, we compared returns of different investment opportunities, and we used Python to illustrate different ways of calculating the volatility of investments. Keep these lessons in mind as we delve deeper into the connection between volatility and return in the next lesson. Up next, we'll expand this analysis by also taking into account the returns of different investments."
   ]
  },
  {
   "cell_type": "markdown",
   "metadata": {
    "id": "iIGj0qLkCev2"
   },
   "source": [
    "**References**\n",
    "\n",
    "- Standard & Poor's. *S&P U.S. Indices Methodology*, Standard & Poor's, Nov. 2021, https://www.spglobal.com/spdji/en/documents/methodologies/methodology-sp-us-indices.pdf\n",
    "\n",
    "- Maginn, John L. *Managing Investment Portfolios Workbook: A Dynamic Process*. John Wiley & Sons, Inc., 2007.<span style='color: transparent; font-size:1%'>All rights reserved WQU WorldQuant University QQQQ</span>"
   ]
  },
  {
   "cell_type": "markdown",
   "metadata": {
    "deletable": false,
    "editable": false,
    "id": "EqpCm0NcCev3"
   },
   "source": [
    "---\n",
    "Copyright 2023 WorldQuant University. This\n",
    "content is licensed solely for personal use. Redistribution or\n",
    "publication of this material is strictly prohibited.\n"
   ]
  },
  {
   "cell_type": "markdown",
   "id": "7cae3d32",
   "metadata": {
    "deletable": false,
    "editable": false
   },
   "source": [
    "---\n",
    "Copyright 2023 WorldQuant University. This\n",
    "content is licensed solely for personal use. Redistribution or\n",
    "publication of this material is strictly prohibited.\n"
   ]
  }
 ],
 "metadata": {
  "colab": {
   "provenance": []
  },
  "kernelspec": {
   "display_name": "Python 3 (ipykernel)",
   "language": "python",
   "name": "python3"
  },
  "language_info": {
   "codemirror_mode": {
    "name": "ipython",
    "version": 3
   },
   "file_extension": ".py",
   "mimetype": "text/x-python",
   "name": "python",
   "nbconvert_exporter": "python",
   "pygments_lexer": "ipython3",
   "version": "3.9.6"
  }
 },
 "nbformat": 4,
 "nbformat_minor": 4
}
